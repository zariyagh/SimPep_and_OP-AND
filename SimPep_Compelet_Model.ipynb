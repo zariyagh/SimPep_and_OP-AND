{
  "cells": [
    {
      "cell_type": "markdown",
      "metadata": {
        "id": "view-in-github",
        "colab_type": "text"
      },
      "source": [
        "<a href=\"https://colab.research.google.com/github/zariyagh/SimPep_and_OP-AND/blob/main/SimPep_Complet_Model.ipynb\" target=\"_parent\"><img src=\"https://colab.research.google.com/assets/colab-badge.svg\" alt=\"Open In Colab\"/></a>"
      ]
    },
    {
      "cell_type": "markdown",
      "metadata": {
        "id": "5WyK-SOaWwIw"
      },
      "source": [
        "# Configuration file creation"
      ]
    },
    {
      "cell_type": "code",
      "execution_count": 24,
      "metadata": {
        "colab": {
          "base_uri": "https://localhost:8080/"
        },
        "id": "-h0SfpoXtEZr",
        "outputId": "834a5d34-ad8a-4751-caad-eeff9aff0859"
      },
      "outputs": [
        {
          "output_type": "stream",
          "name": "stdout",
          "text": [
            "Drive already mounted at /content/drive; to attempt to forcibly remount, call drive.mount(\"/content/drive\", force_remount=True).\n"
          ]
        }
      ],
      "source": [
        "import numpy as np\n",
        "import tensorflow as tf\n",
        "from sklearn.model_selection import train_test_split\n",
        "import random\n",
        "from google.colab import drive\n",
        "drive.mount('/content/drive')\n",
        "import pandas as pd\n",
        "from sklearn import metrics\n",
        "from sklearn.metrics import confusion_matrix\n",
        "from tensorflow.keras.layers import Input\n",
        "from tensorflow.keras import backend as K\n",
        "from tensorflow.keras.optimizers import Adam, SGD\n",
        "from tensorflow.keras.utils import plot_model\n",
        "import sys\n",
        "import torch\n",
        "from transformers import AutoTokenizer, AutoModel, BertTokenizer, BertModel\n",
        "import re\n",
        "import numpy as np\n",
        "import os\n",
        "import requests\n",
        "from tqdm.auto import tqdm\n"
      ]
    },
    {
      "cell_type": "markdown",
      "metadata": {
        "id": "21sm_CW_s5gd"
      },
      "source": [
        "# Functions"
      ]
    },
    {
      "cell_type": "code",
      "execution_count": 3,
      "metadata": {
        "id": "N4arnRQaZScq"
      },
      "outputs": [],
      "source": [
        "#\n",
        "def makedatasetPos(data):\n",
        "  dataset=[]\n",
        "  label=[]\n",
        "  for i in range(len(data)):\n",
        "    for j in range(i+1,len(data)):\n",
        "      dataset.append(np.concatenate((data[i],data[j]), axis=None))\n",
        "      label.append(1)\n",
        "      #dataset.append(np.concatenate((data[j],data[i]), axis=None))\n",
        "      #label.append(1)\n",
        "  return(dataset,label)"
      ]
    },
    {
      "cell_type": "code",
      "execution_count": 4,
      "metadata": {
        "id": "-qUrMMrsaTh6"
      },
      "outputs": [],
      "source": [
        "\n",
        "def makedatasetNeg(data1,data2):\n",
        "  dataset=[]\n",
        "  label=[]\n",
        "  for i in range(len(data1)):\n",
        "    for j in range(len(data2)):\n",
        "      dataset.append(np.concatenate((data1[i],data2[j]), axis=None))\n",
        "      label.append(0)\n",
        "      #dataset.append(np.concatenate((data2[j],data1[i]), axis=None))\n",
        "      #label.append(0)\n",
        "  return(dataset,label)"
      ]
    },
    {
      "cell_type": "code",
      "execution_count": 5,
      "metadata": {
        "id": "4a0Ge_v4-Jrp"
      },
      "outputs": [],
      "source": [
        "def InternalTest(x1_test,x0_test):\n",
        "  dataset_test2=[]    #concat test\n",
        "  label_test2=[]\n",
        "  for i in range(len(x0_test)):\n",
        "    for j in range(i+1,len(x0_test)):\n",
        "      dataset_test2.append(np.concatenate((x0_test[i],x0_test[j]), axis=None))\n",
        "      label_test2.append(1)\n",
        "\n",
        "  for i in range(len(x1_test)):\n",
        "    for j in range(i+1,len(x1_test)):\n",
        "      dataset_test2.append(np.concatenate((x1_test[i],x1_test[j]), axis=None))\n",
        "      label_test2.append(1)\n",
        "\n",
        "  for i in range(len(x0_test)):\n",
        "    for j in range(len(x1_test)):\n",
        "      dataset_test2.append(np.concatenate((x0_test[i],x1_test[j]), axis=None))\n",
        "      label_test2.append(0)\n",
        "  return(np.asarray(dataset_test2),np.asarray(label_test2))\n"
      ]
    },
    {
      "cell_type": "code",
      "execution_count": 6,
      "metadata": {
        "id": "KCSjCVGi48sP"
      },
      "outputs": [],
      "source": [
        "def MakeDatasetforTrain(P1,P0,N,LP1,LP0,LN):\n",
        "  TempP0=[]\n",
        "  TempL0=[]\n",
        "  i=0\n",
        "  while(i<len(P1)):\n",
        "    l=random.randint(0,len(P0)-1)\n",
        "    TempP0.append(P0[l])\n",
        "    TempL0.append(LP0[l])\n",
        "    i=i+1\n",
        "  print('P1',len(P1), 'P0', len(TempP0))\n",
        "  train=np.copy(np.append(P1,TempP0,axis=0))\n",
        "  label=np.copy(np.append(LP1,TempL0))\n",
        "\n",
        "  TempN=[]\n",
        "  TempLN=[]\n",
        "  while(len(TempN)<len(train)):\n",
        "    l=random.randint(0,len(N)-1)\n",
        "    TempN.append(N[l])\n",
        "    TempLN.append(LN[l])\n",
        "\n",
        "  train=np.copy(np.append(train,TempN,axis=0))\n",
        "  label=np.copy(np.append(label,TempLN))\n",
        "\n",
        "  return(train,label)\n"
      ]
    },
    {
      "cell_type": "code",
      "execution_count": 7,
      "metadata": {
        "id": "2ZxB6BY0k4_p"
      },
      "outputs": [],
      "source": [
        "def ExternalTest(x0_test,x1_test,x0_train,x1_train):\n",
        "  dataset_test1=[] # concat train\n",
        "  label_test1=[]\n",
        "  Indexsample=[]\n",
        "  for i in range(len(x0_test)):\n",
        "    for j in range(len(x0_train)):\n",
        "      dataset_test1.append(np.concatenate((x0_test[i],x0_train[j]), axis=None))\n",
        "      label_test1.append(1)\n",
        "      Indexsample.append(str(i)+\",0,0\")   #index in test,x0_test,x0_train\n",
        "  for i in range(len(x0_test)):\n",
        "    for j in range(len(x1_train)):\n",
        "      dataset_test1.append(np.concatenate((x0_test[i],x1_train[j]), axis=None))\n",
        "      label_test1.append(0)\n",
        "      Indexsample.append(str(i)+\",0,1\")   #index in test,x0_test,x1_train\n",
        "  for i in range(len(x1_test)):\n",
        "    for j in range(len(x0_train)):\n",
        "      dataset_test1.append(np.concatenate((x1_test[i],x0_train[j]), axis=None))\n",
        "      label_test1.append(0)\n",
        "      Indexsample.append(str(i)+\",1,0\")  #index in test,x1_test,x0_train\n",
        "  for i in range(len(x1_test)):\n",
        "    for j in range(len(x1_train)):\n",
        "      dataset_test1.append(np.concatenate((x1_test[i],x1_train[j]), axis=None))\n",
        "      label_test1.append(1)\n",
        "      Indexsample.append(str(i)+\",1,1\")  #index in test,x1_test,x1_train\n",
        "  return(np.asarray(dataset_test1),np.asarray(label_test1),Indexsample)"
      ]
    },
    {
      "cell_type": "code",
      "execution_count": 8,
      "metadata": {
        "id": "suGeUBgaezBu"
      },
      "outputs": [],
      "source": [
        "def DefineTest2(x0_test,x1_test,Indexsample,y_pred):\n",
        "  Pred=[]\n",
        "  Label=[]\n",
        "  for i in range(len(x0_test)):\n",
        "    cnt0Pred=0\n",
        "    cnt1Pred=0\n",
        "    cnt1=0\n",
        "    cnt0=0\n",
        "    for j in range(len(Indexsample)):\n",
        "      triplet=Indexsample[j].split(\",\")   #pair[0] is index from test, pair[1] identifies which test x0_test or s1_test, pair[2] identifies which x0\n",
        "      if int(triplet[0])==i: #intdex test\n",
        "        if int(triplet[1])==0: #type test\n",
        "          if int(triplet[2])==1: #type train\n",
        "              cnt1Pred=cnt1Pred+y_pred[j]\n",
        "              cnt1=cnt1+1\n",
        "          if int(triplet[2])==0: #type train\n",
        "              cnt0Pred=cnt0Pred+y_pred[j]\n",
        "              cnt0=cnt0+1\n",
        "    pos=(1-(cnt0Pred/cnt0))+(cnt1Pred/cnt1)\n",
        "    neg=(cnt0Pred/cnt0)+(1-(cnt1Pred/cnt1))\n",
        "    Pred.append(pos/(pos+neg))\n",
        "    Label.append(0)\n",
        "\n",
        "  for i in range(len(x1_test)):\n",
        "    cnt0Pred=0\n",
        "    cnt1Pred=0\n",
        "    cnt1=0\n",
        "    cnt0=0\n",
        "    for j in range(len(Indexsample)):\n",
        "      triplet=Indexsample[j].split(\",\")   #pair[0] is index from test, pair[1] identifies which test x0_test or s1_test, pair[2] identifies which x0\n",
        "      if int(triplet[0])==i: #intdex test\n",
        "        if int(triplet[1])==1: #type test\n",
        "          if int(triplet[2])==0: #type train\n",
        "              cnt0Pred=cnt0Pred+y_pred[j]\n",
        "              cnt0=cnt0+1\n",
        "          if int(triplet[2])==1: #type train\n",
        "              cnt1Pred=cnt1Pred+y_pred[j]\n",
        "              cnt1=cnt1+1\n",
        "    pos=(1-(cnt0Pred/cnt0))+(cnt1Pred/cnt1)\n",
        "    neg=(cnt0Pred/cnt0)+(1-(cnt1Pred/cnt1))\n",
        "    Pred.append(pos/(pos+neg))\n",
        "    Label.append(1)\n",
        "  return(Pred,Label)\n"
      ]
    },
    {
      "cell_type": "markdown",
      "metadata": {
        "id": "DwpqpMhtEVGk"
      },
      "source": [
        "## OPD Prediction\n"
      ]
    },
    {
      "cell_type": "code",
      "execution_count": 9,
      "metadata": {
        "id": "DOVMLOUknA3p"
      },
      "outputs": [],
      "source": [
        "def RealTest(X,x0_train,x1_train):\n",
        "  dataset_test=[] # concat train\n",
        "  Indexsample=[]\n",
        "  for i in range(len(X)):\n",
        "    for j in range(len(x0_train)):\n",
        "      dataset_test.append(np.concatenate((X[i],x0_train[j]), axis=None))\n",
        "      Indexsample.append(str(i)+\",0\")   #index in test,x0_test,x0_train\n",
        "  for i in range(len(X)):\n",
        "    for j in range(len(x1_train)):\n",
        "      dataset_test.append(np.concatenate((X[i],x1_train[j]), axis=None))\n",
        "      Indexsample.append(str(i)+\",1\")   #index in test,x0_test,x1_train\n",
        "  return(np.asarray(dataset_test),Indexsample)\n"
      ]
    },
    {
      "cell_type": "code",
      "execution_count": 10,
      "metadata": {
        "id": "41fvSn3yn7Ky"
      },
      "outputs": [],
      "source": [
        "def RealPredict(X,test_pred,Indexsample):\n",
        "\n",
        "  Pred=[]\n",
        "  for i in range(len(X)):\n",
        "    cnt0Pred=0\n",
        "    cnt1Pred=0\n",
        "    cnt1=0\n",
        "    cnt0=0\n",
        "    for j in range(len(Indexsample)):\n",
        "      triplet=Indexsample[j].split(\",\")   #pair[0] is index from test, pair[1] identifies which test x0_test or s1_test, pair[2] identifies which x0\n",
        "\n",
        "      if int(triplet[0])==i: #intdex test\n",
        "          if int(triplet[1])==1: #type train\n",
        "            cnt1Pred=cnt1Pred+test_pred[j]\n",
        "            cnt1=cnt1+1\n",
        "          if int(triplet[1])==0: #type train\n",
        "            cnt0Pred=cnt0Pred+test_pred[j]\n",
        "            cnt0=cnt0+1\n",
        "    pos=(1-(cnt0Pred/cnt0))+(cnt1Pred/cnt1)\n",
        "    neg=(cnt0Pred/cnt0)+(1-(cnt1Pred/cnt1))\n",
        "    Pred.append(pos/(pos+neg))\n",
        "  return(Pred)"
      ]
    },
    {
      "cell_type": "code",
      "execution_count": 11,
      "metadata": {
        "id": "6O8efORlw4F-"
      },
      "outputs": [],
      "source": [
        "\n",
        "def Accuracy(label_test, pred):\n",
        "\n",
        "  print('AUC: ', metrics.roc_auc_score(label_test, pred), 'AUPR: ', metrics.average_precision_score(label_test, pred))\n",
        "  for i  in range(len(pred)):\n",
        "    if pred[i]>=0.5:\n",
        "      pred[i]=1\n",
        "    else:\n",
        "      pred[i]=0\n",
        "  tn, fp, fn, tp = confusion_matrix(label_test, pred).ravel()\n",
        "  specificity = tn / (tn+fp)\n",
        "  sensitivity = tp / (tp + fn)\n",
        "  print('ACC:',metrics.accuracy_score(label_test, pred)*100,'Spc:',specificity,'Sen: ', sensitivity,'TN:',tn, 'FP: ', fp, 'FN',fn, 'TP',tp)\n"
      ]
    },
    {
      "cell_type": "code",
      "execution_count": 12,
      "metadata": {
        "id": "o-2Ebaino_t5"
      },
      "outputs": [],
      "source": [
        "def SelectName(Pred,cutoff):\n",
        "  # dir3='/content/drive/MyDrive/ThesisStudent/Osta/21-4-1402/Abbass/After_Abbass_death/'\n",
        "  # f=open(dir3+'pep_name.txt')\n",
        "  f = open('/content/drive/MyDrive/Osta/camel_df.csv')\n",
        "  i=0\n",
        "  dic1={}\n",
        "  lines = f.readlines()\n",
        "  for i in range(0,len(lines)):\n",
        "        line=lines[i].strip().split(\",\")[0]\n",
        "        if Pred[i]>=cutoff:\n",
        "          dic1[line]=Pred[i]\n",
        "          print(line , Pred[i])\n",
        "        i=i+1\n",
        "  print(dic1)\n",
        "  f.close()"
      ]
    },
    {
      "cell_type": "markdown",
      "metadata": {
        "id": "dhedTxdAWQip"
      },
      "source": [
        "# ProtBERT Encoding"
      ]
    },
    {
      "cell_type": "code",
      "execution_count": null,
      "metadata": {
        "colab": {
          "base_uri": "https://localhost:8080/"
        },
        "id": "IUFgLdY9WUtm",
        "outputId": "0bd0f4a1-69c5-4cbd-8f89-f5ea3c316e35"
      },
      "outputs": [
        {
          "name": "stdout",
          "output_type": "stream",
          "text": [
            "Collecting Bio\n",
            "  Downloading bio-1.8.0-py3-none-any.whl.metadata (5.7 kB)\n",
            "Collecting biopython>=1.80 (from Bio)\n",
            "  Downloading biopython-1.85-cp311-cp311-manylinux_2_17_x86_64.manylinux2014_x86_64.whl.metadata (13 kB)\n",
            "Collecting gprofiler-official (from Bio)\n",
            "  Downloading gprofiler_official-1.0.0-py3-none-any.whl.metadata (11 kB)\n",
            "Collecting mygene (from Bio)\n",
            "  Downloading mygene-3.2.2-py2.py3-none-any.whl.metadata (10 kB)\n",
            "Requirement already satisfied: pandas in /usr/local/lib/python3.11/dist-packages (from Bio) (2.2.2)\n",
            "Requirement already satisfied: pooch in /usr/local/lib/python3.11/dist-packages (from Bio) (1.8.2)\n",
            "Requirement already satisfied: requests in /usr/local/lib/python3.11/dist-packages (from Bio) (2.32.3)\n",
            "Requirement already satisfied: tqdm in /usr/local/lib/python3.11/dist-packages (from Bio) (4.67.1)\n",
            "Requirement already satisfied: numpy in /usr/local/lib/python3.11/dist-packages (from biopython>=1.80->Bio) (2.0.2)\n",
            "Collecting biothings-client>=0.2.6 (from mygene->Bio)\n",
            "  Downloading biothings_client-0.4.1-py3-none-any.whl.metadata (10 kB)\n",
            "Requirement already satisfied: python-dateutil>=2.8.2 in /usr/local/lib/python3.11/dist-packages (from pandas->Bio) (2.9.0.post0)\n",
            "Requirement already satisfied: pytz>=2020.1 in /usr/local/lib/python3.11/dist-packages (from pandas->Bio) (2025.2)\n",
            "Requirement already satisfied: tzdata>=2022.7 in /usr/local/lib/python3.11/dist-packages (from pandas->Bio) (2025.2)\n",
            "Requirement already satisfied: platformdirs>=2.5.0 in /usr/local/lib/python3.11/dist-packages (from pooch->Bio) (4.3.8)\n",
            "Requirement already satisfied: packaging>=20.0 in /usr/local/lib/python3.11/dist-packages (from pooch->Bio) (24.2)\n",
            "Requirement already satisfied: charset-normalizer<4,>=2 in /usr/local/lib/python3.11/dist-packages (from requests->Bio) (3.4.2)\n",
            "Requirement already satisfied: idna<4,>=2.5 in /usr/local/lib/python3.11/dist-packages (from requests->Bio) (3.10)\n",
            "Requirement already satisfied: urllib3<3,>=1.21.1 in /usr/local/lib/python3.11/dist-packages (from requests->Bio) (2.4.0)\n",
            "Requirement already satisfied: certifi>=2017.4.17 in /usr/local/lib/python3.11/dist-packages (from requests->Bio) (2025.4.26)\n",
            "Requirement already satisfied: httpx>=0.22.0 in /usr/local/lib/python3.11/dist-packages (from biothings-client>=0.2.6->mygene->Bio) (0.28.1)\n",
            "Requirement already satisfied: six>=1.5 in /usr/local/lib/python3.11/dist-packages (from python-dateutil>=2.8.2->pandas->Bio) (1.17.0)\n",
            "Requirement already satisfied: anyio in /usr/local/lib/python3.11/dist-packages (from httpx>=0.22.0->biothings-client>=0.2.6->mygene->Bio) (4.9.0)\n",
            "Requirement already satisfied: httpcore==1.* in /usr/local/lib/python3.11/dist-packages (from httpx>=0.22.0->biothings-client>=0.2.6->mygene->Bio) (1.0.9)\n",
            "Requirement already satisfied: h11>=0.16 in /usr/local/lib/python3.11/dist-packages (from httpcore==1.*->httpx>=0.22.0->biothings-client>=0.2.6->mygene->Bio) (0.16.0)\n",
            "Requirement already satisfied: sniffio>=1.1 in /usr/local/lib/python3.11/dist-packages (from anyio->httpx>=0.22.0->biothings-client>=0.2.6->mygene->Bio) (1.3.1)\n",
            "Requirement already satisfied: typing_extensions>=4.5 in /usr/local/lib/python3.11/dist-packages (from anyio->httpx>=0.22.0->biothings-client>=0.2.6->mygene->Bio) (4.14.0)\n",
            "Downloading bio-1.8.0-py3-none-any.whl (321 kB)\n",
            "\u001b[2K   \u001b[90m━━━━━━━━━━━━━━━━━━━━━━━━━━━━━━━━━━━━━━━━\u001b[0m \u001b[32m321.1/321.1 kB\u001b[0m \u001b[31m7.3 MB/s\u001b[0m eta \u001b[36m0:00:00\u001b[0m\n",
            "\u001b[?25hDownloading biopython-1.85-cp311-cp311-manylinux_2_17_x86_64.manylinux2014_x86_64.whl (3.3 MB)\n",
            "\u001b[2K   \u001b[90m━━━━━━━━━━━━━━━━━━━━━━━━━━━━━━━━━━━━━━━━\u001b[0m \u001b[32m3.3/3.3 MB\u001b[0m \u001b[31m56.2 MB/s\u001b[0m eta \u001b[36m0:00:00\u001b[0m\n",
            "\u001b[?25hDownloading gprofiler_official-1.0.0-py3-none-any.whl (9.3 kB)\n",
            "Downloading mygene-3.2.2-py2.py3-none-any.whl (5.4 kB)\n",
            "Downloading biothings_client-0.4.1-py3-none-any.whl (46 kB)\n",
            "\u001b[2K   \u001b[90m━━━━━━━━━━━━━━━━━━━━━━━━━━━━━━━━━━━━━━━━\u001b[0m \u001b[32m46.7/46.7 kB\u001b[0m \u001b[31m3.4 MB/s\u001b[0m eta \u001b[36m0:00:00\u001b[0m\n",
            "\u001b[?25hTraceback (most recent call last):\n",
            "  File \"/usr/local/lib/python3.11/dist-packages/pip/_internal/cli/base_command.py\", line 179, in exc_logging_wrapper\n",
            "    status = run_func(*args)\n",
            "             ^^^^^^^^^^^^^^^\n",
            "  File \"/usr/local/lib/python3.11/dist-packages/pip/_internal/cli/req_command.py\", line 67, in wrapper\n",
            "    return func(self, options, args)\n",
            "           ^^^^^^^^^^^^^^^^^^^^^^^^^\n",
            "  File \"/usr/local/lib/python3.11/dist-packages/pip/_internal/commands/install.py\", line 447, in run\n",
            "    conflicts = self._determine_conflicts(to_install)\n",
            "                ^^^^^^^^^^^^^^^^^^^^^^^^^^^^^^^^^^^^^\n",
            "  File \"/usr/local/lib/python3.11/dist-packages/pip/_internal/commands/install.py\", line 578, in _determine_conflicts\n",
            "    return check_install_conflicts(to_install)\n",
            "           ^^^^^^^^^^^^^^^^^^^^^^^^^^^^^^^^^^^\n",
            "  File \"/usr/local/lib/python3.11/dist-packages/pip/_internal/operations/check.py\", line 101, in check_install_conflicts\n",
            "    package_set, _ = create_package_set_from_installed()\n",
            "                     ^^^^^^^^^^^^^^^^^^^^^^^^^^^^^^^^^^^\n",
            "  File \"/usr/local/lib/python3.11/dist-packages/pip/_internal/operations/check.py\", line 42, in create_package_set_from_installed\n",
            "    dependencies = list(dist.iter_dependencies())\n",
            "                   ^^^^^^^^^^^^^^^^^^^^^^^^^^^^^^\n",
            "  File \"/usr/local/lib/python3.11/dist-packages/pip/_internal/metadata/importlib/_dists.py\", line 219, in iter_dependencies\n",
            "    for req_string in self.metadata.get_all(\"Requires-Dist\", []):\n",
            "                      ^^^^^^^^^^^^^\n",
            "  File \"/usr/lib/python3.11/functools.py\", line 1001, in __get__\n",
            "    val = self.func(instance)\n",
            "          ^^^^^^^^^^^^^^^^^^^\n",
            "  File \"/usr/local/lib/python3.11/dist-packages/pip/_internal/metadata/base.py\", line 394, in metadata\n",
            "    metadata = self._metadata_impl()\n",
            "               ^^^^^^^^^^^^^^^^^^^^^\n",
            "  File \"/usr/local/lib/python3.11/dist-packages/pip/_internal/metadata/importlib/_dists.py\", line 209, in _metadata_impl\n",
            "    return cast(email.message.Message, self._dist.metadata)\n",
            "                                       ^^^^^^^^^^^^^^^^^^^\n",
            "  File \"/usr/lib/python3.11/importlib/metadata/__init__.py\", line 617, in metadata\n",
            "    return _adapters.Message(email.message_from_string(text))\n",
            "                             ^^^^^^^^^^^^^^^^^^^^^^^^^^^^^^^\n",
            "  File \"/usr/lib/python3.11/email/__init__.py\", line 37, in message_from_string\n",
            "    return Parser(*args, **kws).parsestr(s)\n",
            "           ^^^^^^^^^^^^^^^^^^^^^^^^^^^^^^^^\n",
            "  File \"/usr/lib/python3.11/email/parser.py\", line 67, in parsestr\n",
            "    return self.parse(StringIO(text), headersonly=headersonly)\n",
            "           ^^^^^^^^^^^^^^^^^^^^^^^^^^^^^^^^^^^^^^^^^^^^^^^^^^^\n",
            "  File \"/usr/lib/python3.11/email/parser.py\", line 56, in parse\n",
            "    feedparser.feed(data)\n",
            "  File \"/usr/lib/python3.11/email/feedparser.py\", line 174, in feed\n",
            "    self._call_parse()\n",
            "  File \"/usr/lib/python3.11/email/feedparser.py\", line 178, in _call_parse\n",
            "    self._parse()\n",
            "  File \"/usr/lib/python3.11/email/feedparser.py\", line 226, in _parsegen\n",
            "    if not headerRE.match(line):\n",
            "           ^^^^^^^^^^^^^^^^^^^^\n",
            "KeyboardInterrupt\n",
            "\n",
            "During handling of the above exception, another exception occurred:\n",
            "\n",
            "Traceback (most recent call last):\n",
            "  File \"/usr/local/bin/pip3\", line 10, in <module>\n",
            "    sys.exit(main())\n",
            "             ^^^^^^\n",
            "  File \"/usr/local/lib/python3.11/dist-packages/pip/_internal/cli/main.py\", line 80, in main\n",
            "    return command.main(cmd_args)\n",
            "           ^^^^^^^^^^^^^^^^^^^^^^\n",
            "  File \"/usr/local/lib/python3.11/dist-packages/pip/_internal/cli/base_command.py\", line 100, in main\n",
            "    return self._main(args)\n",
            "           ^^^^^^^^^^^^^^^^\n",
            "  File \"/usr/local/lib/python3.11/dist-packages/pip/_internal/cli/base_command.py\", line 232, in _main\n",
            "    return run(options, args)\n",
            "           ^^^^^^^^^^^^^^^^^^\n",
            "  File \"/usr/local/lib/python3.11/dist-packages/pip/_internal/cli/base_command.py\", line 215, in exc_logging_wrapper\n",
            "    logger.critical(\"Operation cancelled by user\")\n",
            "  File \"/usr/lib/python3.11/logging/__init__.py\", line 1526, in critical\n",
            "    def critical(self, msg, *args, **kwargs):\n",
            "\n",
            "KeyboardInterrupt\n",
            "^C\n",
            "\u001b[31mERROR: Operation cancelled by user\u001b[0m\u001b[31m\n",
            "\u001b[0mTraceback (most recent call last):\n",
            "  File \"/usr/local/lib/python3.11/dist-packages/pip/_internal/cli/base_command.py\", line 179, in exc_logging_wrapper\n",
            "    status = run_func(*args)\n",
            "             ^^^^^^^^^^^^^^^\n",
            "  File \"/usr/local/lib/python3.11/dist-packages/pip/_internal/cli/req_command.py\", line 67, in wrapper\n",
            "    return func(self, options, args)\n",
            "           ^^^^^^^^^^^^^^^^^^^^^^^^^\n",
            "  File \"/usr/local/lib/python3.11/dist-packages/pip/_internal/commands/install.py\", line 324, in run\n",
            "    session = self.get_default_session(options)\n",
            "              ^^^^^^^^^^^^^^^^^^^^^^^^^^^^^^^^^\n",
            "  File \"/usr/local/lib/python3.11/dist-packages/pip/_internal/cli/index_command.py\", line 71, in get_default_session\n",
            "    self._session = self.enter_context(self._build_session(options))\n",
            "                                       ^^^^^^^^^^^^^^^^^^^^^^^^^^^^\n",
            "  File \"/usr/local/lib/python3.11/dist-packages/pip/_internal/cli/index_command.py\", line 100, in _build_session\n",
            "    session = PipSession(\n",
            "              ^^^^^^^^^^^\n",
            "  File \"/usr/local/lib/python3.11/dist-packages/pip/_internal/network/session.py\", line 344, in __init__\n",
            "    self.headers[\"User-Agent\"] = user_agent()\n",
            "                                 ^^^^^^^^^^^^\n",
            "  File \"/usr/local/lib/python3.11/dist-packages/pip/_internal/network/session.py\", line 177, in user_agent\n",
            "    setuptools_dist = get_default_environment().get_distribution(\"setuptools\")\n",
            "                      ^^^^^^^^^^^^^^^^^^^^^^^^^^^^^^^^^^^^^^^^^^^^^^^^^^^^^^^^\n",
            "  File \"/usr/local/lib/python3.11/dist-packages/pip/_internal/metadata/importlib/_envs.py\", line 189, in get_distribution\n",
            "    return next(matches, None)\n",
            "           ^^^^^^^^^^^^^^^^^^^\n",
            "  File \"/usr/local/lib/python3.11/dist-packages/pip/_internal/metadata/importlib/_envs.py\", line 184, in <genexpr>\n",
            "    matches = (\n",
            "              ^\n",
            "  File \"/usr/local/lib/python3.11/dist-packages/pip/_internal/metadata/base.py\", line 612, in iter_all_distributions\n",
            "    for dist in self._iter_distributions():\n",
            "  File \"/usr/local/lib/python3.11/dist-packages/pip/_internal/metadata/importlib/_envs.py\", line 177, in _iter_distributions\n",
            "    for dist in finder.find_eggs(location):\n",
            "  File \"/usr/local/lib/python3.11/dist-packages/pip/_internal/metadata/importlib/_envs.py\", line 144, in find_eggs\n",
            "    yield from self._find_eggs_in_dir(location)\n",
            "  File \"/usr/local/lib/python3.11/dist-packages/pip/_internal/metadata/importlib/_envs.py\", line 111, in _find_eggs_in_dir\n",
            "    from pip._vendor.pkg_resources import find_distributions\n",
            "  File \"/usr/local/lib/python3.11/dist-packages/pip/_vendor/pkg_resources/__init__.py\", line 3291, in <module>\n",
            "    @_call_aside\n",
            "     ^^^^^^^^^^^\n",
            "  File \"/usr/local/lib/python3.11/dist-packages/pip/_vendor/pkg_resources/__init__.py\", line 3266, in _call_aside\n",
            "    f(*args, **kwargs)\n",
            "  File \"/usr/local/lib/python3.11/dist-packages/pip/_vendor/pkg_resources/__init__.py\", line 3304, in _initialize_master_working_set\n",
            "    working_set = WorkingSet._build_master()\n",
            "                  ^^^^^^^^^^^^^^^^^^^^^^^^^^\n",
            "  File \"/usr/local/lib/python3.11/dist-packages/pip/_vendor/pkg_resources/__init__.py\", line 591, in _build_master\n",
            "    ws = cls()\n",
            "         ^^^^^\n",
            "  File \"/usr/local/lib/python3.11/dist-packages/pip/_vendor/pkg_resources/__init__.py\", line 584, in __init__\n",
            "    self.add_entry(entry)\n",
            "  File \"/usr/local/lib/python3.11/dist-packages/pip/_vendor/pkg_resources/__init__.py\", line 640, in add_entry\n",
            "    for dist in find_distributions(entry, True):\n",
            "  File \"/usr/local/lib/python3.11/dist-packages/pip/_vendor/pkg_resources/__init__.py\", line 2102, in find_on_path\n",
            "    yield from factory(fullpath)\n",
            "  File \"/usr/local/lib/python3.11/dist-packages/pip/_vendor/pkg_resources/__init__.py\", line 2159, in distributions_from_metadata\n",
            "    if len(os.listdir(path)) == 0:\n",
            "           ^^^^^^^^^^^^^^^^\n",
            "KeyboardInterrupt\n",
            "\n",
            "During handling of the above exception, another exception occurred:\n",
            "\n",
            "Traceback (most recent call last):\n",
            "  File \"/usr/local/bin/pip3\", line 10, in <module>\n",
            "    sys.exit(main())\n",
            "             ^^^^^^\n",
            "  File \"/usr/local/lib/python3.11/dist-packages/pip/_internal/cli/main.py\", line 80, in main\n",
            "    return command.main(cmd_args)\n",
            "           ^^^^^^^^^^^^^^^^^^^^^^\n",
            "  File \"/usr/local/lib/python3.11/dist-packages/pip/_internal/cli/base_command.py\", line 100, in main\n",
            "    return self._main(args)\n",
            "           ^^^^^^^^^^^^^^^^\n",
            "  File \"/usr/local/lib/python3.11/dist-packages/pip/_internal/cli/base_command.py\", line 232, in _main\n",
            "    return run(options, args)\n",
            "           ^^^^^^^^^^^^^^^^^^\n",
            "  File \"/usr/local/lib/python3.11/dist-packages/pip/_internal/cli/base_command.py\", line 216, in exc_logging_wrapper\n",
            "    logger.debug(\"Exception information:\", exc_info=True)\n",
            "  File \"/usr/lib/python3.11/logging/__init__.py\", line 1477, in debug\n",
            "    self._log(DEBUG, msg, args, **kwargs)\n",
            "  File \"/usr/lib/python3.11/logging/__init__.py\", line 1634, in _log\n",
            "    self.handle(record)\n",
            "  File \"/usr/lib/python3.11/logging/__init__.py\", line 1644, in handle\n",
            "    self.callHandlers(record)\n",
            "  File \"/usr/lib/python3.11/logging/__init__.py\", line 1706, in callHandlers\n",
            "    hdlr.handle(record)\n",
            "  File \"/usr/lib/python3.11/logging/__init__.py\", line 978, in handle\n",
            "    self.emit(record)\n",
            "  File \"/usr/lib/python3.11/logging/handlers.py\", line 75, in emit\n",
            "    logging.FileHandler.emit(self, record)\n",
            "  File \"/usr/lib/python3.11/logging/__init__.py\", line 1230, in emit\n",
            "    StreamHandler.emit(self, record)\n",
            "  File \"/usr/lib/python3.11/logging/__init__.py\", line 1110, in emit\n",
            "    msg = self.format(record)\n",
            "          ^^^^^^^^^^^^^^^^^^^\n",
            "  File \"/usr/lib/python3.11/logging/__init__.py\", line 953, in format\n",
            "    return fmt.format(record)\n",
            "           ^^^^^^^^^^^^^^^^^^\n",
            "  File \"/usr/local/lib/python3.11/dist-packages/pip/_internal/utils/logging.py\", line 112, in format\n",
            "    formatted = super().format(record)\n",
            "                ^^^^^^^^^^^^^^^^^^^^^^\n",
            "  File \"/usr/lib/python3.11/logging/__init__.py\", line 695, in format\n",
            "    record.exc_text = self.formatException(record.exc_info)\n",
            "                      ^^^^^^^^^^^^^^^^^^^^^^^^^^^^^^^^^^^^^\n",
            "  File \"/usr/lib/python3.11/logging/__init__.py\", line 645, in formatException\n",
            "    traceback.print_exception(ei[0], ei[1], tb, None, sio)\n",
            "  File \"/usr/lib/python3.11/traceback.py\", line 124, in print_exception\n",
            "    te = TracebackException(type(value), value, tb, limit=limit, compact=True)\n",
            "         ^^^^^^^^^^^^^^^^^^^^^^^^^^^^^^^^^^^^^^^^^^^^^^^^^^^^^^^^^^^^^^^^^^^^^\n",
            "  File \"/usr/lib/python3.11/traceback.py\", line 728, in __init__\n",
            "    self.stack = StackSummary._extract_from_extended_frame_gen(\n",
            "                 ^^^^^^^^^^^^^^^^^^^^^^^^^^^^^^^^^^^^^^^^^^^^^^\n",
            "  File \"/usr/lib/python3.11/traceback.py\", line 433, in _extract_from_extended_frame_gen\n",
            "    f.line\n",
            "  File \"/usr/lib/python3.11/traceback.py\", line 318, in line\n",
            "    self._line = linecache.getline(self.filename, self.lineno)\n",
            "                 ^^^^^^^^^^^^^^^^^^^^^^^^^^^^^^^^^^^^^^^^^^^^^\n",
            "  File \"/usr/lib/python3.11/linecache.py\", line 30, in getline\n",
            "    lines = getlines(filename, module_globals)\n",
            "            ^^^^^^^^^^^^^^^^^^^^^^^^^^^^^^^^^^\n",
            "  File \"/usr/lib/python3.11/linecache.py\", line 46, in getlines\n",
            "    return updatecache(filename, module_globals)\n",
            "           ^^^^^^^^^^^^^^^^^^^^^^^^^^^^^^^^^^^^^\n",
            "  File \"/usr/lib/python3.11/linecache.py\", line 136, in updatecache\n",
            "    with tokenize.open(fullname) as fp:\n",
            "         ^^^^^^^^^^^^^^^^^^^^^^^\n",
            "  File \"/usr/lib/python3.11/tokenize.py\", line 398, in open\n",
            "    encoding, lines = detect_encoding(buffer.readline)\n",
            "                      ^^^^^^^^^^^^^^^^^^^^^^^^^^^^^^^^\n",
            "  File \"/usr/lib/python3.11/tokenize.py\", line 367, in detect_encoding\n",
            "    first = read_or_stop()\n",
            "            ^^^^^^^^^^^^^^\n",
            "  File \"/usr/lib/python3.11/tokenize.py\", line 325, in read_or_stop\n",
            "    return readline()\n",
            "           ^^^^^^^^^^\n",
            "KeyboardInterrupt\n",
            "^C\n",
            "Collecting seqIO\n",
            "\u001b[31mERROR: Operation cancelled by user\u001b[0m\u001b[31m\n",
            "\u001b[0mCollecting biopython\n",
            "  Using cached biopython-1.85-cp311-cp311-manylinux_2_17_x86_64.manylinux2014_x86_64.whl.metadata (13 kB)\n",
            "Requirement already satisfied: numpy in /usr/local/lib/python3.11/dist-packages (from biopython) (2.0.2)\n",
            "Using cached biopython-1.85-cp311-cp311-manylinux_2_17_x86_64.manylinux2014_x86_64.whl (3.3 MB)\n",
            "Installing collected packages: biopython\n",
            "Traceback (most recent call last):\n",
            "  File \"/usr/local/lib/python3.11/dist-packages/pip/_internal/cli/base_command.py\", line 179, in exc_logging_wrapper\n",
            "    status = run_func(*args)\n",
            "             ^^^^^^^^^^^^^^^\n",
            "  File \"/usr/local/lib/python3.11/dist-packages/pip/_internal/cli/req_command.py\", line 67, in wrapper\n",
            "    return func(self, options, args)\n",
            "           ^^^^^^^^^^^^^^^^^^^^^^^^^\n",
            "  File \"/usr/local/lib/python3.11/dist-packages/pip/_internal/commands/install.py\", line 455, in run\n",
            "    installed = install_given_reqs(\n",
            "                ^^^^^^^^^^^^^^^^^^^\n",
            "  File \"/usr/local/lib/python3.11/dist-packages/pip/_internal/req/__init__.py\", line 70, in install_given_reqs\n",
            "    requirement.install(\n",
            "  File \"/usr/local/lib/python3.11/dist-packages/pip/_internal/req/req_install.py\", line 851, in install\n",
            "    install_wheel(\n",
            "  File \"/usr/local/lib/python3.11/dist-packages/pip/_internal/operations/install/wheel.py\", line 726, in install_wheel\n",
            "    _install_wheel(\n",
            "  File \"/usr/local/lib/python3.11/dist-packages/pip/_internal/operations/install/wheel.py\", line 614, in _install_wheel\n",
            "    pyc_path = pyc_output_path(path)\n",
            "               ^^^^^^^^^^^^^^^^^^^^^\n",
            "  File \"/usr/local/lib/python3.11/dist-packages/pip/_internal/operations/install/wheel.py\", line 602, in pyc_output_path\n",
            "    return importlib.util.cache_from_source(path)\n",
            "           ^^^^^^^^^^^^^^^^^^^^^^^^^^^^^^^^^^^^^^\n",
            "  File \"<frozen importlib._bootstrap_external>\", line 463, in cache_from_source\n",
            "  File \"<frozen importlib._bootstrap_external>\", line 134, in _path_split\n",
            "  File \"<frozen importlib._bootstrap_external>\", line 134, in <genexpr>\n",
            "KeyboardInterrupt\n",
            "\n",
            "During handling of the above exception, another exception occurred:\n",
            "\n",
            "Traceback (most recent call last):\n",
            "  File \"/usr/local/bin/pip3\", line 10, in <module>\n",
            "    sys.exit(main())\n",
            "             ^^^^^^\n",
            "  File \"/usr/local/lib/python3.11/dist-packages/pip/_internal/cli/main.py\", line 80, in main\n",
            "    return command.main(cmd_args)\n",
            "           ^^^^^^^^^^^^^^^^^^^^^^\n",
            "  File \"/usr/local/lib/python3.11/dist-packages/pip/_internal/cli/base_command.py\", line 100, in main\n",
            "    return self._main(args)\n",
            "           ^^^^^^^^^^^^^^^^\n",
            "  File \"/usr/local/lib/python3.11/dist-packages/pip/_internal/cli/base_command.py\", line 232, in _main\n",
            "    return run(options, args)\n",
            "           ^^^^^^^^^^^^^^^^^^\n",
            "  File \"/usr/local/lib/python3.11/dist-packages/pip/_internal/cli/base_command.py\", line 215, in exc_logging_wrapper\n",
            "    logger.critical(\"Operation cancelled by user\")\n",
            "  File \"/usr/lib/python3.11/logging/__init__.py\", line 1536, in critical\n",
            "    self._log(CRITICAL, msg, args, **kwargs)\n",
            "  File \"/usr/lib/python3.11/logging/__init__.py\", line 1634, in _log\n",
            "    self.handle(record)\n",
            "  File \"/usr/lib/python3.11/logging/__init__.py\", line 1644, in handle\n",
            "    self.callHandlers(record)\n",
            "  File \"/usr/lib/python3.11/logging/__init__.py\", line 1706, in callHandlers\n",
            "    hdlr.handle(record)\n",
            "  File \"/usr/lib/python3.11/logging/__init__.py\", line 978, in handle\n",
            "    self.emit(record)\n",
            "  File \"/usr/local/lib/python3.11/dist-packages/pip/_internal/utils/logging.py\", line 169, in emit\n",
            "    renderable = self.render_message(record, message)\n",
            "                 ^^^^^^^^^^^^^^^^^^^^^^^^^^^^^^^^^^^^\n",
            "  File \"/usr/local/lib/python3.11/dist-packages/pip/_vendor/rich/logging.py\", line 187, in render_message\n",
            "    highlighter = getattr(record, \"highlighter\", self.highlighter)\n",
            "                  ^^^^^^^^^^^^^^^^^^^^^^^^^^^^^^^^^^^^^^^^^^^^^^^^\n",
            "KeyboardInterrupt\n",
            "^C\n",
            "Requirement already satisfied: transformers in /usr/local/lib/python3.11/dist-packages (4.52.4)\n",
            "Requirement already satisfied: filelock in /usr/local/lib/python3.11/dist-packages (from transformers) (3.18.0)\n",
            "Requirement already satisfied: huggingface-hub<1.0,>=0.30.0 in /usr/local/lib/python3.11/dist-packages (from transformers) (0.32.4)\n",
            "Requirement already satisfied: numpy>=1.17 in /usr/local/lib/python3.11/dist-packages (from transformers) (2.0.2)\n",
            "Requirement already satisfied: packaging>=20.0 in /usr/local/lib/python3.11/dist-packages (from transformers) (24.2)\n",
            "Requirement already satisfied: pyyaml>=5.1 in /usr/local/lib/python3.11/dist-packages (from transformers) (6.0.2)\n",
            "Requirement already satisfied: regex!=2019.12.17 in /usr/local/lib/python3.11/dist-packages (from transformers) (2024.11.6)\n",
            "Requirement already satisfied: requests in /usr/local/lib/python3.11/dist-packages (from transformers) (2.32.3)\n",
            "Requirement already satisfied: tokenizers<0.22,>=0.21 in /usr/local/lib/python3.11/dist-packages (from transformers) (0.21.1)\n",
            "Requirement already satisfied: safetensors>=0.4.3 in /usr/local/lib/python3.11/dist-packages (from transformers) (0.5.3)\n",
            "Requirement already satisfied: tqdm>=4.27 in /usr/local/lib/python3.11/dist-packages (from transformers) (4.67.1)\n",
            "Requirement already satisfied: fsspec>=2023.5.0 in /usr/local/lib/python3.11/dist-packages (from huggingface-hub<1.0,>=0.30.0->transformers) (2025.3.2)\n",
            "Requirement already satisfied: typing-extensions>=3.7.4.3 in /usr/local/lib/python3.11/dist-packages (from huggingface-hub<1.0,>=0.30.0->transformers) (4.14.0)\n",
            "Requirement already satisfied: hf-xet<2.0.0,>=1.1.2 in /usr/local/lib/python3.11/dist-packages (from huggingface-hub<1.0,>=0.30.0->transformers) (1.1.2)\n",
            "Requirement already satisfied: charset-normalizer<4,>=2 in /usr/local/lib/python3.11/dist-packages (from requests->transformers) (3.4.2)\n",
            "Requirement already satisfied: idna<4,>=2.5 in /usr/local/lib/python3.11/dist-packages (from requests->transformers) (3.10)\n",
            "Requirement already satisfied: urllib3<3,>=1.21.1 in /usr/local/lib/python3.11/dist-packages (from requests->transformers) (2.4.0)\n",
            "Requirement already satisfied: certifi>=2017.4.17 in /usr/local/lib/python3.11/dist-packages (from requests->transformers) (2025.4.26)\n",
            "Traceback (most recent call last):\n",
            "  File \"<frozen importlib._bootstrap>\", line 1176, in _find_and_load\n",
            "  File \"<frozen importlib._bootstrap>\", line 1147, in _find_and_load_unlocked\n",
            "  File \"<frozen importlib._bootstrap>\", line 690, in _load_unlocked\n",
            "  File \"<frozen importlib._bootstrap_external>\", line 940, in exec_module\n",
            "  File \"<frozen importlib._bootstrap>\", line 241, in _call_with_frames_removed\n",
            "  File \"/usr/local/lib/python3.11/dist-packages/pip/_vendor/urllib3/util/ssl_.py\", line 17, in <module>\n",
            "    from .url import BRACELESS_IPV6_ADDRZ_RE, IPV4_RE\n",
            "  File \"/usr/local/lib/python3.11/dist-packages/pip/_vendor/urllib3/util/url.py\", line 63, in <module>\n",
            "    BRACELESS_IPV6_ADDRZ_RE = re.compile(\"^\" + IPV6_ADDRZ_PAT[2:-2] + \"$\")\n",
            "                              ^^^^^^^^^^^^^^^^^^^^^^^^^^^^^^^^^^^^^^^^^^^^\n",
            "  File \"/usr/lib/python3.11/re/__init__.py\", line 227, in compile\n",
            "    return _compile(pattern, flags)\n",
            "           ^^^^^^^^^^^^^^^^^^^^^^^^\n",
            "  File \"/usr/lib/python3.11/re/__init__.py\", line 294, in _compile\n",
            "    p = _compiler.compile(pattern, flags)\n",
            "        ^^^^^^^^^^^^^^^^^^^^^^^^^^^^^^^^^\n",
            "  File \"/usr/lib/python3.11/re/_compiler.py\", line 749, in compile\n",
            "    code = _code(p, flags)\n",
            "           ^^^^^^^^^^^^^^^\n",
            "  File \"/usr/lib/python3.11/re/_compiler.py\", line 582, in _code\n",
            "    _compile(code, p.data, flags)\n",
            "  File \"/usr/lib/python3.11/re/_compiler.py\", line 176, in _compile\n",
            "    _compile(code, av, flags)\n",
            "  File \"/usr/lib/python3.11/re/_compiler.py\", line 119, in _compile\n",
            "    _compile(code, av[2], flags)\n",
            "  File \"/usr/lib/python3.11/re/_compiler.py\", line 111, in _compile\n",
            "    _compile(code, av[2], flags)\n",
            "  File \"/usr/lib/python3.11/re/_compiler.py\", line 86, in _compile\n",
            "    charset, hascased = _optimize_charset(av, iscased, tolower, fixes)\n",
            "                        ^^^^^^^^^^^^^^^^^^^^^^^^^^^^^^^^^^^^^^^^^^^^^^\n",
            "  File \"/usr/lib/python3.11/re/_compiler.py\", line 339, in _optimize_charset\n",
            "    data = _mk_bitmap(charmap)\n",
            "           ^^^^^^^^^^^^^^^^^^^\n",
            "  File \"/usr/lib/python3.11/re/_compiler.py\", line 386, in _mk_bitmap\n",
            "    def _mk_bitmap(bits, _CODEBITS=_CODEBITS, _int=int):\n",
            "    \n",
            "KeyboardInterrupt\n",
            "\n",
            "During handling of the above exception, another exception occurred:\n",
            "\n",
            "Traceback (most recent call last):\n",
            "  File \"/usr/local/bin/pip3\", line 10, in <module>\n",
            "    sys.exit(main())\n",
            "             ^^^^^^\n",
            "  File \"/usr/local/lib/python3.11/dist-packages/pip/_internal/cli/main.py\", line 78, in main\n",
            "    command = create_command(cmd_name, isolated=(\"--isolated\" in cmd_args))\n",
            "              ^^^^^^^^^^^^^^^^^^^^^^^^^^^^^^^^^^^^^^^^^^^^^^^^^^^^^^^^^^^^^\n",
            "  File \"/usr/local/lib/python3.11/dist-packages/pip/_internal/commands/__init__.py\", line 114, in create_command\n",
            "    module = importlib.import_module(module_path)\n",
            "             ^^^^^^^^^^^^^^^^^^^^^^^^^^^^^^^^^^^^\n",
            "  File \"/usr/lib/python3.11/importlib/__init__.py\", line 126, in import_module\n",
            "    return _bootstrap._gcd_import(name[level:], package, level)\n",
            "           ^^^^^^^^^^^^^^^^^^^^^^^^^^^^^^^^^^^^^^^^^^^^^^^^^^^^\n",
            "  File \"<frozen importlib._bootstrap>\", line 1204, in _gcd_import\n",
            "  File \"<frozen importlib._bootstrap>\", line 1176, in _find_and_load\n",
            "  File \"<frozen importlib._bootstrap>\", line 1147, in _find_and_load_unlocked\n",
            "  File \"<frozen importlib._bootstrap>\", line 690, in _load_unlocked\n",
            "  File \"<frozen importlib._bootstrap_external>\", line 940, in exec_module\n",
            "  File \"<frozen importlib._bootstrap>\", line 241, in _call_with_frames_removed\n",
            "  File \"/usr/local/lib/python3.11/dist-packages/pip/_internal/commands/install.py\", line 15, in <module>\n",
            "    from pip._internal.cli.req_command import (\n",
            "  File \"/usr/local/lib/python3.11/dist-packages/pip/_internal/cli/req_command.py\", line 18, in <module>\n",
            "    from pip._internal.index.collector import LinkCollector\n",
            "  File \"/usr/local/lib/python3.11/dist-packages/pip/_internal/index/collector.py\", line 31, in <module>\n",
            "    from pip._vendor import requests\n",
            "  File \"/usr/local/lib/python3.11/dist-packages/pip/_vendor/requests/__init__.py\", line 43, in <module>\n",
            "    from pip._vendor import urllib3\n",
            "  File \"/usr/local/lib/python3.11/dist-packages/pip/_vendor/urllib3/__init__.py\", line 13, in <module>\n",
            "    from .connectionpool import HTTPConnectionPool, HTTPSConnectionPool, connection_from_url\n",
            "  File \"/usr/local/lib/python3.11/dist-packages/pip/_vendor/urllib3/connectionpool.py\", line 13, in <module>\n",
            "    from .connection import (\n",
            "  File \"/usr/local/lib/python3.11/dist-packages/pip/_vendor/urllib3/connection.py\", line 15, in <module>\n",
            "    from .util.proxy import create_proxy_ssl_context\n",
            "  File \"/usr/local/lib/python3.11/dist-packages/pip/_vendor/urllib3/util/__init__.py\", line 8, in <module>\n",
            "    from .ssl_ import (\n",
            "  File \"<frozen importlib._bootstrap>\", line 1173, in _find_and_load\n",
            "  File \"<frozen importlib._bootstrap>\", line 174, in __exit__\n",
            "  File \"<frozen importlib._bootstrap>\", line 127, in release\n",
            "KeyboardInterrupt\n",
            "^C\n"
          ]
        }
      ],
      "source": [
        "! pip install Bio\n",
        "! pip install tensorflow\n",
        "! pip install seqIO\n",
        "! pip install biopython\n",
        "! pip install transformers\n",
        "! pip install -q biopython\n",
        "! pip install sentencepiece"
      ]
    },
    {
      "cell_type": "markdown",
      "metadata": {
        "id": "DuIXuLu0W4BM"
      },
      "source": [
        "### Model loading"
      ]
    },
    {
      "cell_type": "code",
      "execution_count": null,
      "metadata": {
        "id": "DmejgE-CWn5q"
      },
      "outputs": [],
      "source": [
        "!test -d bertviz_repo && echo \"FYI: bertviz_repo directory already exists, to pull latest version uncomment this line: !rm -r bertviz_repo\"\n",
        "# !rm -r bertviz_repo # Uncomment if you need a clean pull from repo\n",
        "!test -d bertviz_repo || git clone https://github.com/jessevig/bertviz bertviz_repo\n",
        "if not 'bertviz_repo' in sys.path:\n",
        "  sys.path += ['bertviz_repo']\n",
        "!pip install regex"
      ]
    },
    {
      "cell_type": "code",
      "execution_count": null,
      "metadata": {
        "id": "mlC_oMeDWfYF"
      },
      "outputs": [],
      "source": [
        "tokenizer = BertTokenizer.from_pretrained(\"Rostlab/prot_bert\", do_lower_case=False)\n",
        "model = BertModel.from_pretrained(\"Rostlab/prot_bert\")"
      ]
    },
    {
      "cell_type": "markdown",
      "metadata": {
        "id": "e_lbSHg1XEZq"
      },
      "source": [
        "### Data preparation"
      ]
    },
    {
      "cell_type": "code",
      "execution_count": null,
      "metadata": {
        "id": "ZjN5H1XiXIF7"
      },
      "outputs": [],
      "source": [
        "def data_prepared(file_name):\n",
        "  f = open(file_name, 'r')\n",
        "  proteins_name=[]\n",
        "  my_seq =[]\n",
        "  with f:\n",
        "    for row in f:\n",
        "      row = row.strip()\n",
        "      proteins_name.append(row)\n",
        "      new_r = ' '.join(row)\n",
        "      my_seq.append(new_r)\n",
        "  return my_seq, proteins_name"
      ]
    },
    {
      "cell_type": "code",
      "execution_count": null,
      "metadata": {
        "id": "d2qAmHElXNcB"
      },
      "outputs": [],
      "source": [
        "file_name = 'YOUR FILE of PROTEIN SEQUENCES'\n",
        "my_seq, proteins_name = data_prepared(file_name)\n"
      ]
    },
    {
      "cell_type": "code",
      "execution_count": null,
      "metadata": {
        "id": "-VjFDKQrXTzI"
      },
      "outputs": [],
      "source": [
        "f = open(\"SAVING FILE NAME\", \"w\")\n",
        "\n",
        "averaged_vectors=[]\n",
        "flag=-1\n",
        "\n",
        "\n",
        "for i in range(len(proteins_name)):\n",
        "  documents=[]\n",
        "  print(i)\n",
        "  # if len(my_seq[i])<=3500:\n",
        "  documents.append(my_seq[i])\n",
        "  print(my_seq[i])\n",
        "  # print((my_seq[i]))\n",
        "\n",
        "\n",
        "  vectors = [\n",
        "            # tokenize the document, return it as PyTorch tensors (vectors),\n",
        "            # and pass it onto the model\n",
        "            model(**tokenizer(document, return_tensors='pt'))[0].detach().squeeze()\n",
        "            for document in documents\n",
        "  ]\n",
        "\n",
        "\n",
        "  for vector in vectors:\n",
        "    s = torch.mean(vector, dim=0)\n",
        "    print(s)\n",
        "    s=s.numpy()\n",
        "    #name = f'CAN{i+1}'\n",
        "    for j in range(len(s)):\n",
        "      f.write(\",\"+str(s[j]))\n",
        "    f.write(\",\")\n",
        "    f.write(proteins_name[i])\n",
        "    f.write(\"\\n\")\n",
        "\n",
        "f.close()"
      ]
    },
    {
      "cell_type": "markdown",
      "metadata": {
        "id": "TbbhjzkFsw_d"
      },
      "source": [
        "# Data"
      ]
    },
    {
      "cell_type": "markdown",
      "metadata": {
        "id": "Vj5xqhJLCL-D"
      },
      "source": [
        "## Uploading OPs and Non-OPs"
      ]
    },
    {
      "cell_type": "markdown",
      "metadata": {
        "id": "JdEW0B9pjpMf"
      },
      "source": [
        "### ProtBert"
      ]
    },
    {
      "cell_type": "code",
      "execution_count": 13,
      "metadata": {
        "colab": {
          "base_uri": "https://localhost:8080/"
        },
        "id": "sQC0pQJx7WOK",
        "outputId": "fd3ec276-7f9f-4a52-f8fb-85e6b618f831"
      },
      "outputs": [
        {
          "output_type": "stream",
          "name": "stdout",
          "text": [
            "(81, 1024)\n",
            "(81, 1024)\n"
          ]
        }
      ],
      "source": [
        "# vec_pos: the ProtBert-Based of OPs collected from OP-AND\n",
        "\n",
        "df_pos = pd.read_csv('/content/drive/MyDrive/Osta/PPP_ProtBERT_embeddings.txt', sep=\",\", header=None)\n",
        "df_pos = df_pos.iloc[:, 1:-1]\n",
        "print(df_pos.shape)\n",
        "df_pos = df_pos.drop_duplicates()\n",
        "print(df_pos.shape)"
      ]
    },
    {
      "cell_type": "code",
      "execution_count": 14,
      "metadata": {
        "id": "HwWmNOqVnD2u"
      },
      "outputs": [],
      "source": [
        "# vec_neg_Q5T9C2: the ProtBert-Based of NPP collected from Q5T9C2\n",
        "\n",
        "df_neg1 = pd.read_csv('/content/drive/MyDrive/Osta/NPP_Q5T9C2_ProtBERT_embeddings.txt', sep=\",\", header=None)\n",
        "df_neg1 = df_neg1.iloc[:, 1:-1]\n",
        "df_neg1 = df_neg1.drop_duplicates()"
      ]
    },
    {
      "cell_type": "code",
      "execution_count": 15,
      "metadata": {
        "id": "8ZwsOyVqp2tC"
      },
      "outputs": [],
      "source": [
        "# vec_neg_Q5T9C2: the ProtBert-Based of NPP collected from Q9CWT3\n",
        "\n",
        "df_neg2 = pd.read_csv('/content/drive/MyDrive/Osta/NPP_Q9CWT3_ProtBERT_embeddings.txt', sep=\",\", header=None)\n",
        "df_neg2 = df_neg2.iloc[:, 1:-1]\n",
        "df_neg2 = df_neg2.drop_duplicates()"
      ]
    },
    {
      "cell_type": "code",
      "execution_count": 16,
      "metadata": {
        "id": "F3kYY3DepVUg"
      },
      "outputs": [],
      "source": [
        "# vec_neg_O88942: the ProtBert-Based of NPP collected from O88942\n",
        "\n",
        "df_neg3 = pd.read_csv('/content/drive/MyDrive/Osta/NPP_O88942_ProtBERT_embeddings.txt', sep=\",\", header=None)\n",
        "df_neg3 = df_neg3.iloc[:, 1:-1]\n",
        "df_neg3 = df_neg3.drop_duplicates()"
      ]
    },
    {
      "cell_type": "markdown",
      "metadata": {
        "id": "Czt6R2Qwj50T"
      },
      "source": [
        "### ProGen"
      ]
    },
    {
      "cell_type": "code",
      "execution_count": null,
      "metadata": {
        "id": "9-eC0cHXCAda"
      },
      "outputs": [],
      "source": [
        "# ProGen\n",
        "\n",
        "# Load the .npz file\n",
        "data = np.load(\"/content/drive/MyDrive/Osta/PPP_ProGen2_Medium_embeddings.npz\")\n",
        "\n",
        "print(data.files)  # e.g., ['embedding1', 'embedding2']\n",
        "\n",
        "df_pos = data['embeddings']\n",
        "df_pos = pd.DataFrame(df_pos)\n",
        "df_pos\n",
        "\n",
        "## Challenge very similar outputs!"
      ]
    },
    {
      "cell_type": "code",
      "execution_count": null,
      "metadata": {
        "id": "Az0qNgvmJG2e"
      },
      "outputs": [],
      "source": [
        "# ProGen\n",
        "\n",
        "# Load the .npz file\n",
        "data = np.load(\"/content/drive/MyDrive/Osta/NPP_Q5T9C2_ProGen2_Medium_embeddings.npz\")\n",
        "df_neg1 = data['embeddings']\n",
        "df_neg1 = pd.DataFrame(df_neg1_progen)\n",
        "df_neg1 = df_neg1.drop_duplicates()"
      ]
    },
    {
      "cell_type": "code",
      "execution_count": null,
      "metadata": {
        "id": "6bD-qmXoJ_Mr"
      },
      "outputs": [],
      "source": [
        "# ProGen\n",
        "\n",
        "# Load the .npz file\n",
        "data = np.load(\"/content/drive/MyDrive/Osta/NPP_Q9CWT3_ProGen2_Medium_embeddings.npz\")\n",
        "df_neg2 = data['embeddings']\n",
        "df_neg2 = pd.DataFrame(df_neg2_progen)\n",
        "df_neg2 = df_neg2.drop_duplicates()"
      ]
    },
    {
      "cell_type": "code",
      "execution_count": null,
      "metadata": {
        "id": "AmKI7xoDkSDH"
      },
      "outputs": [],
      "source": [
        "# ProGen\n",
        "\n",
        "# Load the .npz file\n",
        "data = np.load(\"/content/drive/MyDrive/Osta/NPP_O88942_ProGen2_Medium_embeddings.npz\")\n",
        "df_neg3 = data['embeddings']\n",
        "df_neg3 = pd.DataFrame(df_neg2_progen)\n",
        "df_neg3 = df_neg3.drop_duplicates()\n"
      ]
    },
    {
      "cell_type": "markdown",
      "metadata": {
        "id": "SrNDPJ0vJmsT"
      },
      "source": [
        "#### Why the sequences retrieved from ProGen2 are TOO Similar??\n",
        "\n",
        "\n",
        "1. Mean Pooling Flattens Information\n",
        "\n",
        "Averaging token (residue) embeddings across the sequence,often washes out rich contextual differences — especially for long or functionally diverse sequences.\n",
        "\n",
        "\n",
        "\n",
        "2. Causal LM ≠ Good Sequence Embedding\n",
        "\n",
        "ProGen2 is a causal language model, trained to predict the next amino acid. Its internal representations are not optimized for whole-sequence discrimination like BERT-style models (e.g. ESM-2).\n",
        "\n",
        "3. Lack of Supervised Signal\n",
        "\n",
        "Unless ProGen is fine-tuned for a downstream task (e.g., classification, function prediction), its embeddings may not cluster semantically or functionally in a meaningful way."
      ]
    },
    {
      "cell_type": "markdown",
      "metadata": {
        "id": "elVw51-AkDl4"
      },
      "source": [
        "### ESM-2"
      ]
    },
    {
      "cell_type": "code",
      "execution_count": null,
      "metadata": {
        "id": "lrSMOl_aTdNo"
      },
      "outputs": [],
      "source": [
        "# ESM-2\n",
        "\n",
        "# Load the .npz file\n",
        "data = np.load(\"/content/drive/MyDrive/Osta/PPP_esm2_embeddings.npz\")\n",
        "\n",
        "print(data.files)  # e.g., ['embedding1', 'embedding2']\n",
        "\n",
        "df_pos = data['embeddings']\n",
        "df_pos = pd.DataFrame(df_pos)"
      ]
    },
    {
      "cell_type": "code",
      "execution_count": null,
      "metadata": {
        "id": "Q_Dw9WVPTt2t"
      },
      "outputs": [],
      "source": [
        "# ESM-2\n",
        "\n",
        "# Load the .npz file\n",
        "data = np.load(\"/content/drive/MyDrive/Osta/NPP_Q5T9C2_esm2_embeddings.npz\")\n",
        "\n",
        "df_neg1 = data['embeddings']\n",
        "df_neg1 = pd.DataFrame(df_neg1_progen)\n",
        "df_neg1 = df_neg1.drop_duplicates()"
      ]
    },
    {
      "cell_type": "code",
      "execution_count": null,
      "metadata": {
        "id": "cdRqF2GpT7Dv"
      },
      "outputs": [],
      "source": [
        "# ESM-2\n",
        "\n",
        "# Load the .npz file\n",
        "data = np.load(\"/content/drive/MyDrive/Osta/NPP_Q9CWT3_esm2_embeddings.npz\")\n",
        "\n",
        "df_neg2 = data['embeddings']\n",
        "df_neg2 = pd.DataFrame(df_neg2_progen)\n",
        "df_neg2 = df_neg2.drop_duplicates()"
      ]
    },
    {
      "cell_type": "code",
      "execution_count": null,
      "metadata": {
        "id": "pvXRBtFdKTlo"
      },
      "outputs": [],
      "source": [
        "# ESM-2\n",
        "\n",
        "# Load the .npz file\n",
        "data = np.load(\"/content/drive/MyDrive/Osta/NPP_O88942_esm2_embeddings.npz\")\n",
        "\n",
        "df_neg3 = data['embeddings']\n",
        "df_neg3 = pd.DataFrame(df_neg3_progen)\n",
        "df_neg3 = df_neg3.drop_duplicates()"
      ]
    },
    {
      "cell_type": "markdown",
      "metadata": {
        "id": "AnldBwd9ejD5"
      },
      "source": [
        "### zScale"
      ]
    },
    {
      "cell_type": "code",
      "execution_count": null,
      "metadata": {
        "colab": {
          "base_uri": "https://localhost:8080/"
        },
        "id": "2THLcRZ0emP2",
        "outputId": "6849173c-e6c7-4f28-eeb3-0b1e6233b07a"
      },
      "outputs": [
        {
          "name": "stdout",
          "output_type": "stream",
          "text": [
            "(108, 4)\n",
            "(106, 4)\n"
          ]
        }
      ],
      "source": [
        "# vec_pos: the ProtBert-Based of OPs collected from OP-AND\n",
        "\n",
        "df_pos = pd.read_csv('/content/drive/MyDrive/Osta/PPP_zscale.csv', sep=\",\")\n",
        "df_pos = df_pos.iloc[:, :-1]\n",
        "print(df_pos.shape)\n",
        "df_pos = df_pos.drop_duplicates()\n",
        "print(df_pos.shape)"
      ]
    },
    {
      "cell_type": "code",
      "execution_count": null,
      "metadata": {
        "id": "MLhwQ2pLemP4"
      },
      "outputs": [],
      "source": [
        "# vec_neg_Q5T9C2: the ProtBert-Based of NPP collected from Q5T9C2\n",
        "\n",
        "df_neg1 = pd.read_csv('/content/drive/MyDrive/Osta/NPP_Q5T9C2_zscale.csv', sep=\",\")\n",
        "df_neg1 = df_neg1.iloc[:, :-1]\n",
        "df_neg1 = df_neg1.drop_duplicates()"
      ]
    },
    {
      "cell_type": "code",
      "execution_count": null,
      "metadata": {
        "id": "w5q8bYpSemP4"
      },
      "outputs": [],
      "source": [
        "# vec_neg_Q5T9C2: the ProtBert-Based of NPP collected from Q9CWT3\n",
        "\n",
        "df_neg2 = pd.read_csv('/content/drive/MyDrive/Osta/NPP_Q9CWT3_zscale.csv', sep=\",\")\n",
        "df_neg2 = df_neg2.iloc[:, :-1]\n",
        "df_neg2 = df_neg2.drop_duplicates()"
      ]
    },
    {
      "cell_type": "code",
      "execution_count": null,
      "metadata": {
        "id": "LdA4V9ioemP5"
      },
      "outputs": [],
      "source": [
        "# vec_neg_O88942: the ProtBert-Based of NPP collected from O88942\n",
        "\n",
        "df_neg3 = pd.read_csv('/content/drive/MyDrive/Osta/NPP_O88942_zscale.csv', sep=\",\")\n",
        "df_neg3 = df_neg3.iloc[:, :-1]\n",
        "df_neg3 = df_neg3.drop_duplicates()"
      ]
    },
    {
      "cell_type": "markdown",
      "metadata": {
        "id": "pCwXnp5zeoU4"
      },
      "source": [
        "### tScale"
      ]
    },
    {
      "cell_type": "code",
      "execution_count": null,
      "metadata": {
        "colab": {
          "base_uri": "https://localhost:8080/"
        },
        "id": "zblQY4B4eqJn",
        "outputId": "e41657c6-667a-480c-a1f8-251ca881ccb0"
      },
      "outputs": [
        {
          "name": "stdout",
          "output_type": "stream",
          "text": [
            "(108, 4)\n",
            "(106, 4)\n"
          ]
        }
      ],
      "source": [
        "# vec_pos: the ProtBert-Based of OPs collected from OP-AND\n",
        "\n",
        "df_pos = pd.read_csv('/content/drive/MyDrive/Osta/PPP_tscale.csv', sep=\",\")\n",
        "df_pos = df_pos.iloc[:, :-1]\n",
        "print(df_pos.shape)\n",
        "df_pos = df_pos.drop_duplicates()\n",
        "print(df_pos.shape)"
      ]
    },
    {
      "cell_type": "code",
      "execution_count": null,
      "metadata": {
        "id": "hfoYA6vNeqJo"
      },
      "outputs": [],
      "source": [
        "# vec_neg_Q5T9C2: the ProtBert-Based of NPP collected from Q5T9C2\n",
        "\n",
        "df_neg1 = pd.read_csv('/content/drive/MyDrive/Osta/NPP_Q5T9C2_tscale.csv', sep=\",\")\n",
        "df_neg1 = df_neg1.iloc[:, :-1]\n",
        "df_neg1 = df_neg1.drop_duplicates()"
      ]
    },
    {
      "cell_type": "code",
      "execution_count": null,
      "metadata": {
        "id": "0a46mfVbeqJo"
      },
      "outputs": [],
      "source": [
        "# vec_neg_Q5T9C2: the ProtBert-Based of NPP collected from Q9CWT3\n",
        "\n",
        "df_neg2 = pd.read_csv('/content/drive/MyDrive/Osta/NPP_Q9CWT3_tscale.csv', sep=\",\")\n",
        "df_neg2 = df_neg2.iloc[:, :-1]\n",
        "df_neg2 = df_neg2.drop_duplicates()"
      ]
    },
    {
      "cell_type": "code",
      "execution_count": null,
      "metadata": {
        "id": "UJVA5NSKeqJp"
      },
      "outputs": [],
      "source": [
        "# vec_neg_O88942: the ProtBert-Based of NPP collected from O88942\n",
        "\n",
        "df_neg3 = pd.read_csv('/content/drive/MyDrive/Osta/NPP_O88942_tscale.csv', sep=\",\")\n",
        "df_neg3 = df_neg3.iloc[:, :-1]\n",
        "df_neg3 = df_neg3.drop_duplicates()"
      ]
    },
    {
      "cell_type": "markdown",
      "metadata": {
        "id": "wUnJMZY4kiTh"
      },
      "source": [
        "### Merging all negs"
      ]
    },
    {
      "cell_type": "code",
      "execution_count": 17,
      "metadata": {
        "id": "dM66L2YFU1IH"
      },
      "outputs": [],
      "source": [
        "# merging all neg data of bone loss proteins\n",
        "\n",
        "df_neg = pd.concat([df_neg1, df_neg2, df_neg3], ignore_index=True)\n"
      ]
    },
    {
      "cell_type": "markdown",
      "metadata": {
        "id": "Q9BzWN5qs1Hv"
      },
      "source": [
        "## Balanced training dataset construction"
      ]
    },
    {
      "cell_type": "code",
      "execution_count": 18,
      "metadata": {
        "id": "Rk_6qJkth0Wn"
      },
      "outputs": [],
      "source": [
        "X1 = df_pos.to_numpy(dtype='float')\n",
        "X0 = df_neg.to_numpy(dtype='float')\n"
      ]
    },
    {
      "cell_type": "code",
      "execution_count": 19,
      "metadata": {
        "id": "c-ljBlag9zc8"
      },
      "outputs": [],
      "source": [
        "Y1 = [1 for i in range(X1.shape[0])]\n",
        "Y0 = [0 for i in range(X0.shape[0])]"
      ]
    },
    {
      "cell_type": "code",
      "execution_count": null,
      "metadata": {
        "id": "4K1d0TBi-YJX"
      },
      "outputs": [],
      "source": [
        "x0_train,x0_test,y0_train,y0_test=train_test_split(X0,Y0,test_size=0.2,shuffle=True)\n",
        "x1_train,x1_test,y1_train,y1_test=train_test_split(X1,Y1,test_size=0.2,shuffle=True)\n",
        "del X0\n",
        "del Y0\n",
        "del X1\n",
        "del Y1"
      ]
    },
    {
      "cell_type": "code",
      "execution_count": 20,
      "metadata": {
        "id": "QQAvjFGTaAYQ"
      },
      "outputs": [],
      "source": [
        "dataset1p,label1p=makedatasetPos(x1_train)\n",
        "dataset0p,label0p=makedatasetPos(x0_train)\n",
        "datasetn,labeln=makedatasetNeg(x0_train,x1_train)\n",
        "main_train1p=np.asarray(dataset1p)\n",
        "main_train0p=np.asarray(dataset0p)\n",
        "main_trainn=np.asarray(datasetn)\n",
        "main_labeln=np.asarray(labeln)\n",
        "main_label1p=np.asarray(label1p)\n",
        "main_label0p=np.asarray(label0p)\n",
        "\n",
        "del dataset1p\n",
        "del dataset0p\n",
        "del datasetn\n",
        "del labeln\n",
        "del label1p\n",
        "del label0p"
      ]
    },
    {
      "cell_type": "markdown",
      "metadata": {
        "id": "YoVr0KLlgruy"
      },
      "source": [
        "# SimPep framework"
      ]
    },
    {
      "cell_type": "markdown",
      "metadata": {
        "id": "iXMfVqWjCuS3"
      },
      "source": [
        "## SimPep-Net"
      ]
    },
    {
      "cell_type": "code",
      "execution_count": 21,
      "metadata": {
        "colab": {
          "base_uri": "https://localhost:8080/",
          "height": 439
        },
        "id": "kFsPYVnps12q",
        "outputId": "01440bfb-b59d-4639-89e9-f9a374b329e5"
      },
      "outputs": [
        {
          "output_type": "stream",
          "name": "stderr",
          "text": [
            "/usr/local/lib/python3.11/dist-packages/keras/src/layers/core/dense.py:87: UserWarning: Do not pass an `input_shape`/`input_dim` argument to a layer. When using Sequential models, prefer using an `Input(shape)` object as the first layer in the model instead.\n",
            "  super().__init__(activity_regularizer=activity_regularizer, **kwargs)\n"
          ]
        },
        {
          "output_type": "display_data",
          "data": {
            "text/plain": [
              "\u001b[1mModel: \"functional_1\"\u001b[0m\n"
            ],
            "text/html": [
              "<pre style=\"white-space:pre;overflow-x:auto;line-height:normal;font-family:Menlo,'DejaVu Sans Mono',consolas,'Courier New',monospace\"><span style=\"font-weight: bold\">Model: \"functional_1\"</span>\n",
              "</pre>\n"
            ]
          },
          "metadata": {}
        },
        {
          "output_type": "display_data",
          "data": {
            "text/plain": [
              "┏━━━━━━━━━━━━━━━━━━━━━┳━━━━━━━━━━━━━━━━━━━┳━━━━━━━━━━━━┳━━━━━━━━━━━━━━━━━━━┓\n",
              "┃\u001b[1m \u001b[0m\u001b[1mLayer (type)       \u001b[0m\u001b[1m \u001b[0m┃\u001b[1m \u001b[0m\u001b[1mOutput Shape     \u001b[0m\u001b[1m \u001b[0m┃\u001b[1m \u001b[0m\u001b[1m   Param #\u001b[0m\u001b[1m \u001b[0m┃\u001b[1m \u001b[0m\u001b[1mConnected to     \u001b[0m\u001b[1m \u001b[0m┃\n",
              "┡━━━━━━━━━━━━━━━━━━━━━╇━━━━━━━━━━━━━━━━━━━╇━━━━━━━━━━━━╇━━━━━━━━━━━━━━━━━━━┩\n",
              "│ input_layer         │ (\u001b[38;5;45mNone\u001b[0m, \u001b[38;5;34m1024\u001b[0m)      │          \u001b[38;5;34m0\u001b[0m │ -                 │\n",
              "│ (\u001b[38;5;33mInputLayer\u001b[0m)        │                   │            │                   │\n",
              "├─────────────────────┼───────────────────┼────────────┼───────────────────┤\n",
              "│ input_layer_1       │ (\u001b[38;5;45mNone\u001b[0m, \u001b[38;5;34m1024\u001b[0m)      │          \u001b[38;5;34m0\u001b[0m │ -                 │\n",
              "│ (\u001b[38;5;33mInputLayer\u001b[0m)        │                   │            │                   │\n",
              "├─────────────────────┼───────────────────┼────────────┼───────────────────┤\n",
              "│ sequential          │ (\u001b[38;5;45mNone\u001b[0m, \u001b[38;5;34m32\u001b[0m)        │    \u001b[38;5;34m600,800\u001b[0m │ input_layer[\u001b[38;5;34m0\u001b[0m][\u001b[38;5;34m0\u001b[0m… │\n",
              "│ (\u001b[38;5;33mSequential\u001b[0m)        │                   │            │ input_layer_1[\u001b[38;5;34m0\u001b[0m]… │\n",
              "├─────────────────────┼───────────────────┼────────────┼───────────────────┤\n",
              "│ lambda (\u001b[38;5;33mLambda\u001b[0m)     │ (\u001b[38;5;45mNone\u001b[0m, \u001b[38;5;34m32\u001b[0m)        │          \u001b[38;5;34m0\u001b[0m │ sequential[\u001b[38;5;34m0\u001b[0m][\u001b[38;5;34m0\u001b[0m], │\n",
              "│                     │                   │            │ sequential[\u001b[38;5;34m1\u001b[0m][\u001b[38;5;34m0\u001b[0m]  │\n",
              "├─────────────────────┼───────────────────┼────────────┼───────────────────┤\n",
              "│ dropout_3 (\u001b[38;5;33mDropout\u001b[0m) │ (\u001b[38;5;45mNone\u001b[0m, \u001b[38;5;34m32\u001b[0m)        │          \u001b[38;5;34m0\u001b[0m │ lambda[\u001b[38;5;34m0\u001b[0m][\u001b[38;5;34m0\u001b[0m]      │\n",
              "├─────────────────────┼───────────────────┼────────────┼───────────────────┤\n",
              "│ dense_9 (\u001b[38;5;33mDense\u001b[0m)     │ (\u001b[38;5;45mNone\u001b[0m, \u001b[38;5;34m1\u001b[0m)         │         \u001b[38;5;34m33\u001b[0m │ dropout_3[\u001b[38;5;34m0\u001b[0m][\u001b[38;5;34m0\u001b[0m]   │\n",
              "└─────────────────────┴───────────────────┴────────────┴───────────────────┘\n"
            ],
            "text/html": [
              "<pre style=\"white-space:pre;overflow-x:auto;line-height:normal;font-family:Menlo,'DejaVu Sans Mono',consolas,'Courier New',monospace\">┏━━━━━━━━━━━━━━━━━━━━━┳━━━━━━━━━━━━━━━━━━━┳━━━━━━━━━━━━┳━━━━━━━━━━━━━━━━━━━┓\n",
              "┃<span style=\"font-weight: bold\"> Layer (type)        </span>┃<span style=\"font-weight: bold\"> Output Shape      </span>┃<span style=\"font-weight: bold\">    Param # </span>┃<span style=\"font-weight: bold\"> Connected to      </span>┃\n",
              "┡━━━━━━━━━━━━━━━━━━━━━╇━━━━━━━━━━━━━━━━━━━╇━━━━━━━━━━━━╇━━━━━━━━━━━━━━━━━━━┩\n",
              "│ input_layer         │ (<span style=\"color: #00d7ff; text-decoration-color: #00d7ff\">None</span>, <span style=\"color: #00af00; text-decoration-color: #00af00\">1024</span>)      │          <span style=\"color: #00af00; text-decoration-color: #00af00\">0</span> │ -                 │\n",
              "│ (<span style=\"color: #0087ff; text-decoration-color: #0087ff\">InputLayer</span>)        │                   │            │                   │\n",
              "├─────────────────────┼───────────────────┼────────────┼───────────────────┤\n",
              "│ input_layer_1       │ (<span style=\"color: #00d7ff; text-decoration-color: #00d7ff\">None</span>, <span style=\"color: #00af00; text-decoration-color: #00af00\">1024</span>)      │          <span style=\"color: #00af00; text-decoration-color: #00af00\">0</span> │ -                 │\n",
              "│ (<span style=\"color: #0087ff; text-decoration-color: #0087ff\">InputLayer</span>)        │                   │            │                   │\n",
              "├─────────────────────┼───────────────────┼────────────┼───────────────────┤\n",
              "│ sequential          │ (<span style=\"color: #00d7ff; text-decoration-color: #00d7ff\">None</span>, <span style=\"color: #00af00; text-decoration-color: #00af00\">32</span>)        │    <span style=\"color: #00af00; text-decoration-color: #00af00\">600,800</span> │ input_layer[<span style=\"color: #00af00; text-decoration-color: #00af00\">0</span>][<span style=\"color: #00af00; text-decoration-color: #00af00\">0</span>… │\n",
              "│ (<span style=\"color: #0087ff; text-decoration-color: #0087ff\">Sequential</span>)        │                   │            │ input_layer_1[<span style=\"color: #00af00; text-decoration-color: #00af00\">0</span>]… │\n",
              "├─────────────────────┼───────────────────┼────────────┼───────────────────┤\n",
              "│ lambda (<span style=\"color: #0087ff; text-decoration-color: #0087ff\">Lambda</span>)     │ (<span style=\"color: #00d7ff; text-decoration-color: #00d7ff\">None</span>, <span style=\"color: #00af00; text-decoration-color: #00af00\">32</span>)        │          <span style=\"color: #00af00; text-decoration-color: #00af00\">0</span> │ sequential[<span style=\"color: #00af00; text-decoration-color: #00af00\">0</span>][<span style=\"color: #00af00; text-decoration-color: #00af00\">0</span>], │\n",
              "│                     │                   │            │ sequential[<span style=\"color: #00af00; text-decoration-color: #00af00\">1</span>][<span style=\"color: #00af00; text-decoration-color: #00af00\">0</span>]  │\n",
              "├─────────────────────┼───────────────────┼────────────┼───────────────────┤\n",
              "│ dropout_3 (<span style=\"color: #0087ff; text-decoration-color: #0087ff\">Dropout</span>) │ (<span style=\"color: #00d7ff; text-decoration-color: #00d7ff\">None</span>, <span style=\"color: #00af00; text-decoration-color: #00af00\">32</span>)        │          <span style=\"color: #00af00; text-decoration-color: #00af00\">0</span> │ lambda[<span style=\"color: #00af00; text-decoration-color: #00af00\">0</span>][<span style=\"color: #00af00; text-decoration-color: #00af00\">0</span>]      │\n",
              "├─────────────────────┼───────────────────┼────────────┼───────────────────┤\n",
              "│ dense_9 (<span style=\"color: #0087ff; text-decoration-color: #0087ff\">Dense</span>)     │ (<span style=\"color: #00d7ff; text-decoration-color: #00d7ff\">None</span>, <span style=\"color: #00af00; text-decoration-color: #00af00\">1</span>)         │         <span style=\"color: #00af00; text-decoration-color: #00af00\">33</span> │ dropout_3[<span style=\"color: #00af00; text-decoration-color: #00af00\">0</span>][<span style=\"color: #00af00; text-decoration-color: #00af00\">0</span>]   │\n",
              "└─────────────────────┴───────────────────┴────────────┴───────────────────┘\n",
              "</pre>\n"
            ]
          },
          "metadata": {}
        },
        {
          "output_type": "display_data",
          "data": {
            "text/plain": [
              "\u001b[1m Total params: \u001b[0m\u001b[38;5;34m600,833\u001b[0m (2.29 MB)\n"
            ],
            "text/html": [
              "<pre style=\"white-space:pre;overflow-x:auto;line-height:normal;font-family:Menlo,'DejaVu Sans Mono',consolas,'Courier New',monospace\"><span style=\"font-weight: bold\"> Total params: </span><span style=\"color: #00af00; text-decoration-color: #00af00\">600,833</span> (2.29 MB)\n",
              "</pre>\n"
            ]
          },
          "metadata": {}
        },
        {
          "output_type": "display_data",
          "data": {
            "text/plain": [
              "\u001b[1m Trainable params: \u001b[0m\u001b[38;5;34m600,833\u001b[0m (2.29 MB)\n"
            ],
            "text/html": [
              "<pre style=\"white-space:pre;overflow-x:auto;line-height:normal;font-family:Menlo,'DejaVu Sans Mono',consolas,'Courier New',monospace\"><span style=\"font-weight: bold\"> Trainable params: </span><span style=\"color: #00af00; text-decoration-color: #00af00\">600,833</span> (2.29 MB)\n",
              "</pre>\n"
            ]
          },
          "metadata": {}
        },
        {
          "output_type": "display_data",
          "data": {
            "text/plain": [
              "\u001b[1m Non-trainable params: \u001b[0m\u001b[38;5;34m0\u001b[0m (0.00 B)\n"
            ],
            "text/html": [
              "<pre style=\"white-space:pre;overflow-x:auto;line-height:normal;font-family:Menlo,'DejaVu Sans Mono',consolas,'Courier New',monospace\"><span style=\"font-weight: bold\"> Non-trainable params: </span><span style=\"color: #00af00; text-decoration-color: #00af00\">0</span> (0.00 B)\n",
              "</pre>\n"
            ]
          },
          "metadata": {}
        }
      ],
      "source": [
        "input_shape1=(len(x0_train[0]),)\n",
        "left_input = Input(shape=(len(x0_train[0]),))\n",
        "right_input = Input(shape=(len(x0_train[0]),))\n",
        "\n",
        "\n",
        "hidden_size11=512\n",
        "hidden_size12=128\n",
        "hidden_size13=64\n",
        "hidden_size14=32\n",
        "\n",
        "\n",
        "\n",
        "\n",
        "\n",
        "model = tf.keras.models.Sequential([\n",
        "    tf.keras.layers.Dense(hidden_size11,input_shape=input_shape1,  activation='relu'),\n",
        "    tf.keras.layers.Dropout(0.2),\n",
        "    tf.keras.layers.Dense(hidden_size12, activation='relu'),\n",
        "    tf.keras.layers.Dropout(0.2),\n",
        "    tf.keras.layers.Dense(hidden_size13, activation='relu'),\n",
        "    tf.keras.layers.Dropout(0.2),\n",
        "    tf.keras.layers.Dense(hidden_size14, activation='relu'),\n",
        "])\n",
        "\n",
        "\n",
        "encoded_l = model(left_input)\n",
        "encoded_r = model(right_input)\n",
        "\n",
        "L1 = tf.keras.layers.Lambda (lambda x: K.abs(x[0]-x[1]))([encoded_l, encoded_r])\n",
        "L1_D=tf.keras.layers.Dropout(0.2)(L1)\n",
        "L2 = tf.keras.layers.Dense(16, activation='relu')(L1_D)\n",
        "L2_D=tf.keras.layers.Dropout(0.2)(L2)\n",
        "L3 = tf.keras.layers.Dense(16, activation='relu')(L2_D)\n",
        "L3_D=tf.keras.layers.Dropout(0.2)(L3)\n",
        "L4 = tf.keras.layers.Dense(16, activation='relu')(L3_D)\n",
        "L4_D=tf.keras.layers.Dropout(0.2)(L4)\n",
        "L5 = tf.keras.layers.Dense(8, activation='relu')(L4_D)\n",
        "L5_D=tf.keras.layers.Dropout(0.2)(L5)\n",
        "L6 = tf.keras.layers.Dense(1, activation='relu')(L1_D)\n",
        "\n",
        "prediction = tf.keras.layers.Dense(1, activation='sigmoid')(L1_D)\n",
        "\n",
        "\n",
        "siamese_net = tf.keras.Model([left_input, right_input], prediction)\n",
        "\n",
        "optimizer= Adam(learning_rate=0.01)\n",
        "siamese_net.compile(loss='binary_crossentropy', optimizer=optimizer, metrics=[\"accuracy\", \"mae\", \"mse\"])\n",
        "\n",
        "optimizer = Adam(learning_rate = 0.0001)\n",
        "model.compile(loss=\"kl_divergence\",optimizer=optimizer)\n",
        "\n",
        "\n",
        "\n",
        "plot_model(siamese_net, show_shapes=True, show_layer_names=True)\n",
        "siamese_net.summary()"
      ]
    },
    {
      "cell_type": "code",
      "execution_count": null,
      "metadata": {
        "id": "quKgQlHBVtZX"
      },
      "outputs": [],
      "source": [
        "# # COLLAPPI inspired\n",
        "\n",
        "# input_shape1=(len(x0_train[0]),)\n",
        "# left_input = Input(shape=(len(x0_train[0]),))\n",
        "# right_input = Input(shape=(len(x0_train[0]),))\n",
        "\n",
        "\n",
        "# hidden_size11=512\n",
        "# hidden_size12=128\n",
        "# hidden_size13=64\n",
        "# hidden_size14=32\n",
        "\n",
        "\n",
        "\n",
        "\n",
        "# model = tf.keras.models.Sequential([\n",
        "#     tf.keras.layers.Dense(hidden_size11,input_shape=input_shape1,  activation='relu'),\n",
        "#     tf.keras.layers.Dropout(0.2),\n",
        "#     tf.keras.layers.Dense(hidden_size12, activation='relu'),\n",
        "#     tf.keras.layers.Dropout(0.2),\n",
        "#     tf.keras.layers.Dense(hidden_size13, activation='relu'),\n",
        "#     tf.keras.layers.Dropout(0.2),\n",
        "#     tf.keras.layers.Dense(hidden_size14, activation='relu'),\n",
        "# ])\n",
        "\n",
        "\n",
        "# encoded_l = model(left_input)\n",
        "# encoded_r = model(right_input)\n",
        "\n",
        "# L1 = tf.keras.layers.Lambda (lambda x: K.abs(x[0]-x[1]))([encoded_l, encoded_r])\n",
        "# L1_D=tf.keras.layers.Dropout(0.2)(L1)\n",
        "# # Now we add CollaPPI-inspired MLP head:\n",
        "# MLP1 = tf.keras.layers.Dense(512, activation='relu')(L1_D)\n",
        "# MLP1_D = tf.keras.layers.Dropout(0.2)(MLP1)\n",
        "\n",
        "# MLP2 = tf.keras.layers.Dense(256, activation='relu')(MLP1_D)\n",
        "# MLP2_D = tf.keras.layers.Dropout(0.2)(MLP2)\n",
        "\n",
        "# MLP3 = tf.keras.layers.Dense(1)(MLP2_D)  # linear output first\n",
        "# prediction = tf.keras.layers.Activation('sigmoid')(MLP3)  # sigmoid final activation\n",
        "\n",
        "# # Build model:\n",
        "# siamese_net = tf.keras.Model([left_input, right_input], prediction)\n",
        "\n",
        "# optimizer= Adam(learning_rate=0.0001)\n",
        "# siamese_net.compile(loss='binary_crossentropy', optimizer=optimizer, metrics=[\"accuracy\", \"mae\", \"mse\"])\n",
        "\n",
        "# optimizer = Adam(learning_rate = 0.0001)\n",
        "# model.compile(loss=\"kl_divergence\",optimizer=optimizer)\n",
        "\n",
        "\n",
        "\n",
        "# plot_model(siamese_net, show_shapes=True, show_layer_names=True)\n",
        "# siamese_net.summary()"
      ]
    },
    {
      "cell_type": "markdown",
      "metadata": {
        "id": "4UtDlZG_tKb5"
      },
      "source": [
        "## Training optimization"
      ]
    },
    {
      "cell_type": "code",
      "execution_count": 22,
      "metadata": {
        "colab": {
          "base_uri": "https://localhost:8080/"
        },
        "id": "82_V4DdoShMg",
        "outputId": "c801fe48-4e4b-4b5d-db9f-a1cd44403d69"
      },
      "outputs": [
        {
          "output_type": "stream",
          "name": "stdout",
          "text": [
            "P1 3240 P0 3240\n",
            "6480 6480\n",
            "Epoch 1/5\n",
            "\u001b[1m102/102\u001b[0m \u001b[32m━━━━━━━━━━━━━━━━━━━━\u001b[0m\u001b[37m\u001b[0m \u001b[1m13s\u001b[0m 48ms/step - accuracy: 0.5106 - loss: 0.7105 - mae: 0.4997 - mse: 0.2573\n",
            "Epoch 2/5\n",
            "\u001b[1m102/102\u001b[0m \u001b[32m━━━━━━━━━━━━━━━━━━━━\u001b[0m\u001b[37m\u001b[0m \u001b[1m13s\u001b[0m 76ms/step - accuracy: 0.5019 - loss: 0.6941 - mae: 0.4998 - mse: 0.2505\n",
            "Epoch 3/5\n",
            "\u001b[1m102/102\u001b[0m \u001b[32m━━━━━━━━━━━━━━━━━━━━\u001b[0m\u001b[37m\u001b[0m \u001b[1m5s\u001b[0m 26ms/step - accuracy: 0.5262 - loss: 0.6891 - mae: 0.4961 - mse: 0.2480\n",
            "Epoch 4/5\n",
            "\u001b[1m102/102\u001b[0m \u001b[32m━━━━━━━━━━━━━━━━━━━━\u001b[0m\u001b[37m\u001b[0m \u001b[1m3s\u001b[0m 26ms/step - accuracy: 0.6939 - loss: 0.6054 - mae: 0.4246 - mse: 0.2084\n",
            "Epoch 5/5\n",
            "\u001b[1m102/102\u001b[0m \u001b[32m━━━━━━━━━━━━━━━━━━━━\u001b[0m\u001b[37m\u001b[0m \u001b[1m4s\u001b[0m 40ms/step - accuracy: 0.8435 - loss: 0.4076 - mae: 0.2636 - mse: 0.1233\n",
            "74\n",
            "56\n",
            "50\n",
            "50\n",
            "P1 3240 P0 3240\n",
            "Epoch 1/5\n",
            "\u001b[1m102/102\u001b[0m \u001b[32m━━━━━━━━━━━━━━━━━━━━\u001b[0m\u001b[37m\u001b[0m \u001b[1m3s\u001b[0m 25ms/step - accuracy: 0.9103 - loss: 0.2717 - mae: 0.1671 - mse: 0.0744\n",
            "Epoch 2/5\n",
            "\u001b[1m102/102\u001b[0m \u001b[32m━━━━━━━━━━━━━━━━━━━━\u001b[0m\u001b[37m\u001b[0m \u001b[1m5s\u001b[0m 27ms/step - accuracy: 0.9013 - loss: 0.2884 - mae: 0.1637 - mse: 0.0790\n",
            "Epoch 3/5\n",
            "\u001b[1m102/102\u001b[0m \u001b[32m━━━━━━━━━━━━━━━━━━━━\u001b[0m\u001b[37m\u001b[0m \u001b[1m6s\u001b[0m 32ms/step - accuracy: 0.9321 - loss: 0.2184 - mae: 0.1229 - mse: 0.0555\n",
            "Epoch 4/5\n",
            "\u001b[1m102/102\u001b[0m \u001b[32m━━━━━━━━━━━━━━━━━━━━\u001b[0m\u001b[37m\u001b[0m \u001b[1m5s\u001b[0m 26ms/step - accuracy: 0.9453 - loss: 0.1900 - mae: 0.1049 - mse: 0.0473\n",
            "Epoch 5/5\n",
            "\u001b[1m102/102\u001b[0m \u001b[32m━━━━━━━━━━━━━━━━━━━━\u001b[0m\u001b[37m\u001b[0m \u001b[1m7s\u001b[0m 47ms/step - accuracy: 0.9453 - loss: 0.1839 - mae: 0.1012 - mse: 0.0456\n",
            "1\n",
            "94\n",
            "93\n",
            "90\n",
            "91\n",
            "P1 3240 P0 3240\n",
            "Epoch 1/5\n",
            "\u001b[1m102/102\u001b[0m \u001b[32m━━━━━━━━━━━━━━━━━━━━\u001b[0m\u001b[37m\u001b[0m \u001b[1m3s\u001b[0m 26ms/step - accuracy: 0.9544 - loss: 0.1604 - mae: 0.0876 - mse: 0.0389\n",
            "Epoch 2/5\n",
            "\u001b[1m102/102\u001b[0m \u001b[32m━━━━━━━━━━━━━━━━━━━━\u001b[0m\u001b[37m\u001b[0m \u001b[1m5s\u001b[0m 24ms/step - accuracy: 0.9467 - loss: 0.1715 - mae: 0.0890 - mse: 0.0424\n",
            "Epoch 3/5\n",
            "\u001b[1m102/102\u001b[0m \u001b[32m━━━━━━━━━━━━━━━━━━━━\u001b[0m\u001b[37m\u001b[0m \u001b[1m3s\u001b[0m 28ms/step - accuracy: 0.9543 - loss: 0.1465 - mae: 0.0805 - mse: 0.0370\n",
            "Epoch 4/5\n",
            "\u001b[1m102/102\u001b[0m \u001b[32m━━━━━━━━━━━━━━━━━━━━\u001b[0m\u001b[37m\u001b[0m \u001b[1m5s\u001b[0m 26ms/step - accuracy: 0.9565 - loss: 0.1414 - mae: 0.0771 - mse: 0.0358\n",
            "Epoch 5/5\n",
            "\u001b[1m102/102\u001b[0m \u001b[32m━━━━━━━━━━━━━━━━━━━━\u001b[0m\u001b[37m\u001b[0m \u001b[1m3s\u001b[0m 26ms/step - accuracy: 0.9403 - loss: 0.1622 - mae: 0.0943 - mse: 0.0445\n",
            "2\n",
            "94\n",
            "95\n",
            "94\n",
            "95\n",
            "P1 3240 P0 3240\n",
            "Epoch 1/5\n",
            "\u001b[1m102/102\u001b[0m \u001b[32m━━━━━━━━━━━━━━━━━━━━\u001b[0m\u001b[37m\u001b[0m \u001b[1m3s\u001b[0m 27ms/step - accuracy: 0.9563 - loss: 0.1304 - mae: 0.0719 - mse: 0.0338\n",
            "Epoch 2/5\n",
            "\u001b[1m102/102\u001b[0m \u001b[32m━━━━━━━━━━━━━━━━━━━━\u001b[0m\u001b[37m\u001b[0m \u001b[1m6s\u001b[0m 37ms/step - accuracy: 0.9493 - loss: 0.1375 - mae: 0.0772 - mse: 0.0374\n",
            "Epoch 3/5\n",
            "\u001b[1m102/102\u001b[0m \u001b[32m━━━━━━━━━━━━━━━━━━━━\u001b[0m\u001b[37m\u001b[0m \u001b[1m3s\u001b[0m 27ms/step - accuracy: 0.9603 - loss: 0.1365 - mae: 0.0674 - mse: 0.0323\n",
            "Epoch 4/5\n",
            "\u001b[1m102/102\u001b[0m \u001b[32m━━━━━━━━━━━━━━━━━━━━\u001b[0m\u001b[37m\u001b[0m \u001b[1m3s\u001b[0m 25ms/step - accuracy: 0.9660 - loss: 0.1146 - mae: 0.0601 - mse: 0.0279\n",
            "Epoch 5/5\n",
            "\u001b[1m102/102\u001b[0m \u001b[32m━━━━━━━━━━━━━━━━━━━━\u001b[0m\u001b[37m\u001b[0m \u001b[1m3s\u001b[0m 26ms/step - accuracy: 0.9671 - loss: 0.1128 - mae: 0.0571 - mse: 0.0274\n",
            "3\n",
            "96\n",
            "96\n",
            "95\n",
            "95\n",
            "P1 3240 P0 3240\n",
            "Epoch 1/5\n",
            "\u001b[1m102/102\u001b[0m \u001b[32m━━━━━━━━━━━━━━━━━━━━\u001b[0m\u001b[37m\u001b[0m \u001b[1m7s\u001b[0m 64ms/step - accuracy: 0.9472 - loss: 0.1710 - mae: 0.0814 - mse: 0.0434\n",
            "Epoch 2/5\n",
            "\u001b[1m102/102\u001b[0m \u001b[32m━━━━━━━━━━━━━━━━━━━━\u001b[0m\u001b[37m\u001b[0m \u001b[1m3s\u001b[0m 26ms/step - accuracy: 0.9416 - loss: 0.1786 - mae: 0.0950 - mse: 0.0476\n",
            "Epoch 3/5\n",
            "\u001b[1m102/102\u001b[0m \u001b[32m━━━━━━━━━━━━━━━━━━━━\u001b[0m\u001b[37m\u001b[0m \u001b[1m6s\u001b[0m 40ms/step - accuracy: 0.9508 - loss: 0.1531 - mae: 0.0813 - mse: 0.0400\n",
            "Epoch 4/5\n",
            "\u001b[1m102/102\u001b[0m \u001b[32m━━━━━━━━━━━━━━━━━━━━\u001b[0m\u001b[37m\u001b[0m \u001b[1m3s\u001b[0m 23ms/step - accuracy: 0.9644 - loss: 0.1241 - mae: 0.0655 - mse: 0.0307\n",
            "Epoch 5/5\n",
            "\u001b[1m102/102\u001b[0m \u001b[32m━━━━━━━━━━━━━━━━━━━━\u001b[0m\u001b[37m\u001b[0m \u001b[1m3s\u001b[0m 25ms/step - accuracy: 0.9586 - loss: 0.1238 - mae: 0.0699 - mse: 0.0330\n",
            "4\n",
            "96\n",
            "95\n",
            "93\n",
            "94\n",
            "P1 3240 P0 3240\n",
            "Epoch 1/5\n",
            "\u001b[1m102/102\u001b[0m \u001b[32m━━━━━━━━━━━━━━━━━━━━\u001b[0m\u001b[37m\u001b[0m \u001b[1m3s\u001b[0m 26ms/step - accuracy: 0.9699 - loss: 0.1068 - mae: 0.0548 - mse: 0.0258\n",
            "Epoch 2/5\n",
            "\u001b[1m102/102\u001b[0m \u001b[32m━━━━━━━━━━━━━━━━━━━━\u001b[0m\u001b[37m\u001b[0m \u001b[1m9s\u001b[0m 67ms/step - accuracy: 0.9695 - loss: 0.1093 - mae: 0.0571 - mse: 0.0270\n",
            "Epoch 3/5\n",
            "\u001b[1m102/102\u001b[0m \u001b[32m━━━━━━━━━━━━━━━━━━━━\u001b[0m\u001b[37m\u001b[0m \u001b[1m6s\u001b[0m 26ms/step - accuracy: 0.9695 - loss: 0.1030 - mae: 0.0525 - mse: 0.0256\n",
            "Epoch 4/5\n",
            "\u001b[1m102/102\u001b[0m \u001b[32m━━━━━━━━━━━━━━━━━━━━\u001b[0m\u001b[37m\u001b[0m \u001b[1m6s\u001b[0m 31ms/step - accuracy: 0.9731 - loss: 0.0956 - mae: 0.0488 - mse: 0.0234\n",
            "Epoch 5/5\n",
            "\u001b[1m102/102\u001b[0m \u001b[32m━━━━━━━━━━━━━━━━━━━━\u001b[0m\u001b[37m\u001b[0m \u001b[1m3s\u001b[0m 27ms/step - accuracy: 0.9275 - loss: 0.1724 - mae: 0.0954 - mse: 0.0514\n",
            "5\n",
            "96\n",
            "97\n",
            "96\n",
            "96\n",
            "P1 3240 P0 3240\n",
            "Epoch 1/5\n",
            "\u001b[1m102/102\u001b[0m \u001b[32m━━━━━━━━━━━━━━━━━━━━\u001b[0m\u001b[37m\u001b[0m \u001b[1m2s\u001b[0m 24ms/step - accuracy: 0.9457 - loss: 0.1484 - mae: 0.0830 - mse: 0.0419\n",
            "Epoch 2/5\n",
            "\u001b[1m102/102\u001b[0m \u001b[32m━━━━━━━━━━━━━━━━━━━━\u001b[0m\u001b[37m\u001b[0m \u001b[1m3s\u001b[0m 29ms/step - accuracy: 0.9570 - loss: 0.1223 - mae: 0.0674 - mse: 0.0333\n",
            "Epoch 3/5\n",
            "\u001b[1m102/102\u001b[0m \u001b[32m━━━━━━━━━━━━━━━━━━━━\u001b[0m\u001b[37m\u001b[0m \u001b[1m5s\u001b[0m 25ms/step - accuracy: 0.9727 - loss: 0.0823 - mae: 0.0458 - mse: 0.0218\n",
            "Epoch 4/5\n",
            "\u001b[1m102/102\u001b[0m \u001b[32m━━━━━━━━━━━━━━━━━━━━\u001b[0m\u001b[37m\u001b[0m \u001b[1m5s\u001b[0m 25ms/step - accuracy: 0.9727 - loss: 0.0812 - mae: 0.0430 - mse: 0.0209\n",
            "Epoch 5/5\n",
            "\u001b[1m102/102\u001b[0m \u001b[32m━━━━━━━━━━━━━━━━━━━━\u001b[0m\u001b[37m\u001b[0m \u001b[1m3s\u001b[0m 27ms/step - accuracy: 0.9707 - loss: 0.0830 - mae: 0.0492 - mse: 0.0225\n",
            "6\n",
            "96\n",
            "97\n",
            "96\n",
            "95\n",
            "P1 3240 P0 3240\n",
            "Epoch 1/5\n",
            "\u001b[1m102/102\u001b[0m \u001b[32m━━━━━━━━━━━━━━━━━━━━\u001b[0m\u001b[37m\u001b[0m \u001b[1m4s\u001b[0m 40ms/step - accuracy: 0.9794 - loss: 0.0655 - mae: 0.0362 - mse: 0.0168\n",
            "Epoch 2/5\n",
            "\u001b[1m102/102\u001b[0m \u001b[32m━━━━━━━━━━━━━━━━━━━━\u001b[0m\u001b[37m\u001b[0m \u001b[1m3s\u001b[0m 26ms/step - accuracy: 0.9739 - loss: 0.0771 - mae: 0.0420 - mse: 0.0202\n",
            "Epoch 3/5\n",
            "\u001b[1m102/102\u001b[0m \u001b[32m━━━━━━━━━━━━━━━━━━━━\u001b[0m\u001b[37m\u001b[0m \u001b[1m2s\u001b[0m 22ms/step - accuracy: 0.9839 - loss: 0.0515 - mae: 0.0285 - mse: 0.0133\n",
            "Epoch 4/5\n",
            "\u001b[1m102/102\u001b[0m \u001b[32m━━━━━━━━━━━━━━━━━━━━\u001b[0m\u001b[37m\u001b[0m \u001b[1m2s\u001b[0m 24ms/step - accuracy: 0.9838 - loss: 0.0607 - mae: 0.0295 - mse: 0.0143\n",
            "Epoch 5/5\n",
            "\u001b[1m102/102\u001b[0m \u001b[32m━━━━━━━━━━━━━━━━━━━━\u001b[0m\u001b[37m\u001b[0m \u001b[1m3s\u001b[0m 28ms/step - accuracy: 0.9773 - loss: 0.0794 - mae: 0.0396 - mse: 0.0194\n",
            "7\n",
            "97\n",
            "98\n",
            "97\n",
            "97\n",
            "P1 3240 P0 3240\n",
            "Epoch 1/5\n",
            "\u001b[1m102/102\u001b[0m \u001b[32m━━━━━━━━━━━━━━━━━━━━\u001b[0m\u001b[37m\u001b[0m \u001b[1m3s\u001b[0m 27ms/step - accuracy: 0.9680 - loss: 0.1035 - mae: 0.0516 - mse: 0.0270\n",
            "Epoch 2/5\n",
            "\u001b[1m102/102\u001b[0m \u001b[32m━━━━━━━━━━━━━━━━━━━━\u001b[0m\u001b[37m\u001b[0m \u001b[1m5s\u001b[0m 26ms/step - accuracy: 0.9832 - loss: 0.0639 - mae: 0.0310 - mse: 0.0147\n",
            "Epoch 3/5\n",
            "\u001b[1m102/102\u001b[0m \u001b[32m━━━━━━━━━━━━━━━━━━━━\u001b[0m\u001b[37m\u001b[0m \u001b[1m3s\u001b[0m 32ms/step - accuracy: 0.9799 - loss: 0.0734 - mae: 0.0341 - mse: 0.0172\n",
            "Epoch 4/5\n",
            "\u001b[1m102/102\u001b[0m \u001b[32m━━━━━━━━━━━━━━━━━━━━\u001b[0m\u001b[37m\u001b[0m \u001b[1m4s\u001b[0m 40ms/step - accuracy: 0.9823 - loss: 0.0711 - mae: 0.0331 - mse: 0.0160\n",
            "Epoch 5/5\n",
            "\u001b[1m102/102\u001b[0m \u001b[32m━━━━━━━━━━━━━━━━━━━━\u001b[0m\u001b[37m\u001b[0m \u001b[1m3s\u001b[0m 26ms/step - accuracy: 0.9765 - loss: 0.0964 - mae: 0.0454 - mse: 0.0222\n",
            "8\n",
            "98\n",
            "97\n",
            "98\n",
            "97\n",
            "P1 3240 P0 3240\n",
            "Epoch 1/5\n",
            "\u001b[1m102/102\u001b[0m \u001b[32m━━━━━━━━━━━━━━━━━━━━\u001b[0m\u001b[37m\u001b[0m \u001b[1m3s\u001b[0m 26ms/step - accuracy: 0.9556 - loss: 0.1590 - mae: 0.0711 - mse: 0.0395\n",
            "Epoch 2/5\n",
            "\u001b[1m102/102\u001b[0m \u001b[32m━━━━━━━━━━━━━━━━━━━━\u001b[0m\u001b[37m\u001b[0m \u001b[1m4s\u001b[0m 37ms/step - accuracy: 0.9769 - loss: 0.0951 - mae: 0.0447 - mse: 0.0216\n",
            "Epoch 3/5\n",
            "\u001b[1m102/102\u001b[0m \u001b[32m━━━━━━━━━━━━━━━━━━━━\u001b[0m\u001b[37m\u001b[0m \u001b[1m4s\u001b[0m 26ms/step - accuracy: 0.9657 - loss: 0.1324 - mae: 0.0570 - mse: 0.0306\n",
            "Epoch 4/5\n",
            "\u001b[1m102/102\u001b[0m \u001b[32m━━━━━━━━━━━━━━━━━━━━\u001b[0m\u001b[37m\u001b[0m \u001b[1m5s\u001b[0m 26ms/step - accuracy: 0.9796 - loss: 0.0873 - mae: 0.0396 - mse: 0.0191\n",
            "Epoch 5/5\n",
            "\u001b[1m102/102\u001b[0m \u001b[32m━━━━━━━━━━━━━━━━━━━━\u001b[0m\u001b[37m\u001b[0m \u001b[1m3s\u001b[0m 29ms/step - accuracy: 0.9811 - loss: 0.0793 - mae: 0.0383 - mse: 0.0178\n",
            "9\n",
            "97\n",
            "96\n",
            "97\n",
            "96\n",
            "P1 3240 P0 3240\n",
            "Epoch 1/5\n",
            "\u001b[1m102/102\u001b[0m \u001b[32m━━━━━━━━━━━━━━━━━━━━\u001b[0m\u001b[37m\u001b[0m \u001b[1m4s\u001b[0m 34ms/step - accuracy: 0.9820 - loss: 0.0757 - mae: 0.0352 - mse: 0.0168\n",
            "Epoch 2/5\n",
            "\u001b[1m102/102\u001b[0m \u001b[32m━━━━━━━━━━━━━━━━━━━━\u001b[0m\u001b[37m\u001b[0m \u001b[1m2s\u001b[0m 22ms/step - accuracy: 0.9825 - loss: 0.0756 - mae: 0.0358 - mse: 0.0157\n",
            "Epoch 3/5\n",
            "\u001b[1m102/102\u001b[0m \u001b[32m━━━━━━━━━━━━━━━━━━━━\u001b[0m\u001b[37m\u001b[0m \u001b[1m3s\u001b[0m 24ms/step - accuracy: 0.9794 - loss: 0.0897 - mae: 0.0376 - mse: 0.0190\n",
            "Epoch 4/5\n",
            "\u001b[1m102/102\u001b[0m \u001b[32m━━━━━━━━━━━━━━━━━━━━\u001b[0m\u001b[37m\u001b[0m \u001b[1m3s\u001b[0m 25ms/step - accuracy: 0.9723 - loss: 0.1016 - mae: 0.0507 - mse: 0.0239\n",
            "Epoch 5/5\n",
            "\u001b[1m102/102\u001b[0m \u001b[32m━━━━━━━━━━━━━━━━━━━━\u001b[0m\u001b[37m\u001b[0m \u001b[1m6s\u001b[0m 34ms/step - accuracy: 0.9745 - loss: 0.0954 - mae: 0.0438 - mse: 0.0222\n",
            "10\n",
            "97\n",
            "97\n",
            "98\n",
            "98\n",
            "P1 3240 P0 3240\n",
            "Epoch 1/5\n",
            "\u001b[1m102/102\u001b[0m \u001b[32m━━━━━━━━━━━━━━━━━━━━\u001b[0m\u001b[37m\u001b[0m \u001b[1m3s\u001b[0m 26ms/step - accuracy: 0.9662 - loss: 0.1417 - mae: 0.0578 - mse: 0.0316\n",
            "Epoch 2/5\n",
            "\u001b[1m102/102\u001b[0m \u001b[32m━━━━━━━━━━━━━━━━━━━━\u001b[0m\u001b[37m\u001b[0m \u001b[1m3s\u001b[0m 25ms/step - accuracy: 0.9796 - loss: 0.0859 - mae: 0.0402 - mse: 0.0191\n",
            "Epoch 3/5\n",
            "\u001b[1m102/102\u001b[0m \u001b[32m━━━━━━━━━━━━━━━━━━━━\u001b[0m\u001b[37m\u001b[0m \u001b[1m3s\u001b[0m 26ms/step - accuracy: 0.9844 - loss: 0.0616 - mae: 0.0315 - mse: 0.0141\n",
            "Epoch 4/5\n",
            "\u001b[1m102/102\u001b[0m \u001b[32m━━━━━━━━━━━━━━━━━━━━\u001b[0m\u001b[37m\u001b[0m \u001b[1m4s\u001b[0m 43ms/step - accuracy: 0.9814 - loss: 0.0761 - mae: 0.0386 - mse: 0.0172\n",
            "Epoch 5/5\n",
            "\u001b[1m102/102\u001b[0m \u001b[32m━━━━━━━━━━━━━━━━━━━━\u001b[0m\u001b[37m\u001b[0m \u001b[1m3s\u001b[0m 26ms/step - accuracy: 0.9797 - loss: 0.0803 - mae: 0.0366 - mse: 0.0184\n",
            "11\n",
            "98\n",
            "98\n",
            "98\n",
            "97\n",
            "P1 3240 P0 3240\n",
            "Epoch 1/5\n",
            "\u001b[1m102/102\u001b[0m \u001b[32m━━━━━━━━━━━━━━━━━━━━\u001b[0m\u001b[37m\u001b[0m \u001b[1m3s\u001b[0m 26ms/step - accuracy: 0.9878 - loss: 0.0513 - mae: 0.0275 - mse: 0.0115\n",
            "Epoch 2/5\n",
            "\u001b[1m102/102\u001b[0m \u001b[32m━━━━━━━━━━━━━━━━━━━━\u001b[0m\u001b[37m\u001b[0m \u001b[1m3s\u001b[0m 26ms/step - accuracy: 0.9686 - loss: 0.1002 - mae: 0.0501 - mse: 0.0256\n",
            "Epoch 3/5\n",
            "\u001b[1m102/102\u001b[0m \u001b[32m━━━━━━━━━━━━━━━━━━━━\u001b[0m\u001b[37m\u001b[0m \u001b[1m5s\u001b[0m 28ms/step - accuracy: 0.9840 - loss: 0.0657 - mae: 0.0310 - mse: 0.0148\n",
            "Epoch 4/5\n",
            "\u001b[1m102/102\u001b[0m \u001b[32m━━━━━━━━━━━━━━━━━━━━\u001b[0m\u001b[37m\u001b[0m \u001b[1m3s\u001b[0m 26ms/step - accuracy: 0.9853 - loss: 0.0622 - mae: 0.0274 - mse: 0.0136\n",
            "Epoch 5/5\n",
            "\u001b[1m102/102\u001b[0m \u001b[32m━━━━━━━━━━━━━━━━━━━━\u001b[0m\u001b[37m\u001b[0m \u001b[1m3s\u001b[0m 26ms/step - accuracy: 0.9812 - loss: 0.0733 - mae: 0.0385 - mse: 0.0174\n",
            "12\n",
            "98\n",
            "98\n",
            "97\n",
            "98\n",
            "P1 3240 P0 3240\n",
            "Epoch 1/5\n",
            "\u001b[1m102/102\u001b[0m \u001b[32m━━━━━━━━━━━━━━━━━━━━\u001b[0m\u001b[37m\u001b[0m \u001b[1m3s\u001b[0m 28ms/step - accuracy: 0.9801 - loss: 0.0841 - mae: 0.0347 - mse: 0.0184\n",
            "Epoch 2/5\n",
            "\u001b[1m102/102\u001b[0m \u001b[32m━━━━━━━━━━━━━━━━━━━━\u001b[0m\u001b[37m\u001b[0m \u001b[1m4s\u001b[0m 40ms/step - accuracy: 0.9683 - loss: 0.1066 - mae: 0.0556 - mse: 0.0278\n",
            "Epoch 3/5\n",
            "\u001b[1m102/102\u001b[0m \u001b[32m━━━━━━━━━━━━━━━━━━━━\u001b[0m\u001b[37m\u001b[0m \u001b[1m3s\u001b[0m 26ms/step - accuracy: 0.9818 - loss: 0.0760 - mae: 0.0364 - mse: 0.0170\n",
            "Epoch 4/5\n",
            "\u001b[1m102/102\u001b[0m \u001b[32m━━━━━━━━━━━━━━━━━━━━\u001b[0m\u001b[37m\u001b[0m \u001b[1m3s\u001b[0m 26ms/step - accuracy: 0.9834 - loss: 0.0653 - mae: 0.0309 - mse: 0.0148\n",
            "Epoch 5/5\n",
            "\u001b[1m102/102\u001b[0m \u001b[32m━━━━━━━━━━━━━━━━━━━━\u001b[0m\u001b[37m\u001b[0m \u001b[1m5s\u001b[0m 27ms/step - accuracy: 0.9831 - loss: 0.0686 - mae: 0.0305 - mse: 0.0154\n",
            "13\n",
            "98\n",
            "98\n",
            "97\n",
            "97\n",
            "P1 3240 P0 3240\n",
            "Epoch 1/5\n",
            "\u001b[1m102/102\u001b[0m \u001b[32m━━━━━━━━━━━━━━━━━━━━\u001b[0m\u001b[37m\u001b[0m \u001b[1m2s\u001b[0m 24ms/step - accuracy: 0.9837 - loss: 0.0687 - mae: 0.0303 - mse: 0.0148\n",
            "Epoch 2/5\n",
            "\u001b[1m102/102\u001b[0m \u001b[32m━━━━━━━━━━━━━━━━━━━━\u001b[0m\u001b[37m\u001b[0m \u001b[1m3s\u001b[0m 26ms/step - accuracy: 0.9852 - loss: 0.0670 - mae: 0.0275 - mse: 0.0137\n",
            "Epoch 3/5\n",
            "\u001b[1m102/102\u001b[0m \u001b[32m━━━━━━━━━━━━━━━━━━━━\u001b[0m\u001b[37m\u001b[0m \u001b[1m5s\u001b[0m 28ms/step - accuracy: 0.9874 - loss: 0.0593 - mae: 0.0270 - mse: 0.0123\n",
            "Epoch 4/5\n",
            "\u001b[1m102/102\u001b[0m \u001b[32m━━━━━━━━━━━━━━━━━━━━\u001b[0m\u001b[37m\u001b[0m \u001b[1m4s\u001b[0m 38ms/step - accuracy: 0.9782 - loss: 0.0765 - mae: 0.0339 - mse: 0.0180\n",
            "Epoch 5/5\n",
            "\u001b[1m102/102\u001b[0m \u001b[32m━━━━━━━━━━━━━━━━━━━━\u001b[0m\u001b[37m\u001b[0m \u001b[1m3s\u001b[0m 26ms/step - accuracy: 0.9767 - loss: 0.0869 - mae: 0.0410 - mse: 0.0209\n",
            "14\n",
            "96\n",
            "98\n",
            "98\n",
            "98\n",
            "P1 3240 P0 3240\n",
            "Epoch 1/5\n",
            "\u001b[1m102/102\u001b[0m \u001b[32m━━━━━━━━━━━━━━━━━━━━\u001b[0m\u001b[37m\u001b[0m \u001b[1m2s\u001b[0m 24ms/step - accuracy: 0.9816 - loss: 0.0739 - mae: 0.0347 - mse: 0.0171\n",
            "Epoch 2/5\n",
            "\u001b[1m102/102\u001b[0m \u001b[32m━━━━━━━━━━━━━━━━━━━━\u001b[0m\u001b[37m\u001b[0m \u001b[1m3s\u001b[0m 27ms/step - accuracy: 0.9636 - loss: 0.1201 - mae: 0.0552 - mse: 0.0303\n",
            "Epoch 3/5\n",
            "\u001b[1m102/102\u001b[0m \u001b[32m━━━━━━━━━━━━━━━━━━━━\u001b[0m\u001b[37m\u001b[0m \u001b[1m5s\u001b[0m 30ms/step - accuracy: 0.9791 - loss: 0.0699 - mae: 0.0362 - mse: 0.0177\n",
            "Epoch 4/5\n",
            "\u001b[1m102/102\u001b[0m \u001b[32m━━━━━━━━━━━━━━━━━━━━\u001b[0m\u001b[37m\u001b[0m \u001b[1m3s\u001b[0m 25ms/step - accuracy: 0.9849 - loss: 0.0571 - mae: 0.0307 - mse: 0.0137\n",
            "Epoch 5/5\n",
            "\u001b[1m102/102\u001b[0m \u001b[32m━━━━━━━━━━━━━━━━━━━━\u001b[0m\u001b[37m\u001b[0m \u001b[1m3s\u001b[0m 27ms/step - accuracy: 0.9817 - loss: 0.0682 - mae: 0.0319 - mse: 0.0162\n",
            "15\n",
            "98\n",
            "98\n",
            "97\n",
            "97\n",
            "P1 3240 P0 3240\n",
            "Epoch 1/5\n",
            "\u001b[1m102/102\u001b[0m \u001b[32m━━━━━━━━━━━━━━━━━━━━\u001b[0m\u001b[37m\u001b[0m \u001b[1m3s\u001b[0m 29ms/step - accuracy: 0.9718 - loss: 0.1051 - mae: 0.0482 - mse: 0.0256\n",
            "Epoch 2/5\n",
            "\u001b[1m102/102\u001b[0m \u001b[32m━━━━━━━━━━━━━━━━━━━━\u001b[0m\u001b[37m\u001b[0m \u001b[1m5s\u001b[0m 25ms/step - accuracy: 0.9869 - loss: 0.0613 - mae: 0.0287 - mse: 0.0130\n",
            "Epoch 3/5\n",
            "\u001b[1m102/102\u001b[0m \u001b[32m━━━━━━━━━━━━━━━━━━━━\u001b[0m\u001b[37m\u001b[0m \u001b[1m3s\u001b[0m 27ms/step - accuracy: 0.9901 - loss: 0.0469 - mae: 0.0222 - mse: 0.0096\n",
            "Epoch 4/5\n",
            "\u001b[1m102/102\u001b[0m \u001b[32m━━━━━━━━━━━━━━━━━━━━\u001b[0m\u001b[37m\u001b[0m \u001b[1m3s\u001b[0m 26ms/step - accuracy: 0.9639 - loss: 0.1355 - mae: 0.0554 - mse: 0.0315\n",
            "Epoch 5/5\n",
            "\u001b[1m102/102\u001b[0m \u001b[32m━━━━━━━━━━━━━━━━━━━━\u001b[0m\u001b[37m\u001b[0m \u001b[1m6s\u001b[0m 37ms/step - accuracy: 0.9769 - loss: 0.0904 - mae: 0.0389 - mse: 0.0202\n",
            "16\n",
            "97\n",
            "98\n",
            "98\n",
            "97\n",
            "P1 3240 P0 3240\n",
            "Epoch 1/5\n",
            "\u001b[1m102/102\u001b[0m \u001b[32m━━━━━━━━━━━━━━━━━━━━\u001b[0m\u001b[37m\u001b[0m \u001b[1m3s\u001b[0m 26ms/step - accuracy: 0.9849 - loss: 0.0686 - mae: 0.0316 - mse: 0.0145\n",
            "Epoch 2/5\n",
            "\u001b[1m102/102\u001b[0m \u001b[32m━━━━━━━━━━━━━━━━━━━━\u001b[0m\u001b[37m\u001b[0m \u001b[1m5s\u001b[0m 23ms/step - accuracy: 0.9832 - loss: 0.0722 - mae: 0.0351 - mse: 0.0161\n",
            "Epoch 3/5\n",
            "\u001b[1m102/102\u001b[0m \u001b[32m━━━━━━━━━━━━━━━━━━━━\u001b[0m\u001b[37m\u001b[0m \u001b[1m4s\u001b[0m 38ms/step - accuracy: 0.9839 - loss: 0.0641 - mae: 0.0304 - mse: 0.0144\n",
            "Epoch 4/5\n",
            "\u001b[1m102/102\u001b[0m \u001b[32m━━━━━━━━━━━━━━━━━━━━\u001b[0m\u001b[37m\u001b[0m \u001b[1m4s\u001b[0m 24ms/step - accuracy: 0.9886 - loss: 0.0518 - mae: 0.0245 - mse: 0.0106\n",
            "Epoch 5/5\n",
            "\u001b[1m102/102\u001b[0m \u001b[32m━━━━━━━━━━━━━━━━━━━━\u001b[0m\u001b[37m\u001b[0m \u001b[1m3s\u001b[0m 26ms/step - accuracy: 0.9878 - loss: 0.0540 - mae: 0.0251 - mse: 0.0111\n",
            "17\n",
            "98\n",
            "98\n",
            "98\n",
            "98\n"
          ]
        }
      ],
      "source": [
        "from tensorflow.keras.callbacks import  History\n",
        "Epoch=5\n",
        "history=History()\n",
        "train,label = MakeDatasetforTrain(main_train1p,main_train0p,main_trainn,main_label1p,main_label0p,main_labeln)\n",
        "main_trainL1=np.array(train[:,0:int(len(train[0])/2)])\n",
        "main_trainR1=np.array(train[:,int(len(train[0])/2):len(train[0])])\n",
        "main_label1=np.array(label)\n",
        "count1 = np.count_nonzero(main_label1 == 1)\n",
        "count0 = np.count_nonzero(main_label1 == 0)\n",
        "print(count1 , count0)\n",
        "\n",
        "P = siamese_net.fit([main_trainL1, main_trainR1],main_label1, epochs= Epoch,batch_size=128, callbacks=history)\n",
        "for j in range(1000):\n",
        "  C=1\n",
        "  Before=int(P.history['accuracy'][-1]*100)\n",
        "  for i in range(2,Epoch+1):\n",
        "    if  int(P.history['accuracy'][-i]*100)==Before:\n",
        "      C=C+1\n",
        "    else:\n",
        "      C=1\n",
        "    Before=int(P.history['accuracy'][-i]*100)\n",
        "    print(Before)\n",
        "  if C==5:\n",
        "    break\n",
        "\n",
        "  train,label=MakeDatasetforTrain(main_train1p,main_train0p,main_trainn,main_label1p,main_label0p,main_labeln)\n",
        "  main_trainL1=np.array(train[:,0:int(len(train[0])/2)])\n",
        "  main_trainR1=np.array(train[:,int(len(train[0])/2):len(train[0])])\n",
        "  main_label1=np.array(label)\n",
        "  P = siamese_net.fit([main_trainL1, main_trainR1], main_label1,batch_size=128, epochs=Epoch, callbacks=history)\n",
        "  print(j+1)"
      ]
    },
    {
      "cell_type": "code",
      "source": [
        "siamese_net.save('/content/drive/MyDrive/Osta/full_model.keras')"
      ],
      "metadata": {
        "id": "_UHgS4q4F6WL"
      },
      "execution_count": 25,
      "outputs": []
    },
    {
      "cell_type": "code",
      "source": [
        "siamese_net.save_weights('/content/drive/MyDrive/Osta/weights_only.weights.h5')"
      ],
      "metadata": {
        "id": "LrwysN_0iFJZ"
      },
      "execution_count": 28,
      "outputs": []
    },
    {
      "cell_type": "markdown",
      "metadata": {
        "id": "YWEYvkjLlNf2"
      },
      "source": [
        "## Base ML Models: RF and SVM"
      ]
    },
    {
      "cell_type": "code",
      "execution_count": null,
      "metadata": {
        "colab": {
          "base_uri": "https://localhost:8080/",
          "height": 80
        },
        "id": "AQC-euaalSRa",
        "outputId": "85bc210c-8f3f-4912-e29a-6d3dc4400211"
      },
      "outputs": [
        {
          "data": {
            "text/html": [
              "<style>#sk-container-id-4 {\n",
              "  /* Definition of color scheme common for light and dark mode */\n",
              "  --sklearn-color-text: #000;\n",
              "  --sklearn-color-text-muted: #666;\n",
              "  --sklearn-color-line: gray;\n",
              "  /* Definition of color scheme for unfitted estimators */\n",
              "  --sklearn-color-unfitted-level-0: #fff5e6;\n",
              "  --sklearn-color-unfitted-level-1: #f6e4d2;\n",
              "  --sklearn-color-unfitted-level-2: #ffe0b3;\n",
              "  --sklearn-color-unfitted-level-3: chocolate;\n",
              "  /* Definition of color scheme for fitted estimators */\n",
              "  --sklearn-color-fitted-level-0: #f0f8ff;\n",
              "  --sklearn-color-fitted-level-1: #d4ebff;\n",
              "  --sklearn-color-fitted-level-2: #b3dbfd;\n",
              "  --sklearn-color-fitted-level-3: cornflowerblue;\n",
              "\n",
              "  /* Specific color for light theme */\n",
              "  --sklearn-color-text-on-default-background: var(--sg-text-color, var(--theme-code-foreground, var(--jp-content-font-color1, black)));\n",
              "  --sklearn-color-background: var(--sg-background-color, var(--theme-background, var(--jp-layout-color0, white)));\n",
              "  --sklearn-color-border-box: var(--sg-text-color, var(--theme-code-foreground, var(--jp-content-font-color1, black)));\n",
              "  --sklearn-color-icon: #696969;\n",
              "\n",
              "  @media (prefers-color-scheme: dark) {\n",
              "    /* Redefinition of color scheme for dark theme */\n",
              "    --sklearn-color-text-on-default-background: var(--sg-text-color, var(--theme-code-foreground, var(--jp-content-font-color1, white)));\n",
              "    --sklearn-color-background: var(--sg-background-color, var(--theme-background, var(--jp-layout-color0, #111)));\n",
              "    --sklearn-color-border-box: var(--sg-text-color, var(--theme-code-foreground, var(--jp-content-font-color1, white)));\n",
              "    --sklearn-color-icon: #878787;\n",
              "  }\n",
              "}\n",
              "\n",
              "#sk-container-id-4 {\n",
              "  color: var(--sklearn-color-text);\n",
              "}\n",
              "\n",
              "#sk-container-id-4 pre {\n",
              "  padding: 0;\n",
              "}\n",
              "\n",
              "#sk-container-id-4 input.sk-hidden--visually {\n",
              "  border: 0;\n",
              "  clip: rect(1px 1px 1px 1px);\n",
              "  clip: rect(1px, 1px, 1px, 1px);\n",
              "  height: 1px;\n",
              "  margin: -1px;\n",
              "  overflow: hidden;\n",
              "  padding: 0;\n",
              "  position: absolute;\n",
              "  width: 1px;\n",
              "}\n",
              "\n",
              "#sk-container-id-4 div.sk-dashed-wrapped {\n",
              "  border: 1px dashed var(--sklearn-color-line);\n",
              "  margin: 0 0.4em 0.5em 0.4em;\n",
              "  box-sizing: border-box;\n",
              "  padding-bottom: 0.4em;\n",
              "  background-color: var(--sklearn-color-background);\n",
              "}\n",
              "\n",
              "#sk-container-id-4 div.sk-container {\n",
              "  /* jupyter's `normalize.less` sets `[hidden] { display: none; }`\n",
              "     but bootstrap.min.css set `[hidden] { display: none !important; }`\n",
              "     so we also need the `!important` here to be able to override the\n",
              "     default hidden behavior on the sphinx rendered scikit-learn.org.\n",
              "     See: https://github.com/scikit-learn/scikit-learn/issues/21755 */\n",
              "  display: inline-block !important;\n",
              "  position: relative;\n",
              "}\n",
              "\n",
              "#sk-container-id-4 div.sk-text-repr-fallback {\n",
              "  display: none;\n",
              "}\n",
              "\n",
              "div.sk-parallel-item,\n",
              "div.sk-serial,\n",
              "div.sk-item {\n",
              "  /* draw centered vertical line to link estimators */\n",
              "  background-image: linear-gradient(var(--sklearn-color-text-on-default-background), var(--sklearn-color-text-on-default-background));\n",
              "  background-size: 2px 100%;\n",
              "  background-repeat: no-repeat;\n",
              "  background-position: center center;\n",
              "}\n",
              "\n",
              "/* Parallel-specific style estimator block */\n",
              "\n",
              "#sk-container-id-4 div.sk-parallel-item::after {\n",
              "  content: \"\";\n",
              "  width: 100%;\n",
              "  border-bottom: 2px solid var(--sklearn-color-text-on-default-background);\n",
              "  flex-grow: 1;\n",
              "}\n",
              "\n",
              "#sk-container-id-4 div.sk-parallel {\n",
              "  display: flex;\n",
              "  align-items: stretch;\n",
              "  justify-content: center;\n",
              "  background-color: var(--sklearn-color-background);\n",
              "  position: relative;\n",
              "}\n",
              "\n",
              "#sk-container-id-4 div.sk-parallel-item {\n",
              "  display: flex;\n",
              "  flex-direction: column;\n",
              "}\n",
              "\n",
              "#sk-container-id-4 div.sk-parallel-item:first-child::after {\n",
              "  align-self: flex-end;\n",
              "  width: 50%;\n",
              "}\n",
              "\n",
              "#sk-container-id-4 div.sk-parallel-item:last-child::after {\n",
              "  align-self: flex-start;\n",
              "  width: 50%;\n",
              "}\n",
              "\n",
              "#sk-container-id-4 div.sk-parallel-item:only-child::after {\n",
              "  width: 0;\n",
              "}\n",
              "\n",
              "/* Serial-specific style estimator block */\n",
              "\n",
              "#sk-container-id-4 div.sk-serial {\n",
              "  display: flex;\n",
              "  flex-direction: column;\n",
              "  align-items: center;\n",
              "  background-color: var(--sklearn-color-background);\n",
              "  padding-right: 1em;\n",
              "  padding-left: 1em;\n",
              "}\n",
              "\n",
              "\n",
              "/* Toggleable style: style used for estimator/Pipeline/ColumnTransformer box that is\n",
              "clickable and can be expanded/collapsed.\n",
              "- Pipeline and ColumnTransformer use this feature and define the default style\n",
              "- Estimators will overwrite some part of the style using the `sk-estimator` class\n",
              "*/\n",
              "\n",
              "/* Pipeline and ColumnTransformer style (default) */\n",
              "\n",
              "#sk-container-id-4 div.sk-toggleable {\n",
              "  /* Default theme specific background. It is overwritten whether we have a\n",
              "  specific estimator or a Pipeline/ColumnTransformer */\n",
              "  background-color: var(--sklearn-color-background);\n",
              "}\n",
              "\n",
              "/* Toggleable label */\n",
              "#sk-container-id-4 label.sk-toggleable__label {\n",
              "  cursor: pointer;\n",
              "  display: flex;\n",
              "  width: 100%;\n",
              "  margin-bottom: 0;\n",
              "  padding: 0.5em;\n",
              "  box-sizing: border-box;\n",
              "  text-align: center;\n",
              "  align-items: start;\n",
              "  justify-content: space-between;\n",
              "  gap: 0.5em;\n",
              "}\n",
              "\n",
              "#sk-container-id-4 label.sk-toggleable__label .caption {\n",
              "  font-size: 0.6rem;\n",
              "  font-weight: lighter;\n",
              "  color: var(--sklearn-color-text-muted);\n",
              "}\n",
              "\n",
              "#sk-container-id-4 label.sk-toggleable__label-arrow:before {\n",
              "  /* Arrow on the left of the label */\n",
              "  content: \"▸\";\n",
              "  float: left;\n",
              "  margin-right: 0.25em;\n",
              "  color: var(--sklearn-color-icon);\n",
              "}\n",
              "\n",
              "#sk-container-id-4 label.sk-toggleable__label-arrow:hover:before {\n",
              "  color: var(--sklearn-color-text);\n",
              "}\n",
              "\n",
              "/* Toggleable content - dropdown */\n",
              "\n",
              "#sk-container-id-4 div.sk-toggleable__content {\n",
              "  max-height: 0;\n",
              "  max-width: 0;\n",
              "  overflow: hidden;\n",
              "  text-align: left;\n",
              "  /* unfitted */\n",
              "  background-color: var(--sklearn-color-unfitted-level-0);\n",
              "}\n",
              "\n",
              "#sk-container-id-4 div.sk-toggleable__content.fitted {\n",
              "  /* fitted */\n",
              "  background-color: var(--sklearn-color-fitted-level-0);\n",
              "}\n",
              "\n",
              "#sk-container-id-4 div.sk-toggleable__content pre {\n",
              "  margin: 0.2em;\n",
              "  border-radius: 0.25em;\n",
              "  color: var(--sklearn-color-text);\n",
              "  /* unfitted */\n",
              "  background-color: var(--sklearn-color-unfitted-level-0);\n",
              "}\n",
              "\n",
              "#sk-container-id-4 div.sk-toggleable__content.fitted pre {\n",
              "  /* unfitted */\n",
              "  background-color: var(--sklearn-color-fitted-level-0);\n",
              "}\n",
              "\n",
              "#sk-container-id-4 input.sk-toggleable__control:checked~div.sk-toggleable__content {\n",
              "  /* Expand drop-down */\n",
              "  max-height: 200px;\n",
              "  max-width: 100%;\n",
              "  overflow: auto;\n",
              "}\n",
              "\n",
              "#sk-container-id-4 input.sk-toggleable__control:checked~label.sk-toggleable__label-arrow:before {\n",
              "  content: \"▾\";\n",
              "}\n",
              "\n",
              "/* Pipeline/ColumnTransformer-specific style */\n",
              "\n",
              "#sk-container-id-4 div.sk-label input.sk-toggleable__control:checked~label.sk-toggleable__label {\n",
              "  color: var(--sklearn-color-text);\n",
              "  background-color: var(--sklearn-color-unfitted-level-2);\n",
              "}\n",
              "\n",
              "#sk-container-id-4 div.sk-label.fitted input.sk-toggleable__control:checked~label.sk-toggleable__label {\n",
              "  background-color: var(--sklearn-color-fitted-level-2);\n",
              "}\n",
              "\n",
              "/* Estimator-specific style */\n",
              "\n",
              "/* Colorize estimator box */\n",
              "#sk-container-id-4 div.sk-estimator input.sk-toggleable__control:checked~label.sk-toggleable__label {\n",
              "  /* unfitted */\n",
              "  background-color: var(--sklearn-color-unfitted-level-2);\n",
              "}\n",
              "\n",
              "#sk-container-id-4 div.sk-estimator.fitted input.sk-toggleable__control:checked~label.sk-toggleable__label {\n",
              "  /* fitted */\n",
              "  background-color: var(--sklearn-color-fitted-level-2);\n",
              "}\n",
              "\n",
              "#sk-container-id-4 div.sk-label label.sk-toggleable__label,\n",
              "#sk-container-id-4 div.sk-label label {\n",
              "  /* The background is the default theme color */\n",
              "  color: var(--sklearn-color-text-on-default-background);\n",
              "}\n",
              "\n",
              "/* On hover, darken the color of the background */\n",
              "#sk-container-id-4 div.sk-label:hover label.sk-toggleable__label {\n",
              "  color: var(--sklearn-color-text);\n",
              "  background-color: var(--sklearn-color-unfitted-level-2);\n",
              "}\n",
              "\n",
              "/* Label box, darken color on hover, fitted */\n",
              "#sk-container-id-4 div.sk-label.fitted:hover label.sk-toggleable__label.fitted {\n",
              "  color: var(--sklearn-color-text);\n",
              "  background-color: var(--sklearn-color-fitted-level-2);\n",
              "}\n",
              "\n",
              "/* Estimator label */\n",
              "\n",
              "#sk-container-id-4 div.sk-label label {\n",
              "  font-family: monospace;\n",
              "  font-weight: bold;\n",
              "  display: inline-block;\n",
              "  line-height: 1.2em;\n",
              "}\n",
              "\n",
              "#sk-container-id-4 div.sk-label-container {\n",
              "  text-align: center;\n",
              "}\n",
              "\n",
              "/* Estimator-specific */\n",
              "#sk-container-id-4 div.sk-estimator {\n",
              "  font-family: monospace;\n",
              "  border: 1px dotted var(--sklearn-color-border-box);\n",
              "  border-radius: 0.25em;\n",
              "  box-sizing: border-box;\n",
              "  margin-bottom: 0.5em;\n",
              "  /* unfitted */\n",
              "  background-color: var(--sklearn-color-unfitted-level-0);\n",
              "}\n",
              "\n",
              "#sk-container-id-4 div.sk-estimator.fitted {\n",
              "  /* fitted */\n",
              "  background-color: var(--sklearn-color-fitted-level-0);\n",
              "}\n",
              "\n",
              "/* on hover */\n",
              "#sk-container-id-4 div.sk-estimator:hover {\n",
              "  /* unfitted */\n",
              "  background-color: var(--sklearn-color-unfitted-level-2);\n",
              "}\n",
              "\n",
              "#sk-container-id-4 div.sk-estimator.fitted:hover {\n",
              "  /* fitted */\n",
              "  background-color: var(--sklearn-color-fitted-level-2);\n",
              "}\n",
              "\n",
              "/* Specification for estimator info (e.g. \"i\" and \"?\") */\n",
              "\n",
              "/* Common style for \"i\" and \"?\" */\n",
              "\n",
              ".sk-estimator-doc-link,\n",
              "a:link.sk-estimator-doc-link,\n",
              "a:visited.sk-estimator-doc-link {\n",
              "  float: right;\n",
              "  font-size: smaller;\n",
              "  line-height: 1em;\n",
              "  font-family: monospace;\n",
              "  background-color: var(--sklearn-color-background);\n",
              "  border-radius: 1em;\n",
              "  height: 1em;\n",
              "  width: 1em;\n",
              "  text-decoration: none !important;\n",
              "  margin-left: 0.5em;\n",
              "  text-align: center;\n",
              "  /* unfitted */\n",
              "  border: var(--sklearn-color-unfitted-level-1) 1pt solid;\n",
              "  color: var(--sklearn-color-unfitted-level-1);\n",
              "}\n",
              "\n",
              ".sk-estimator-doc-link.fitted,\n",
              "a:link.sk-estimator-doc-link.fitted,\n",
              "a:visited.sk-estimator-doc-link.fitted {\n",
              "  /* fitted */\n",
              "  border: var(--sklearn-color-fitted-level-1) 1pt solid;\n",
              "  color: var(--sklearn-color-fitted-level-1);\n",
              "}\n",
              "\n",
              "/* On hover */\n",
              "div.sk-estimator:hover .sk-estimator-doc-link:hover,\n",
              ".sk-estimator-doc-link:hover,\n",
              "div.sk-label-container:hover .sk-estimator-doc-link:hover,\n",
              ".sk-estimator-doc-link:hover {\n",
              "  /* unfitted */\n",
              "  background-color: var(--sklearn-color-unfitted-level-3);\n",
              "  color: var(--sklearn-color-background);\n",
              "  text-decoration: none;\n",
              "}\n",
              "\n",
              "div.sk-estimator.fitted:hover .sk-estimator-doc-link.fitted:hover,\n",
              ".sk-estimator-doc-link.fitted:hover,\n",
              "div.sk-label-container:hover .sk-estimator-doc-link.fitted:hover,\n",
              ".sk-estimator-doc-link.fitted:hover {\n",
              "  /* fitted */\n",
              "  background-color: var(--sklearn-color-fitted-level-3);\n",
              "  color: var(--sklearn-color-background);\n",
              "  text-decoration: none;\n",
              "}\n",
              "\n",
              "/* Span, style for the box shown on hovering the info icon */\n",
              ".sk-estimator-doc-link span {\n",
              "  display: none;\n",
              "  z-index: 9999;\n",
              "  position: relative;\n",
              "  font-weight: normal;\n",
              "  right: .2ex;\n",
              "  padding: .5ex;\n",
              "  margin: .5ex;\n",
              "  width: min-content;\n",
              "  min-width: 20ex;\n",
              "  max-width: 50ex;\n",
              "  color: var(--sklearn-color-text);\n",
              "  box-shadow: 2pt 2pt 4pt #999;\n",
              "  /* unfitted */\n",
              "  background: var(--sklearn-color-unfitted-level-0);\n",
              "  border: .5pt solid var(--sklearn-color-unfitted-level-3);\n",
              "}\n",
              "\n",
              ".sk-estimator-doc-link.fitted span {\n",
              "  /* fitted */\n",
              "  background: var(--sklearn-color-fitted-level-0);\n",
              "  border: var(--sklearn-color-fitted-level-3);\n",
              "}\n",
              "\n",
              ".sk-estimator-doc-link:hover span {\n",
              "  display: block;\n",
              "}\n",
              "\n",
              "/* \"?\"-specific style due to the `<a>` HTML tag */\n",
              "\n",
              "#sk-container-id-4 a.estimator_doc_link {\n",
              "  float: right;\n",
              "  font-size: 1rem;\n",
              "  line-height: 1em;\n",
              "  font-family: monospace;\n",
              "  background-color: var(--sklearn-color-background);\n",
              "  border-radius: 1rem;\n",
              "  height: 1rem;\n",
              "  width: 1rem;\n",
              "  text-decoration: none;\n",
              "  /* unfitted */\n",
              "  color: var(--sklearn-color-unfitted-level-1);\n",
              "  border: var(--sklearn-color-unfitted-level-1) 1pt solid;\n",
              "}\n",
              "\n",
              "#sk-container-id-4 a.estimator_doc_link.fitted {\n",
              "  /* fitted */\n",
              "  border: var(--sklearn-color-fitted-level-1) 1pt solid;\n",
              "  color: var(--sklearn-color-fitted-level-1);\n",
              "}\n",
              "\n",
              "/* On hover */\n",
              "#sk-container-id-4 a.estimator_doc_link:hover {\n",
              "  /* unfitted */\n",
              "  background-color: var(--sklearn-color-unfitted-level-3);\n",
              "  color: var(--sklearn-color-background);\n",
              "  text-decoration: none;\n",
              "}\n",
              "\n",
              "#sk-container-id-4 a.estimator_doc_link.fitted:hover {\n",
              "  /* fitted */\n",
              "  background-color: var(--sklearn-color-fitted-level-3);\n",
              "}\n",
              "</style><div id=\"sk-container-id-4\" class=\"sk-top-container\"><div class=\"sk-text-repr-fallback\"><pre>RandomForestClassifier()</pre><b>In a Jupyter environment, please rerun this cell to show the HTML representation or trust the notebook. <br />On GitHub, the HTML representation is unable to render, please try loading this page with nbviewer.org.</b></div><div class=\"sk-container\" hidden><div class=\"sk-item\"><div class=\"sk-estimator fitted sk-toggleable\"><input class=\"sk-toggleable__control sk-hidden--visually\" id=\"sk-estimator-id-4\" type=\"checkbox\" checked><label for=\"sk-estimator-id-4\" class=\"sk-toggleable__label fitted sk-toggleable__label-arrow\"><div><div>RandomForestClassifier</div></div><div><a class=\"sk-estimator-doc-link fitted\" rel=\"noreferrer\" target=\"_blank\" href=\"https://scikit-learn.org/1.6/modules/generated/sklearn.ensemble.RandomForestClassifier.html\">?<span>Documentation for RandomForestClassifier</span></a><span class=\"sk-estimator-doc-link fitted\">i<span>Fitted</span></span></div></label><div class=\"sk-toggleable__content fitted\"><pre>RandomForestClassifier()</pre></div> </div></div></div></div>"
            ],
            "text/plain": [
              "RandomForestClassifier()"
            ]
          },
          "execution_count": 78,
          "metadata": {},
          "output_type": "execute_result"
        }
      ],
      "source": [
        "# from sklearn.model_selection import train_test_split\n",
        "# from sklearn.svm import SVC\n",
        "# from sklearn.ensemble import RandomForestClassifier\n",
        "\n",
        "\n",
        "# svm_model = SVC(kernel='rbf')\n",
        "# svm_model.fit(train,label)\n",
        "\n",
        "# rf_model = RandomForestClassifier(n_estimators=100)\n",
        "# rf_model.fit(train,label)"
      ]
    },
    {
      "cell_type": "code",
      "execution_count": null,
      "metadata": {
        "colab": {
          "background_save": true
        },
        "id": "jpNlmIcEDhS5"
      },
      "outputs": [],
      "source": [
        "# removing unnecceasary variables to reduce the RAM usage\n",
        "del df_neg, df_pos, main_train0p, main_label1, main_label0p, main_label1p, main_trainL1, main_trainR1, main_train1p"
      ]
    },
    {
      "cell_type": "markdown",
      "metadata": {
        "id": "BCessopCj-xw"
      },
      "source": [
        "## SimPep-Net validation"
      ]
    },
    {
      "cell_type": "code",
      "execution_count": null,
      "metadata": {
        "colab": {
          "background_save": true
        },
        "id": "pqwpLMr7xvXe",
        "outputId": "183cb187-8709-4c5d-9fb1-76046ff4b78e"
      },
      "outputs": [
        {
          "name": "stdout",
          "output_type": "stream",
          "text": [
            "\u001b[1m220/220\u001b[0m \u001b[32m━━━━━━━━━━━━━━━━━━━━\u001b[0m\u001b[37m\u001b[0m \u001b[1m1s\u001b[0m 3ms/step\n",
            "AUC:  0.594430281819927 AUPR:  0.7417293590609846\n",
            "ACC: 60.17661301808859 Spc: 0.5009372071227741 Sen:  0.6457949662369552 TN: 1069 FP:  1065 FN 1731 TP 3156\n"
          ]
        }
      ],
      "source": [
        "main_test2,main_label_test2=InternalTest(x1_test,x0_test)\n",
        "y_pred=siamese_net.predict([np.array(main_test2[:,0:int(len(main_test2[0])/2)]),np.array(main_test2[:,int(len(main_test2[0])/2):len(main_test2[0])])])\n",
        "Accuracy(main_label_test2, y_pred)\n",
        "# del main_test2,main_label_test2, y_pred\n"
      ]
    },
    {
      "cell_type": "code",
      "execution_count": null,
      "metadata": {
        "id": "ta-XezW1mjRh"
      },
      "outputs": [],
      "source": [
        "# y_pred_rf = rf_model.predict(main_test2)\n",
        "# Accuracy(main_label_test2, y_pred_rf)\n",
        "\n",
        "# y_pred_svm = svm_model.predict(main_test2)\n",
        "# Accuracy(main_label_test2, y_pred_svm)"
      ]
    },
    {
      "cell_type": "markdown",
      "metadata": {
        "id": "nkXXH77mkKq4"
      },
      "source": [
        "## OPD Prediction"
      ]
    },
    {
      "cell_type": "code",
      "execution_count": null,
      "metadata": {
        "colab": {
          "background_save": true
        },
        "id": "pU3it-E0pMs0",
        "outputId": "b87d59af-d5db-4e71-8483-26e6752a4d99"
      },
      "outputs": [
        {
          "name": "stdout",
          "output_type": "stream",
          "text": [
            "\u001b[1m1745/1745\u001b[0m \u001b[32m━━━━━━━━━━━━━━━━━━━━\u001b[0m\u001b[37m\u001b[0m \u001b[1m4s\u001b[0m 2ms/step\n",
            "AUC:  0.6740862230552953 AUPR:  0.3676730653588882\n",
            "ACC: 73.10924369747899 Spc: 0.7835051546391752 Sen:  0.5 TN: 76 FP:  21 FN 11 TP 11\n"
          ]
        }
      ],
      "source": [
        "main_test1,main_label_test1,Indexsample=ExternalTest(x0_test,x1_test,x0_train,x1_train)\n",
        "y_pred=siamese_net.predict([np.array(main_test1[:,0:int(len(main_test1[0])/2)]),np.array(main_test1[:,int(len(main_test1[0])/2):len(main_test1[0])])])\n",
        "Pred,Label=DefineTest2(x0_test,x1_test,Indexsample,y_pred)\n",
        "# del main_test1,main_label_test1,Indexsample\n",
        "Accuracy(Label, Pred)\n",
        "# del Label, Pred"
      ]
    },
    {
      "cell_type": "code",
      "execution_count": null,
      "metadata": {
        "colab": {
          "base_uri": "https://localhost:8080/"
        },
        "id": "Uy7p_65doLup",
        "outputId": "a3d94fff-e039-41c6-8507-84912c97508a"
      },
      "outputs": [
        {
          "name": "stdout",
          "output_type": "stream",
          "text": [
            "AUC:  0.5204728950403691 AUPR:  0.3138528138528139\n",
            "ACC: 86.5546218487395 Spc: 1.0 Sen:  0.058823529411764705 TN: 102 FP:  0 FN 16 TP 1\n",
            "AUC:  0.6384083044982699 AUPR:  0.3294280426292972\n",
            "ACC: 85.71428571428571 Spc: 0.9901960784313726 Sen:  0.058823529411764705 TN: 101 FP:  1 FN 16 TP 1\n"
          ]
        }
      ],
      "source": [
        "# y_pred_rf = rf_model.predict(main_test1)\n",
        "# Pred,Label=DefineTest2(x0_test,x1_test,Indexsample,y_pred_rf)\n",
        "# Accuracy(Label, Pred)\n",
        "\n",
        "\n",
        "# y_pred_svm = svm_model.predict(main_test1)\n",
        "# Pred,Label=DefineTest2(x0_test,x1_test,Indexsample,y_pred_svm)\n",
        "# Accuracy(Label, Pred)"
      ]
    },
    {
      "cell_type": "code",
      "execution_count": null,
      "metadata": {
        "colab": {
          "base_uri": "https://localhost:8080/"
        },
        "id": "TV0rRAPjy22k",
        "outputId": "ab894dd0-c118-4e14-f80f-ed74519fca06"
      },
      "outputs": [
        {
          "name": "stdout",
          "output_type": "stream",
          "text": [
            "['embeddings', 'labels', 'sequences']\n"
          ]
        }
      ],
      "source": [
        "## Checking for case study\n",
        "\n",
        "\n",
        "\n",
        "# df_test = pd.read_csv('vec_case_study.txt', sep=\"\\t\", header=None)\n",
        "# X=np.asarray(df_test)\n",
        "\n",
        "\n",
        "\n",
        "# Load the .npz file\n",
        "data = np.load(\"/content/drive/MyDrive/Osta/camel_esm2_embeddings.npz\")\n",
        "\n",
        "print(data.files)\n",
        "\n",
        "df_test = data['embeddings']\n",
        "df_test = pd.DataFrame(df_test)\n",
        "X=np.asarray(df_test)\n"
      ]
    },
    {
      "cell_type": "code",
      "execution_count": null,
      "metadata": {
        "colab": {
          "base_uri": "https://localhost:8080/"
        },
        "id": "vjqZf2chswpI",
        "outputId": "0da1c7ed-3ebb-4605-c28a-305196ed22f7"
      },
      "outputs": [
        {
          "name": "stdout",
          "output_type": "stream",
          "text": [
            "\u001b[1m246/246\u001b[0m \u001b[32m━━━━━━━━━━━━━━━━━━━━\u001b[0m\u001b[37m\u001b[0m \u001b[1m2s\u001b[0m 8ms/step\n",
            "human-alpha s1-peptide 8 [0.81445456]\n",
            "{'human-alpha s1-peptide 8': array([0.81445456], dtype=float32)}\n"
          ]
        }
      ],
      "source": [
        "main_test,IndexsampleTest=RealTest(X,x0_train,x1_train)\n",
        "main_tesxLX=np.array(main_test[:,0:int(len(main_test[0])/2)])\n",
        "main_testRX=np.array(main_test[:,int(len(main_test[0])/2):len(main_test[0])])\n",
        "y_pred=siamese_net.predict([main_tesxLX,main_testRX])\n",
        "y_pred=RealPredict(X,y_pred,IndexsampleTest)\n",
        "SelectName(y_pred,0.8)"
      ]
    },
    {
      "cell_type": "code",
      "execution_count": null,
      "metadata": {
        "id": "FRazW32P5m7-"
      },
      "outputs": [],
      "source": [
        "del y_pred, X, main_tesxLX,main_testRX"
      ]
    },
    {
      "cell_type": "code",
      "execution_count": null,
      "metadata": {
        "id": "UYR7pfIDM6Sc"
      },
      "outputs": [],
      "source": [
        "del IndexsampleTest, history, label, main_trainn"
      ]
    },
    {
      "cell_type": "markdown",
      "metadata": {
        "id": "-yOaLHZgGWcV"
      },
      "source": [
        "\n",
        "\n",
        "# External test sets\n"
      ]
    },
    {
      "cell_type": "code",
      "execution_count": null,
      "metadata": {
        "id": "oWOeuYPQCafR"
      },
      "outputs": [],
      "source": [
        "# Experminetal_negative_vec: the ProtBert-based vector of experimental negative data\n",
        "\n",
        "df_test2 = pd.read_csv('Experminetal_negative_vec.txt', header=None)\n",
        "\n",
        "X_new_neg = np.asarray(df_test2)\n"
      ]
    },
    {
      "cell_type": "code",
      "execution_count": null,
      "metadata": {
        "colab": {
          "base_uri": "https://localhost:8080/"
        },
        "id": "Kem6pwKk7chc",
        "outputId": "272360b2-0dac-4e96-bf60-b80c7e0322fa"
      },
      "outputs": [
        {
          "data": {
            "text/plain": [
              "[array([0.22340016], dtype=float32),\n",
              " array([0.13297284], dtype=float32),\n",
              " array([0.10937601], dtype=float32),\n",
              " array([0.88242143], dtype=float32)]"
            ]
          },
          "execution_count": 132,
          "metadata": {},
          "output_type": "execute_result"
        }
      ],
      "source": [
        "main_test,IndexsampleTest=RealTest(X_new_neg,x0_train,x1_train)\n",
        "main_tesxLX=np.array(main_test[:,0:int(len(main_test[0])/2)])\n",
        "main_testRX=np.array(main_test[:,int(len(main_test[0])/2):len(main_test[0])])\n",
        "y_pred=siamese_net.predict([main_tesxLX,main_testRX])\n",
        "y_pred=RealPredict(X_new_neg,y_pred,IndexsampleTest)\n",
        "y_pred"
      ]
    },
    {
      "cell_type": "code",
      "execution_count": null,
      "metadata": {
        "id": "S_XQ_8dSBtLz"
      },
      "outputs": [],
      "source": [
        "# new_OP_vec: the ProtBert-based vector of Ops from 2022 to 2024\n",
        "# For this assessment, the model should be trained first without this data\n",
        "\n",
        "df_test = pd.read_csv('new_OP_vec.txt', sep=\"\\t\", header=None)\n",
        "X_new_pos=np.asarray(df_test)"
      ]
    },
    {
      "cell_type": "code",
      "execution_count": null,
      "metadata": {
        "id": "WWw9nZ81X0gW"
      },
      "outputs": [],
      "source": [
        "main_test,IndexsampleTest=RealTest(X_new_pos,x0_train,x1_train)\n",
        "main_tesxLX=np.array(main_test[:,0:int(len(main_test[0])/2)])\n",
        "main_testRX=np.array(main_test[:,int(len(main_test[0])/2):len(main_test[0])])"
      ]
    },
    {
      "cell_type": "code",
      "execution_count": null,
      "metadata": {
        "colab": {
          "base_uri": "https://localhost:8080/"
        },
        "id": "olWy_OdJ7O-s",
        "outputId": "dbad080e-b4f5-467d-e35a-18606fb8406c"
      },
      "outputs": [
        {
          "data": {
            "text/plain": [
              "[array([0.93163073], dtype=float32),\n",
              " array([0.2837767], dtype=float32),\n",
              " array([0.17874585], dtype=float32),\n",
              " array([0.16910979], dtype=float32),\n",
              " array([0.17543823], dtype=float32),\n",
              " array([0.15224825], dtype=float32),\n",
              " array([0.1593636], dtype=float32),\n",
              " array([0.85469], dtype=float32),\n",
              " array([0.89563197], dtype=float32),\n",
              " array([0.87257445], dtype=float32),\n",
              " array([0.8969664], dtype=float32),\n",
              " array([0.9104396], dtype=float32),\n",
              " array([0.9180465], dtype=float32),\n",
              " array([0.12953553], dtype=float32),\n",
              " array([0.86453176], dtype=float32),\n",
              " array([0.18906485], dtype=float32),\n",
              " array([0.18737742], dtype=float32),\n",
              " array([0.17875192], dtype=float32),\n",
              " array([0.5052275], dtype=float32),\n",
              " array([0.20020354], dtype=float32),\n",
              " array([0.2154391], dtype=float32),\n",
              " array([0.16753079], dtype=float32),\n",
              " array([0.50195324], dtype=float32),\n",
              " array([0.27825797], dtype=float32),\n",
              " array([0.18382709], dtype=float32),\n",
              " array([0.15432584], dtype=float32),\n",
              " array([0.16753079], dtype=float32)]"
            ]
          },
          "execution_count": 137,
          "metadata": {},
          "output_type": "execute_result"
        }
      ],
      "source": [
        "y_pred=siamese_net.predict([main_tesxLX,main_testRX])\n",
        "y_pred=RealPredict(X_new_pos,y_pred,IndexsampleTest)\n",
        "y_pred"
      ]
    }
  ],
  "metadata": {
    "colab": {
      "collapsed_sections": [
        "5WyK-SOaWwIw",
        "21sm_CW_s5gd",
        "dhedTxdAWQip",
        "JdEW0B9pjpMf",
        "Czt6R2Qwj50T",
        "elVw51-AkDl4",
        "Q9BzWN5qs1Hv",
        "-yOaLHZgGWcV"
      ],
      "provenance": [],
      "include_colab_link": true
    },
    "kernelspec": {
      "display_name": "Python 3",
      "name": "python3"
    },
    "language_info": {
      "name": "python"
    }
  },
  "nbformat": 4,
  "nbformat_minor": 0
}
