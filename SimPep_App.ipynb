{
  "nbformat": 4,
  "nbformat_minor": 0,
  "metadata": {
    "colab": {
      "provenance": [],
      "authorship_tag": "ABX9TyM/kJud4ah2UUJ8ISEUXRRY",
      "include_colab_link": true
    },
    "kernelspec": {
      "name": "python3",
      "display_name": "Python 3"
    },
    "language_info": {
      "name": "python"
    },
    "widgets": {
      "application/vnd.jupyter.widget-state+json": {
        "bab5375734de4d3c8d48723c6762b431": {
          "model_module": "@jupyter-widgets/controls",
          "model_name": "TextModel",
          "model_module_version": "1.5.0",
          "state": {
            "_dom_classes": [],
            "_model_module": "@jupyter-widgets/controls",
            "_model_module_version": "1.5.0",
            "_model_name": "TextModel",
            "_view_count": null,
            "_view_module": "@jupyter-widgets/controls",
            "_view_module_version": "1.5.0",
            "_view_name": "TextView",
            "continuous_update": true,
            "description": "Peptide:",
            "description_tooltip": null,
            "disabled": false,
            "layout": "IPY_MODEL_7a864b1e2fa9429fa0b0a4ba579ebcbc",
            "placeholder": "Enter peptide sequence",
            "style": "IPY_MODEL_6a731f10010f4702b7b33cb95404d80d",
            "value": "RGD"
          }
        },
        "7a864b1e2fa9429fa0b0a4ba579ebcbc": {
          "model_module": "@jupyter-widgets/base",
          "model_name": "LayoutModel",
          "model_module_version": "1.2.0",
          "state": {
            "_model_module": "@jupyter-widgets/base",
            "_model_module_version": "1.2.0",
            "_model_name": "LayoutModel",
            "_view_count": null,
            "_view_module": "@jupyter-widgets/base",
            "_view_module_version": "1.2.0",
            "_view_name": "LayoutView",
            "align_content": null,
            "align_items": null,
            "align_self": null,
            "border": null,
            "bottom": null,
            "display": null,
            "flex": null,
            "flex_flow": null,
            "grid_area": null,
            "grid_auto_columns": null,
            "grid_auto_flow": null,
            "grid_auto_rows": null,
            "grid_column": null,
            "grid_gap": null,
            "grid_row": null,
            "grid_template_areas": null,
            "grid_template_columns": null,
            "grid_template_rows": null,
            "height": null,
            "justify_content": null,
            "justify_items": null,
            "left": null,
            "margin": null,
            "max_height": null,
            "max_width": null,
            "min_height": null,
            "min_width": null,
            "object_fit": null,
            "object_position": null,
            "order": null,
            "overflow": null,
            "overflow_x": null,
            "overflow_y": null,
            "padding": null,
            "right": null,
            "top": null,
            "visibility": null,
            "width": null
          }
        },
        "6a731f10010f4702b7b33cb95404d80d": {
          "model_module": "@jupyter-widgets/controls",
          "model_name": "DescriptionStyleModel",
          "model_module_version": "1.5.0",
          "state": {
            "_model_module": "@jupyter-widgets/controls",
            "_model_module_version": "1.5.0",
            "_model_name": "DescriptionStyleModel",
            "_view_count": null,
            "_view_module": "@jupyter-widgets/base",
            "_view_module_version": "1.2.0",
            "_view_name": "StyleView",
            "description_width": ""
          }
        },
        "8ded68443479499b9e9b487beb51721c": {
          "model_module": "@jupyter-widgets/controls",
          "model_name": "ButtonModel",
          "model_module_version": "1.5.0",
          "state": {
            "_dom_classes": [],
            "_model_module": "@jupyter-widgets/controls",
            "_model_module_version": "1.5.0",
            "_model_name": "ButtonModel",
            "_view_count": null,
            "_view_module": "@jupyter-widgets/controls",
            "_view_module_version": "1.5.0",
            "_view_name": "ButtonView",
            "button_style": "",
            "description": "Predict Osteogenic Score",
            "disabled": false,
            "icon": "",
            "layout": "IPY_MODEL_fef4bfe1e8de4020ad2b8e574ea3d03c",
            "style": "IPY_MODEL_8b126af167d747bdb8a03b0ed792f268",
            "tooltip": ""
          }
        },
        "fef4bfe1e8de4020ad2b8e574ea3d03c": {
          "model_module": "@jupyter-widgets/base",
          "model_name": "LayoutModel",
          "model_module_version": "1.2.0",
          "state": {
            "_model_module": "@jupyter-widgets/base",
            "_model_module_version": "1.2.0",
            "_model_name": "LayoutModel",
            "_view_count": null,
            "_view_module": "@jupyter-widgets/base",
            "_view_module_version": "1.2.0",
            "_view_name": "LayoutView",
            "align_content": null,
            "align_items": null,
            "align_self": null,
            "border": null,
            "bottom": null,
            "display": null,
            "flex": null,
            "flex_flow": null,
            "grid_area": null,
            "grid_auto_columns": null,
            "grid_auto_flow": null,
            "grid_auto_rows": null,
            "grid_column": null,
            "grid_gap": null,
            "grid_row": null,
            "grid_template_areas": null,
            "grid_template_columns": null,
            "grid_template_rows": null,
            "height": null,
            "justify_content": null,
            "justify_items": null,
            "left": null,
            "margin": null,
            "max_height": null,
            "max_width": null,
            "min_height": null,
            "min_width": null,
            "object_fit": null,
            "object_position": null,
            "order": null,
            "overflow": null,
            "overflow_x": null,
            "overflow_y": null,
            "padding": null,
            "right": null,
            "top": null,
            "visibility": null,
            "width": null
          }
        },
        "8b126af167d747bdb8a03b0ed792f268": {
          "model_module": "@jupyter-widgets/controls",
          "model_name": "ButtonStyleModel",
          "model_module_version": "1.5.0",
          "state": {
            "_model_module": "@jupyter-widgets/controls",
            "_model_module_version": "1.5.0",
            "_model_name": "ButtonStyleModel",
            "_view_count": null,
            "_view_module": "@jupyter-widgets/base",
            "_view_module_version": "1.2.0",
            "_view_name": "StyleView",
            "button_color": null,
            "font_weight": ""
          }
        },
        "5968dc57c40a458895c66013ddb3d775": {
          "model_module": "@jupyter-widgets/output",
          "model_name": "OutputModel",
          "model_module_version": "1.0.0",
          "state": {
            "_dom_classes": [],
            "_model_module": "@jupyter-widgets/output",
            "_model_module_version": "1.0.0",
            "_model_name": "OutputModel",
            "_view_count": null,
            "_view_module": "@jupyter-widgets/output",
            "_view_module_version": "1.0.0",
            "_view_name": "OutputView",
            "layout": "IPY_MODEL_16fe520550404847a2e269894f7b18f3",
            "msg_id": "",
            "outputs": [
              {
                "output_type": "stream",
                "name": "stdout",
                "text": [
                  "Predicting for sequence: RGD\n"
                ]
              },
              {
                "output_type": "stream",
                "name": "stdout",
                "text": [
                  "✅ Osteogenic Score: 0.9854\n"
                ]
              },
              {
                "output_type": "stream",
                "name": "stderr",
                "text": [
                  "/tmp/ipython-input-4-2873562476.py:115: DeprecationWarning: Conversion of an array with ndim > 0 to a scalar is deprecated, and will error in future. Ensure you extract a single element from your array before performing this operation. (Deprecated NumPy 1.25.)\n",
                  "  Pred.append(float(pos / (pos + neg)))\n"
                ]
              }
            ]
          }
        },
        "16fe520550404847a2e269894f7b18f3": {
          "model_module": "@jupyter-widgets/base",
          "model_name": "LayoutModel",
          "model_module_version": "1.2.0",
          "state": {
            "_model_module": "@jupyter-widgets/base",
            "_model_module_version": "1.2.0",
            "_model_name": "LayoutModel",
            "_view_count": null,
            "_view_module": "@jupyter-widgets/base",
            "_view_module_version": "1.2.0",
            "_view_name": "LayoutView",
            "align_content": null,
            "align_items": null,
            "align_self": null,
            "border": null,
            "bottom": null,
            "display": null,
            "flex": null,
            "flex_flow": null,
            "grid_area": null,
            "grid_auto_columns": null,
            "grid_auto_flow": null,
            "grid_auto_rows": null,
            "grid_column": null,
            "grid_gap": null,
            "grid_row": null,
            "grid_template_areas": null,
            "grid_template_columns": null,
            "grid_template_rows": null,
            "height": null,
            "justify_content": null,
            "justify_items": null,
            "left": null,
            "margin": null,
            "max_height": null,
            "max_width": null,
            "min_height": null,
            "min_width": null,
            "object_fit": null,
            "object_position": null,
            "order": null,
            "overflow": null,
            "overflow_x": null,
            "overflow_y": null,
            "padding": null,
            "right": null,
            "top": null,
            "visibility": null,
            "width": null
          }
        }
      }
    }
  },
  "cells": [
    {
      "cell_type": "markdown",
      "metadata": {
        "id": "view-in-github",
        "colab_type": "text"
      },
      "source": [
        "<a href=\"https://colab.research.google.com/github/zariyagh/SimPep_and_OP-AND/blob/main/SimPep_App.ipynb\" target=\"_parent\"><img src=\"https://colab.research.google.com/assets/colab-badge.svg\" alt=\"Open In Colab\"/></a>"
      ]
    },
    {
      "cell_type": "code",
      "execution_count": 4,
      "metadata": {
        "colab": {
          "base_uri": "https://localhost:8080/",
          "height": 238,
          "referenced_widgets": [
            "bab5375734de4d3c8d48723c6762b431",
            "7a864b1e2fa9429fa0b0a4ba579ebcbc",
            "6a731f10010f4702b7b33cb95404d80d",
            "8ded68443479499b9e9b487beb51721c",
            "fef4bfe1e8de4020ad2b8e574ea3d03c",
            "8b126af167d747bdb8a03b0ed792f268",
            "5968dc57c40a458895c66013ddb3d775",
            "16fe520550404847a2e269894f7b18f3"
          ]
        },
        "id": "Ddh51BzLMIeU",
        "outputId": "8d7302d3-d6ab-4ed8-8e24-6caad847a782"
      },
      "outputs": [
        {
          "output_type": "stream",
          "name": "stderr",
          "text": [
            "/usr/local/lib/python3.11/dist-packages/keras/src/layers/core/dense.py:87: UserWarning: Do not pass an `input_shape`/`input_dim` argument to a layer. When using Sequential models, prefer using an `Input(shape)` object as the first layer in the model instead.\n",
            "  super().__init__(activity_regularizer=activity_regularizer, **kwargs)\n"
          ]
        },
        {
          "output_type": "display_data",
          "data": {
            "text/plain": [
              "Text(value='', description='Peptide:', placeholder='Enter peptide sequence')"
            ],
            "application/vnd.jupyter.widget-view+json": {
              "version_major": 2,
              "version_minor": 0,
              "model_id": "bab5375734de4d3c8d48723c6762b431"
            }
          },
          "metadata": {}
        },
        {
          "output_type": "display_data",
          "data": {
            "text/plain": [
              "Button(description='Predict Osteogenic Score', style=ButtonStyle())"
            ],
            "application/vnd.jupyter.widget-view+json": {
              "version_major": 2,
              "version_minor": 0,
              "model_id": "8ded68443479499b9e9b487beb51721c"
            }
          },
          "metadata": {}
        },
        {
          "output_type": "display_data",
          "data": {
            "text/plain": [
              "Output()"
            ],
            "application/vnd.jupyter.widget-view+json": {
              "version_major": 2,
              "version_minor": 0,
              "model_id": "5968dc57c40a458895c66013ddb3d775"
            }
          },
          "metadata": {}
        }
      ],
      "source": [
        "# ========================================\n",
        "#           INSTALLING Packages\n",
        "# ========================================\n",
        "!pip install -q torch transformers pandas numpy tensorflow\n",
        "\n",
        "# ========================================\n",
        "#              IMPORTING\n",
        "# ========================================\n",
        "import numpy as np\n",
        "import pandas as pd\n",
        "import tensorflow as tf\n",
        "from tensorflow.keras.models import Model\n",
        "from tensorflow.keras.layers import Input, Dense, Dropout, Lambda\n",
        "import tensorflow.keras.backend as K\n",
        "from transformers import BertTokenizer, BertModel\n",
        "import torch\n",
        "import urllib.request\n",
        "import os\n",
        "import ipywidgets as widgets\n",
        "from IPython.display import display, clear_output\n",
        "\n",
        "# ========================================\n",
        "#         LOADING Model WEIGHTS\n",
        "# ========================================\n",
        "weights_url = \"https://raw.githubusercontent.com/CBRC-lab/SimPep_and_OP-AND/main/weights_only.weights.h5\"\n",
        "weights_path = \"weights_only.weights.h5\"\n",
        "\n",
        "if not os.path.exists(weights_path) or os.path.getsize(weights_path) < 50000:\n",
        "    print(\"Downloading weights...\")\n",
        "    urllib.request.urlretrieve(weights_url, weights_path)\n",
        "\n",
        "# ========================================\n",
        "#         LOADING DATA\n",
        "# ========================================\n",
        "df_pos = pd.read_csv('https://raw.githubusercontent.com/CBRC-lab/SimPep_and_OP-AND/main/PPP_ProtBERT_embeddings.txt', sep=\",\", header=None).iloc[:, 1:-1].drop_duplicates()\n",
        "df_neg1 = pd.read_csv('https://raw.githubusercontent.com/CBRC-lab/SimPep_and_OP-AND/main/NPP_Q5T9C2_ProtBERT_embeddings.txt', sep=\",\", header=None).iloc[:, 1:-1].drop_duplicates()\n",
        "df_neg2 = pd.read_csv('https://raw.githubusercontent.com/CBRC-lab/SimPep_and_OP-AND/main/NPP_Q9CWT3_ProtBERT_embeddings.txt', sep=\",\", header=None).iloc[:, 1:-1].drop_duplicates()\n",
        "df_neg3 = pd.read_csv('https://raw.githubusercontent.com/CBRC-lab/SimPep_and_OP-AND/main/NPP_O88942_ProtBERT_embeddings.txt', sep=\",\", header=None).iloc[:, 1:-1].drop_duplicates()\n",
        "df_neg = pd.concat([df_neg1, df_neg2, df_neg3], ignore_index=True)\n",
        "\n",
        "X1 = df_pos.to_numpy(dtype='float')\n",
        "X0 = df_neg.to_numpy(dtype='float')\n",
        "\n",
        "# ========================================\n",
        "#             LOADING ProtBERT\n",
        "# ========================================\n",
        "tokenizer = BertTokenizer.from_pretrained(\"Rostlab/prot_bert\", do_lower_case=False)\n",
        "modelb = BertModel.from_pretrained(\"Rostlab/prot_bert\")\n",
        "modelb.eval()\n",
        "\n",
        "def embed_peptide_with_protbert(seq):\n",
        "    sequence = ' '.join(seq)\n",
        "    inputs = tokenizer(sequence, return_tensors='pt')\n",
        "    with torch.no_grad():\n",
        "        outputs = modelb(**inputs)\n",
        "        embeddings = outputs.last_hidden_state.squeeze(0)\n",
        "    return torch.mean(embeddings, dim=0).numpy()\n",
        "\n",
        "# ========================================\n",
        "#           BUILDING MODEL\n",
        "# ========================================\n",
        "def build_siamese_model(input_dim):\n",
        "    shared_model = tf.keras.models.Sequential([\n",
        "        Dense(512, input_shape=(input_dim,), activation='relu'),\n",
        "        Dropout(0.2),\n",
        "        Dense(128, activation='relu'),\n",
        "        Dropout(0.2),\n",
        "        Dense(64, activation='relu'),\n",
        "        Dropout(0.2),\n",
        "        Dense(32, activation='relu'),\n",
        "    ])\n",
        "    left_input = Input(shape=(input_dim,))\n",
        "    right_input = Input(shape=(input_dim,))\n",
        "    encoded_l = shared_model(left_input)\n",
        "    encoded_r = shared_model(right_input)\n",
        "    L1 = Lambda(lambda x: K.abs(x[0] - x[1]))([encoded_l, encoded_r])\n",
        "    L1_D = Dropout(0.2)(L1)\n",
        "    prediction = Dense(1, activation='sigmoid')(L1_D)\n",
        "    return Model(inputs=[left_input, right_input], outputs=prediction)\n",
        "\n",
        "input_dim = 1024\n",
        "model = build_siamese_model(input_dim)\n",
        "model.load_weights(weights_path)\n",
        "\n",
        "# ========================================\n",
        "#               PREDICTION\n",
        "# ========================================\n",
        "def RealTest(X, x0_train, x1_train):\n",
        "    dataset_test = []\n",
        "    Indexsample = []\n",
        "    for i in range(len(X)):\n",
        "        for j in range(len(x0_train)):\n",
        "            dataset_test.append(np.concatenate((X[i], x0_train[j])))\n",
        "            Indexsample.append(f\"{i},0\")\n",
        "        for j in range(len(x1_train)):\n",
        "            dataset_test.append(np.concatenate((X[i], x1_train[j])))\n",
        "            Indexsample.append(f\"{i},1\")\n",
        "    return np.asarray(dataset_test), Indexsample\n",
        "\n",
        "def RealPredict(X, test_pred, Indexsample):\n",
        "    Pred = []\n",
        "    for i in range(len(X)):\n",
        "        cnt0Pred, cnt1Pred, cnt0, cnt1 = 0, 0, 0, 0\n",
        "        for j in range(len(Indexsample)):\n",
        "            triplet = Indexsample[j].split(\",\")\n",
        "            if int(triplet[0]) == i:\n",
        "                if int(triplet[1]) == 1:\n",
        "                    cnt1Pred += test_pred[j]\n",
        "                    cnt1 += 1\n",
        "                else:\n",
        "                    cnt0Pred += test_pred[j]\n",
        "                    cnt0 += 1\n",
        "        pos = (1 - (cnt0Pred / cnt0)) + (cnt1Pred / cnt1)\n",
        "        neg = (cnt0Pred / cnt0) + (1 - (cnt1Pred / cnt1))\n",
        "        Pred.append(float(pos / (pos + neg)))\n",
        "    return Pred\n",
        "\n",
        "# ========================================\n",
        "#               GUI\n",
        "# ========================================\n",
        "peptide_input = widgets.Text(\n",
        "    placeholder='Enter peptide sequence',\n",
        "    description='Peptide:',\n",
        "    disabled=False\n",
        ")\n",
        "predict_button = widgets.Button(description=\"Predict Osteogenic Score\")\n",
        "output = widgets.Output()\n",
        "\n",
        "def on_predict_clicked(b):\n",
        "    with output:\n",
        "        clear_output()\n",
        "        seq = peptide_input.value.strip()\n",
        "        if not seq:\n",
        "            print(\"Please enter a valid peptide sequence.\")\n",
        "            return\n",
        "        print(f\"Predicting for sequence: {seq}\")\n",
        "        vector = embed_peptide_with_protbert(seq).reshape(1, -1)\n",
        "        test_data, index_sample = RealTest(vector, X0, X1)\n",
        "        left = test_data[:, :input_dim]\n",
        "        right = test_data[:, input_dim:]\n",
        "        y_pred = model.predict([left, right], verbose=0)\n",
        "        final_score = RealPredict(vector, y_pred, index_sample)\n",
        "        print(f\"✅ Osteogenic Score: {final_score[0]:.4f}\")\n",
        "\n",
        "predict_button.on_click(on_predict_clicked)\n",
        "\n",
        "display(peptide_input, predict_button, output)"
      ]
    }
  ]
}