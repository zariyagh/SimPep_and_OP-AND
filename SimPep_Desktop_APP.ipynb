{
  "nbformat": 4,
  "nbformat_minor": 0,
  "metadata": {
    "colab": {
      "provenance": [],
      "authorship_tag": "ABX9TyM/kJud4ah2UUJ8ISEUXRRY",
      "include_colab_link": true
    },
    "kernelspec": {
      "name": "python3",
      "display_name": "Python 3"
    },
    "language_info": {
      "name": "python"
    }
  },
  "cells": [
    {
      "cell_type": "markdown",
      "metadata": {
        "id": "view-in-github",
        "colab_type": "text"
      },
      "source": [
        "<a href=\"https://colab.research.google.com/github/zariyagh/SimPep_and_OP-AND/blob/main/SimPep_Desktop_APP.ipynb\" target=\"_parent\"><img src=\"https://colab.research.google.com/assets/colab-badge.svg\" alt=\"Open In Colab\"/></a>"
      ]
    },
    {
      "cell_type": "code",
      "execution_count": null,
      "metadata": {
        "colab": {
          "base_uri": "https://localhost:8080/",
          "height": 677
        },
        "id": "Ddh51BzLMIeU",
        "outputId": "82ee5a5c-24c6-4693-c02d-4f8f467d20c4"
      },
      "outputs": [
        {
          "output_type": "stream",
          "name": "stderr",
          "text": [
            "/usr/local/lib/python3.11/dist-packages/huggingface_hub/utils/_auth.py:94: UserWarning: \n",
            "The secret `HF_TOKEN` does not exist in your Colab secrets.\n",
            "To authenticate with the Hugging Face Hub, create a token in your settings tab (https://huggingface.co/settings/tokens), set it as secret in your Google Colab and restart your session.\n",
            "You will be able to reuse this secret in all of your notebooks.\n",
            "Please note that authentication is recommended but still optional to access public models or datasets.\n",
            "  warnings.warn(\n"
          ]
        },
        {
          "output_type": "stream",
          "name": "stdout",
          "text": [
            "EFIEKWNFKFEWNFKEWNFKWFNKBNWFW\n",
            "\n",
            "\n",
            "\n",
            "jndjkfbwefkjwbewjfkbefkbjkef\n",
            "\n",
            "\n",
            "\n"
          ]
        },
        {
          "output_type": "stream",
          "name": "stderr",
          "text": [
            "/usr/local/lib/python3.11/dist-packages/keras/src/layers/core/dense.py:87: UserWarning: Do not pass an `input_shape`/`input_dim` argument to a layer. When using Sequential models, prefer using an `Input(shape)` object as the first layer in the model instead.\n",
            "  super().__init__(activity_regularizer=activity_regularizer, **kwargs)\n"
          ]
        },
        {
          "output_type": "display_data",
          "data": {
            "text/plain": [
              "\u001b[1mModel: \"functional_1\"\u001b[0m\n"
            ],
            "text/html": [
              "<pre style=\"white-space:pre;overflow-x:auto;line-height:normal;font-family:Menlo,'DejaVu Sans Mono',consolas,'Courier New',monospace\"><span style=\"font-weight: bold\">Model: \"functional_1\"</span>\n",
              "</pre>\n"
            ]
          },
          "metadata": {}
        },
        {
          "output_type": "display_data",
          "data": {
            "text/plain": [
              "┏━━━━━━━━━━━━━━━━━━━━━┳━━━━━━━━━━━━━━━━━━━┳━━━━━━━━━━━━┳━━━━━━━━━━━━━━━━━━━┓\n",
              "┃\u001b[1m \u001b[0m\u001b[1mLayer (type)       \u001b[0m\u001b[1m \u001b[0m┃\u001b[1m \u001b[0m\u001b[1mOutput Shape     \u001b[0m\u001b[1m \u001b[0m┃\u001b[1m \u001b[0m\u001b[1m   Param #\u001b[0m\u001b[1m \u001b[0m┃\u001b[1m \u001b[0m\u001b[1mConnected to     \u001b[0m\u001b[1m \u001b[0m┃\n",
              "┡━━━━━━━━━━━━━━━━━━━━━╇━━━━━━━━━━━━━━━━━━━╇━━━━━━━━━━━━╇━━━━━━━━━━━━━━━━━━━┩\n",
              "│ input_layer_1       │ (\u001b[38;5;45mNone\u001b[0m, \u001b[38;5;34m1024\u001b[0m)      │          \u001b[38;5;34m0\u001b[0m │ -                 │\n",
              "│ (\u001b[38;5;33mInputLayer\u001b[0m)        │                   │            │                   │\n",
              "├─────────────────────┼───────────────────┼────────────┼───────────────────┤\n",
              "│ input_layer_2       │ (\u001b[38;5;45mNone\u001b[0m, \u001b[38;5;34m1024\u001b[0m)      │          \u001b[38;5;34m0\u001b[0m │ -                 │\n",
              "│ (\u001b[38;5;33mInputLayer\u001b[0m)        │                   │            │                   │\n",
              "├─────────────────────┼───────────────────┼────────────┼───────────────────┤\n",
              "│ sequential          │ (\u001b[38;5;45mNone\u001b[0m, \u001b[38;5;34m32\u001b[0m)        │    \u001b[38;5;34m600,800\u001b[0m │ input_layer_1[\u001b[38;5;34m0\u001b[0m]… │\n",
              "│ (\u001b[38;5;33mSequential\u001b[0m)        │                   │            │ input_layer_2[\u001b[38;5;34m0\u001b[0m]… │\n",
              "├─────────────────────┼───────────────────┼────────────┼───────────────────┤\n",
              "│ lambda (\u001b[38;5;33mLambda\u001b[0m)     │ (\u001b[38;5;45mNone\u001b[0m, \u001b[38;5;34m32\u001b[0m)        │          \u001b[38;5;34m0\u001b[0m │ sequential[\u001b[38;5;34m0\u001b[0m][\u001b[38;5;34m0\u001b[0m], │\n",
              "│                     │                   │            │ sequential[\u001b[38;5;34m1\u001b[0m][\u001b[38;5;34m0\u001b[0m]  │\n",
              "├─────────────────────┼───────────────────┼────────────┼───────────────────┤\n",
              "│ dropout_3 (\u001b[38;5;33mDropout\u001b[0m) │ (\u001b[38;5;45mNone\u001b[0m, \u001b[38;5;34m32\u001b[0m)        │          \u001b[38;5;34m0\u001b[0m │ lambda[\u001b[38;5;34m0\u001b[0m][\u001b[38;5;34m0\u001b[0m]      │\n",
              "├─────────────────────┼───────────────────┼────────────┼───────────────────┤\n",
              "│ dense_4 (\u001b[38;5;33mDense\u001b[0m)     │ (\u001b[38;5;45mNone\u001b[0m, \u001b[38;5;34m1\u001b[0m)         │         \u001b[38;5;34m33\u001b[0m │ dropout_3[\u001b[38;5;34m0\u001b[0m][\u001b[38;5;34m0\u001b[0m]   │\n",
              "└─────────────────────┴───────────────────┴────────────┴───────────────────┘\n"
            ],
            "text/html": [
              "<pre style=\"white-space:pre;overflow-x:auto;line-height:normal;font-family:Menlo,'DejaVu Sans Mono',consolas,'Courier New',monospace\">┏━━━━━━━━━━━━━━━━━━━━━┳━━━━━━━━━━━━━━━━━━━┳━━━━━━━━━━━━┳━━━━━━━━━━━━━━━━━━━┓\n",
              "┃<span style=\"font-weight: bold\"> Layer (type)        </span>┃<span style=\"font-weight: bold\"> Output Shape      </span>┃<span style=\"font-weight: bold\">    Param # </span>┃<span style=\"font-weight: bold\"> Connected to      </span>┃\n",
              "┡━━━━━━━━━━━━━━━━━━━━━╇━━━━━━━━━━━━━━━━━━━╇━━━━━━━━━━━━╇━━━━━━━━━━━━━━━━━━━┩\n",
              "│ input_layer_1       │ (<span style=\"color: #00d7ff; text-decoration-color: #00d7ff\">None</span>, <span style=\"color: #00af00; text-decoration-color: #00af00\">1024</span>)      │          <span style=\"color: #00af00; text-decoration-color: #00af00\">0</span> │ -                 │\n",
              "│ (<span style=\"color: #0087ff; text-decoration-color: #0087ff\">InputLayer</span>)        │                   │            │                   │\n",
              "├─────────────────────┼───────────────────┼────────────┼───────────────────┤\n",
              "│ input_layer_2       │ (<span style=\"color: #00d7ff; text-decoration-color: #00d7ff\">None</span>, <span style=\"color: #00af00; text-decoration-color: #00af00\">1024</span>)      │          <span style=\"color: #00af00; text-decoration-color: #00af00\">0</span> │ -                 │\n",
              "│ (<span style=\"color: #0087ff; text-decoration-color: #0087ff\">InputLayer</span>)        │                   │            │                   │\n",
              "├─────────────────────┼───────────────────┼────────────┼───────────────────┤\n",
              "│ sequential          │ (<span style=\"color: #00d7ff; text-decoration-color: #00d7ff\">None</span>, <span style=\"color: #00af00; text-decoration-color: #00af00\">32</span>)        │    <span style=\"color: #00af00; text-decoration-color: #00af00\">600,800</span> │ input_layer_1[<span style=\"color: #00af00; text-decoration-color: #00af00\">0</span>]… │\n",
              "│ (<span style=\"color: #0087ff; text-decoration-color: #0087ff\">Sequential</span>)        │                   │            │ input_layer_2[<span style=\"color: #00af00; text-decoration-color: #00af00\">0</span>]… │\n",
              "├─────────────────────┼───────────────────┼────────────┼───────────────────┤\n",
              "│ lambda (<span style=\"color: #0087ff; text-decoration-color: #0087ff\">Lambda</span>)     │ (<span style=\"color: #00d7ff; text-decoration-color: #00d7ff\">None</span>, <span style=\"color: #00af00; text-decoration-color: #00af00\">32</span>)        │          <span style=\"color: #00af00; text-decoration-color: #00af00\">0</span> │ sequential[<span style=\"color: #00af00; text-decoration-color: #00af00\">0</span>][<span style=\"color: #00af00; text-decoration-color: #00af00\">0</span>], │\n",
              "│                     │                   │            │ sequential[<span style=\"color: #00af00; text-decoration-color: #00af00\">1</span>][<span style=\"color: #00af00; text-decoration-color: #00af00\">0</span>]  │\n",
              "├─────────────────────┼───────────────────┼────────────┼───────────────────┤\n",
              "│ dropout_3 (<span style=\"color: #0087ff; text-decoration-color: #0087ff\">Dropout</span>) │ (<span style=\"color: #00d7ff; text-decoration-color: #00d7ff\">None</span>, <span style=\"color: #00af00; text-decoration-color: #00af00\">32</span>)        │          <span style=\"color: #00af00; text-decoration-color: #00af00\">0</span> │ lambda[<span style=\"color: #00af00; text-decoration-color: #00af00\">0</span>][<span style=\"color: #00af00; text-decoration-color: #00af00\">0</span>]      │\n",
              "├─────────────────────┼───────────────────┼────────────┼───────────────────┤\n",
              "│ dense_4 (<span style=\"color: #0087ff; text-decoration-color: #0087ff\">Dense</span>)     │ (<span style=\"color: #00d7ff; text-decoration-color: #00d7ff\">None</span>, <span style=\"color: #00af00; text-decoration-color: #00af00\">1</span>)         │         <span style=\"color: #00af00; text-decoration-color: #00af00\">33</span> │ dropout_3[<span style=\"color: #00af00; text-decoration-color: #00af00\">0</span>][<span style=\"color: #00af00; text-decoration-color: #00af00\">0</span>]   │\n",
              "└─────────────────────┴───────────────────┴────────────┴───────────────────┘\n",
              "</pre>\n"
            ]
          },
          "metadata": {}
        },
        {
          "output_type": "display_data",
          "data": {
            "text/plain": [
              "\u001b[1m Total params: \u001b[0m\u001b[38;5;34m600,833\u001b[0m (2.29 MB)\n"
            ],
            "text/html": [
              "<pre style=\"white-space:pre;overflow-x:auto;line-height:normal;font-family:Menlo,'DejaVu Sans Mono',consolas,'Courier New',monospace\"><span style=\"font-weight: bold\"> Total params: </span><span style=\"color: #00af00; text-decoration-color: #00af00\">600,833</span> (2.29 MB)\n",
              "</pre>\n"
            ]
          },
          "metadata": {}
        },
        {
          "output_type": "display_data",
          "data": {
            "text/plain": [
              "\u001b[1m Trainable params: \u001b[0m\u001b[38;5;34m600,833\u001b[0m (2.29 MB)\n"
            ],
            "text/html": [
              "<pre style=\"white-space:pre;overflow-x:auto;line-height:normal;font-family:Menlo,'DejaVu Sans Mono',consolas,'Courier New',monospace\"><span style=\"font-weight: bold\"> Trainable params: </span><span style=\"color: #00af00; text-decoration-color: #00af00\">600,833</span> (2.29 MB)\n",
              "</pre>\n"
            ]
          },
          "metadata": {}
        },
        {
          "output_type": "display_data",
          "data": {
            "text/plain": [
              "\u001b[1m Non-trainable params: \u001b[0m\u001b[38;5;34m0\u001b[0m (0.00 B)\n"
            ],
            "text/html": [
              "<pre style=\"white-space:pre;overflow-x:auto;line-height:normal;font-family:Menlo,'DejaVu Sans Mono',consolas,'Courier New',monospace\"><span style=\"font-weight: bold\"> Non-trainable params: </span><span style=\"color: #00af00; text-decoration-color: #00af00\">0</span> (0.00 B)\n",
              "</pre>\n"
            ]
          },
          "metadata": {}
        }
      ],
      "source": [
        "# ========================================\n",
        "#           INSTALLING Packages\n",
        "# ========================================\n",
        "!pip install -q torch transformers pandas numpy tensorflow\n",
        "\n",
        "# ========================================\n",
        "#              IMPORTING\n",
        "# ========================================\n",
        "import numpy as np\n",
        "import pandas as pd\n",
        "import tensorflow as tf\n",
        "from tensorflow.keras.models import Model\n",
        "from tensorflow.keras.layers import Input, Dense, Dropout, Lambda\n",
        "import tensorflow.keras.backend as K\n",
        "from transformers import BertTokenizer, BertModel\n",
        "import torch\n",
        "import urllib.request\n",
        "import os\n",
        "import ipywidgets as widgets\n",
        "from IPython.display import display, clear_output\n",
        "\n",
        "# ========================================\n",
        "#         LOADING Model WEIGHTS\n",
        "# ========================================\n",
        "weights_url = \"https://raw.githubusercontent.com/CBRC-lab/SimPep_and_OP-AND/main/weights_only.weights.h5\"\n",
        "weights_path = \"weights_only.weights.h5\"\n",
        "\n",
        "if not os.path.exists(weights_path) or os.path.getsize(weights_path) < 50000:\n",
        "    print(\"Downloading weights...\")\n",
        "    urllib.request.urlretrieve(weights_url, weights_path)\n",
        "\n",
        "# ========================================\n",
        "#         LOADING DATA\n",
        "# ========================================\n",
        "df_pos = pd.read_csv('https://raw.githubusercontent.com/CBRC-lab/SimPep_and_OP-AND/main/PPP_ProtBERT_embeddings.txt', sep=\",\", header=None).iloc[:, 1:-1].drop_duplicates()\n",
        "df_neg1 = pd.read_csv('https://raw.githubusercontent.com/CBRC-lab/SimPep_and_OP-AND/main/NPP_Q5T9C2_ProtBERT_embeddings.txt', sep=\",\", header=None).iloc[:, 1:-1].drop_duplicates()\n",
        "df_neg2 = pd.read_csv('https://raw.githubusercontent.com/CBRC-lab/SimPep_and_OP-AND/main/NPP_Q9CWT3_ProtBERT_embeddings.txt', sep=\",\", header=None).iloc[:, 1:-1].drop_duplicates()\n",
        "df_neg3 = pd.read_csv('https://raw.githubusercontent.com/CBRC-lab/SimPep_and_OP-AND/main/NPP_O88942_ProtBERT_embeddings.txt', sep=\",\", header=None).iloc[:, 1:-1].drop_duplicates()\n",
        "df_neg = pd.concat([df_neg1, df_neg2, df_neg3], ignore_index=True)\n",
        "\n",
        "X1 = df_pos.to_numpy(dtype='float')\n",
        "X0 = df_neg.to_numpy(dtype='float')\n",
        "\n",
        "# ========================================\n",
        "#             LOADING ProtBERT\n",
        "# ========================================\n",
        "tokenizer = BertTokenizer.from_pretrained(\"Rostlab/prot_bert\", do_lower_case=False)\n",
        "modelb = BertModel.from_pretrained(\"Rostlab/prot_bert\")\n",
        "modelb.eval()\n",
        "\n",
        "def embed_peptide_with_protbert(seq):\n",
        "    sequence = ' '.join(seq)\n",
        "    inputs = tokenizer(sequence, return_tensors='pt')\n",
        "    with torch.no_grad():\n",
        "        outputs = modelb(**inputs)\n",
        "        embeddings = outputs.last_hidden_state.squeeze(0)\n",
        "    return torch.mean(embeddings, dim=0).numpy()\n",
        "\n",
        "# ========================================\n",
        "#           BUILDING MODEL\n",
        "# ========================================\n",
        "def build_siamese_model(input_dim):\n",
        "    shared_model = tf.keras.models.Sequential([\n",
        "        Dense(512, input_shape=(input_dim,), activation='relu'),\n",
        "        Dropout(0.2),\n",
        "        Dense(128, activation='relu'),\n",
        "        Dropout(0.2),\n",
        "        Dense(64, activation='relu'),\n",
        "        Dropout(0.2),\n",
        "        Dense(32, activation='relu'),\n",
        "    ])\n",
        "    left_input = Input(shape=(input_dim,))\n",
        "    right_input = Input(shape=(input_dim,))\n",
        "    encoded_l = shared_model(left_input)\n",
        "    encoded_r = shared_model(right_input)\n",
        "    L1 = Lambda(lambda x: K.abs(x[0] - x[1]))([encoded_l, encoded_r])\n",
        "    L1_D = Dropout(0.2)(L1)\n",
        "    prediction = Dense(1, activation='sigmoid')(L1_D)\n",
        "    return Model(inputs=[left_input, right_input], outputs=prediction)\n",
        "\n",
        "input_dim = 1024\n",
        "model = build_siamese_model(input_dim)\n",
        "model.load_weights(weights_path)\n",
        "\n",
        "# ========================================\n",
        "#               PREDICTION\n",
        "# ========================================\n",
        "def RealTest(X, x0_train, x1_train):\n",
        "    dataset_test = []\n",
        "    Indexsample = []\n",
        "    for i in range(len(X)):\n",
        "        for j in range(len(x0_train)):\n",
        "            dataset_test.append(np.concatenate((X[i], x0_train[j])))\n",
        "            Indexsample.append(f\"{i},0\")\n",
        "        for j in range(len(x1_train)):\n",
        "            dataset_test.append(np.concatenate((X[i], x1_train[j])))\n",
        "            Indexsample.append(f\"{i},1\")\n",
        "    return np.asarray(dataset_test), Indexsample\n",
        "\n",
        "def RealPredict(X, test_pred, Indexsample):\n",
        "    Pred = []\n",
        "    for i in range(len(X)):\n",
        "        cnt0Pred, cnt1Pred, cnt0, cnt1 = 0, 0, 0, 0\n",
        "        for j in range(len(Indexsample)):\n",
        "            triplet = Indexsample[j].split(\",\")\n",
        "            if int(triplet[0]) == i:\n",
        "                if int(triplet[1]) == 1:\n",
        "                    cnt1Pred += test_pred[j]\n",
        "                    cnt1 += 1\n",
        "                else:\n",
        "                    cnt0Pred += test_pred[j]\n",
        "                    cnt0 += 1\n",
        "        pos = (1 - (cnt0Pred / cnt0)) + (cnt1Pred / cnt1)\n",
        "        neg = (cnt0Pred / cnt0) + (1 - (cnt1Pred / cnt1))\n",
        "        Pred.append(float(pos / (pos + neg)))\n",
        "    return Pred\n",
        "\n",
        "# ========================================\n",
        "#               GUI\n",
        "# ========================================\n",
        "peptide_input = widgets.Text(\n",
        "    placeholder='Enter peptide sequence',\n",
        "    description='Peptide:',\n",
        "    disabled=False\n",
        ")\n",
        "predict_button = widgets.Button(description=\"Predict Osteogenic Score\")\n",
        "output = widgets.Output()\n",
        "\n",
        "def on_predict_clicked(b):\n",
        "    with output:\n",
        "        clear_output()\n",
        "        seq = peptide_input.value.strip()\n",
        "        if not seq:\n",
        "            print(\"Please enter a valid peptide sequence.\")\n",
        "            return\n",
        "        print(f\"Predicting for sequence: {seq}\")\n",
        "        vector = embed_peptide_with_protbert(seq).reshape(1, -1)\n",
        "        test_data, index_sample = RealTest(vector, X0, X1)\n",
        "        left = test_data[:, :input_dim]\n",
        "        right = test_data[:, input_dim:]\n",
        "        y_pred = model.predict([left, right], verbose=0)\n",
        "        final_score = RealPredict(vector, y_pred, index_sample)\n",
        "        print(f\"✅ Osteogenic Score: {final_score[0]:.4f}\")\n",
        "\n",
        "predict_button.on_click(on_predict_clicked)\n",
        "\n",
        "display(peptide_input, predict_button, output)"
      ]
    }
  ]
}